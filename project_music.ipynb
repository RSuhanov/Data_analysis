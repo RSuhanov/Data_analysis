{
 "cells": [
  {
   "cell_type": "markdown",
   "metadata": {
    "id": "E0vqbgi9ay0H"
   },
   "source": [
    "# Яндекс.Музыка"
   ]
  },
  {
   "cell_type": "markdown",
   "metadata": {
    "id": "VUC88oWjTJw2"
   },
   "source": [
    "Сравнение Москвы и Петербурга окружено мифами. Например:\n",
    " * Москва — мегаполис, подчинённый жёсткому ритму рабочей недели;\n",
    " * Петербург — культурная столица, со своими вкусами.\n",
    "\n",
    "На данных Яндекс.Музыки вы сравните поведение пользователей двух столиц.\n",
    "\n",
    "**Цель исследования** — проверьте три гипотезы:\n",
    "1. Активность пользователей зависит от дня недели. Причём в Москве и Петербурге это проявляется по-разному.\n",
    "2. В понедельник утром в Москве преобладают одни жанры, а в Петербурге — другие. Так же и вечером пятницы преобладают разные жанры — в зависимости от города. \n",
    "3. Москва и Петербург предпочитают разные жанры музыки. В Москве чаще слушают поп-музыку, в Петербурге — русский рэп.\n",
    "\n",
    "**Ход исследования**\n",
    "\n",
    "Данные о поведении пользователей вы получите из файла `yandex_music_project.csv`. О качестве данных ничего не известно. Поэтому перед проверкой гипотез понадобится обзор данных. \n",
    "\n",
    "Вы проверите данные на ошибки и оцените их влияние на исследование. Затем, на этапе предобработки вы поищете возможность исправить самые критичные ошибки данных.\n",
    " \n",
    "Таким образом, исследование пройдёт в три этапа:\n",
    " 1. Обзор данных.\n",
    " 2. Предобработка данных.\n",
    " 3. Проверка гипотез.\n",
    "\n"
   ]
  },
  {
   "cell_type": "markdown",
   "metadata": {
    "id": "Ml1hmfXC_Zcs"
   },
   "source": [
    "## Обзор данных\n",
    "\n",
    "Составьте первое представление о данных Яндекс.Музыки.\n",
    "\n",
    "\n"
   ]
  },
  {
   "cell_type": "markdown",
   "metadata": {
    "id": "57eAOGIz_Zcs"
   },
   "source": [
    "Основной инструмент аналитика — `pandas`. Импортируйте эту библиотеку."
   ]
  },
  {
   "cell_type": "code",
   "execution_count": 4,
   "metadata": {
    "id": "AXN7PHPN_Zcs"
   },
   "outputs": [],
   "source": [
    "# импорт библиотеки pandas\n",
    "import pandas as pd"
   ]
  },
  {
   "cell_type": "markdown",
   "metadata": {
    "id": "SG23P8tt_Zcs"
   },
   "source": [
    "Прочитайте файл `yandex_music_project.csv` из папки `/datasets` и сохраните его в переменной `df`:"
   ]
  },
  {
   "cell_type": "code",
   "execution_count": 5,
   "metadata": {
    "id": "fFVu7vqh_Zct"
   },
   "outputs": [],
   "source": [
    "# чтение файла с данными и сохранение в df\n",
    "df = pd.read_csv('D:\\\\Datasets\\\\yandex_music_project.csv')"
   ]
  },
  {
   "cell_type": "markdown",
   "metadata": {
    "id": "rDoOMd3uTqnZ"
   },
   "source": [
    "Выведите на экран первые десять строк таблицы:"
   ]
  },
  {
   "cell_type": "code",
   "execution_count": 6,
   "metadata": {
    "id": "oWTVX3gW_Zct"
   },
   "outputs": [
    {
     "data": {
      "text/html": [
       "<div>\n",
       "<style scoped>\n",
       "    .dataframe tbody tr th:only-of-type {\n",
       "        vertical-align: middle;\n",
       "    }\n",
       "\n",
       "    .dataframe tbody tr th {\n",
       "        vertical-align: top;\n",
       "    }\n",
       "\n",
       "    .dataframe thead th {\n",
       "        text-align: right;\n",
       "    }\n",
       "</style>\n",
       "<table border=\"1\" class=\"dataframe\">\n",
       "  <thead>\n",
       "    <tr style=\"text-align: right;\">\n",
       "      <th></th>\n",
       "      <th>userID</th>\n",
       "      <th>Track</th>\n",
       "      <th>artist</th>\n",
       "      <th>genre</th>\n",
       "      <th>City</th>\n",
       "      <th>time</th>\n",
       "      <th>Day</th>\n",
       "    </tr>\n",
       "  </thead>\n",
       "  <tbody>\n",
       "    <tr>\n",
       "      <th>0</th>\n",
       "      <td>FFB692EC</td>\n",
       "      <td>Kamigata To Boots</td>\n",
       "      <td>The Mass Missile</td>\n",
       "      <td>rock</td>\n",
       "      <td>Saint-Petersburg</td>\n",
       "      <td>20:28:33</td>\n",
       "      <td>Wednesday</td>\n",
       "    </tr>\n",
       "    <tr>\n",
       "      <th>1</th>\n",
       "      <td>55204538</td>\n",
       "      <td>Delayed Because of Accident</td>\n",
       "      <td>Andreas Rönnberg</td>\n",
       "      <td>rock</td>\n",
       "      <td>Moscow</td>\n",
       "      <td>14:07:09</td>\n",
       "      <td>Friday</td>\n",
       "    </tr>\n",
       "    <tr>\n",
       "      <th>2</th>\n",
       "      <td>20EC38</td>\n",
       "      <td>Funiculì funiculà</td>\n",
       "      <td>Mario Lanza</td>\n",
       "      <td>pop</td>\n",
       "      <td>Saint-Petersburg</td>\n",
       "      <td>20:58:07</td>\n",
       "      <td>Wednesday</td>\n",
       "    </tr>\n",
       "    <tr>\n",
       "      <th>3</th>\n",
       "      <td>A3DD03C9</td>\n",
       "      <td>Dragons in the Sunset</td>\n",
       "      <td>Fire + Ice</td>\n",
       "      <td>folk</td>\n",
       "      <td>Saint-Petersburg</td>\n",
       "      <td>08:37:09</td>\n",
       "      <td>Monday</td>\n",
       "    </tr>\n",
       "    <tr>\n",
       "      <th>4</th>\n",
       "      <td>E2DC1FAE</td>\n",
       "      <td>Soul People</td>\n",
       "      <td>Space Echo</td>\n",
       "      <td>dance</td>\n",
       "      <td>Moscow</td>\n",
       "      <td>08:34:34</td>\n",
       "      <td>Monday</td>\n",
       "    </tr>\n",
       "    <tr>\n",
       "      <th>5</th>\n",
       "      <td>842029A1</td>\n",
       "      <td>Преданная</td>\n",
       "      <td>IMPERVTOR</td>\n",
       "      <td>rusrap</td>\n",
       "      <td>Saint-Petersburg</td>\n",
       "      <td>13:09:41</td>\n",
       "      <td>Friday</td>\n",
       "    </tr>\n",
       "    <tr>\n",
       "      <th>6</th>\n",
       "      <td>4CB90AA5</td>\n",
       "      <td>True</td>\n",
       "      <td>Roman Messer</td>\n",
       "      <td>dance</td>\n",
       "      <td>Moscow</td>\n",
       "      <td>13:00:07</td>\n",
       "      <td>Wednesday</td>\n",
       "    </tr>\n",
       "    <tr>\n",
       "      <th>7</th>\n",
       "      <td>F03E1C1F</td>\n",
       "      <td>Feeling This Way</td>\n",
       "      <td>Polina Griffith</td>\n",
       "      <td>dance</td>\n",
       "      <td>Moscow</td>\n",
       "      <td>20:47:49</td>\n",
       "      <td>Wednesday</td>\n",
       "    </tr>\n",
       "    <tr>\n",
       "      <th>8</th>\n",
       "      <td>8FA1D3BE</td>\n",
       "      <td>И вновь продолжается бой</td>\n",
       "      <td>NaN</td>\n",
       "      <td>ruspop</td>\n",
       "      <td>Moscow</td>\n",
       "      <td>09:17:40</td>\n",
       "      <td>Friday</td>\n",
       "    </tr>\n",
       "    <tr>\n",
       "      <th>9</th>\n",
       "      <td>E772D5C0</td>\n",
       "      <td>Pessimist</td>\n",
       "      <td>NaN</td>\n",
       "      <td>dance</td>\n",
       "      <td>Saint-Petersburg</td>\n",
       "      <td>21:20:49</td>\n",
       "      <td>Wednesday</td>\n",
       "    </tr>\n",
       "  </tbody>\n",
       "</table>\n",
       "</div>"
      ],
      "text/plain": [
       "     userID                        Track            artist   genre  \\\n",
       "0  FFB692EC            Kamigata To Boots  The Mass Missile    rock   \n",
       "1  55204538  Delayed Because of Accident  Andreas Rönnberg    rock   \n",
       "2    20EC38            Funiculì funiculà       Mario Lanza     pop   \n",
       "3  A3DD03C9        Dragons in the Sunset        Fire + Ice    folk   \n",
       "4  E2DC1FAE                  Soul People        Space Echo   dance   \n",
       "5  842029A1                    Преданная         IMPERVTOR  rusrap   \n",
       "6  4CB90AA5                         True      Roman Messer   dance   \n",
       "7  F03E1C1F             Feeling This Way   Polina Griffith   dance   \n",
       "8  8FA1D3BE     И вновь продолжается бой               NaN  ruspop   \n",
       "9  E772D5C0                    Pessimist               NaN   dance   \n",
       "\n",
       "             City        time        Day  \n",
       "0  Saint-Petersburg  20:28:33  Wednesday  \n",
       "1            Moscow  14:07:09     Friday  \n",
       "2  Saint-Petersburg  20:58:07  Wednesday  \n",
       "3  Saint-Petersburg  08:37:09     Monday  \n",
       "4            Moscow  08:34:34     Monday  \n",
       "5  Saint-Petersburg  13:09:41     Friday  \n",
       "6            Moscow  13:00:07  Wednesday  \n",
       "7            Moscow  20:47:49  Wednesday  \n",
       "8            Moscow  09:17:40     Friday  \n",
       "9  Saint-Petersburg  21:20:49  Wednesday  "
      ]
     },
     "execution_count": 6,
     "metadata": {},
     "output_type": "execute_result"
    }
   ],
   "source": [
    "# получение первых 10 строк таблицы df\n",
    "df.head(10)"
   ]
  },
  {
   "cell_type": "markdown",
   "metadata": {
    "id": "EO73Kwic_Zct"
   },
   "source": [
    "Одной командой получить общую информацию о таблице:"
   ]
  },
  {
   "cell_type": "code",
   "execution_count": 7,
   "metadata": {
    "id": "DSf2kIb-_Zct"
   },
   "outputs": [
    {
     "name": "stdout",
     "output_type": "stream",
     "text": [
      "<class 'pandas.core.frame.DataFrame'>\n",
      "RangeIndex: 65079 entries, 0 to 65078\n",
      "Data columns (total 7 columns):\n",
      " #   Column    Non-Null Count  Dtype \n",
      "---  ------    --------------  ----- \n",
      " 0     userID  65079 non-null  object\n",
      " 1   Track     63848 non-null  object\n",
      " 2   artist    57876 non-null  object\n",
      " 3   genre     63881 non-null  object\n",
      " 4     City    65079 non-null  object\n",
      " 5   time      65079 non-null  object\n",
      " 6   Day       65079 non-null  object\n",
      "dtypes: object(7)\n",
      "memory usage: 3.5+ MB\n"
     ]
    }
   ],
   "source": [
    "# получение общей информации о данных в таблице df\n",
    "df.info()"
   ]
  },
  {
   "cell_type": "markdown",
   "metadata": {
    "id": "TaQ2Iwbr_Zct"
   },
   "source": [
    "Итак, в таблице семь столбцов. Тип данных во всех столбцах — `object`.\n",
    "\n",
    "Согласно документации к данным:\n",
    "* `userID` — идентификатор пользователя;\n",
    "* `Track` — название трека;  \n",
    "* `artist` — имя исполнителя;\n",
    "* `genre` — название жанра;\n",
    "* `City` — город пользователя;\n",
    "* `time` — время начала прослушивания;\n",
    "* `Day` — день недели.\n",
    "\n",
    "В названиях колонок видны три нарушения стиля:\n",
    "1. Строчные буквы сочетаются с прописными.\n",
    "2. Встречаются пробелы.\n",
    "3. Несколько слов разделяют нижним подчеркиванием.\n",
    "\n",
    "\n",
    "\n",
    "Количество значений в столбцах: userID, artist, genre отличаются от остальных. Значит, в данных есть пропущенные значения. Для проверки гипотез анализируем информацию в колонках: time, Day, City, genre. \n"
   ]
  },
  {
   "cell_type": "markdown",
   "metadata": {
    "id": "MCB6-dXG_Zct"
   },
   "source": [
    "**Выводы**\n",
    "\n",
    "В каждой строке таблицы — данные о прослушанном треке. Часть колонок описывает саму композицию: название, исполнителя и жанр. Остальные данные рассказывают о пользователе: из какого он города, когда он слушал музыку. \n",
    "\n",
    "Предварительно можно утверждать, что, данных достаточно для проверки гипотез. Но встречаются пропуски в данных, а в названиях колонок — расхождения с хорошим стилем.\n",
    "\n",
    "Чтобы двигаться дальше, нужно устранить проблемы в данных."
   ]
  },
  {
   "cell_type": "markdown",
   "metadata": {
    "id": "SjYF6Ub9_Zct"
   },
   "source": [
    "## Предобработка данных\n",
    "Исправьте стиль в заголовках столбцов, исключите пропуски. Затем проверьте данные на дубликаты."
   ]
  },
  {
   "cell_type": "markdown",
   "metadata": {
    "id": "dIaKXr29_Zct"
   },
   "source": [
    "### Стиль заголовков\n",
    "Выведите на экран названия столбцов:"
   ]
  },
  {
   "cell_type": "code",
   "execution_count": 8,
   "metadata": {
    "id": "oKOTdF_Q_Zct"
   },
   "outputs": [
    {
     "data": {
      "text/plain": [
       "Index(['  userID', 'Track', 'artist', 'genre', '  City  ', 'time', 'Day'], dtype='object')"
      ]
     },
     "execution_count": 8,
     "metadata": {},
     "output_type": "execute_result"
    }
   ],
   "source": [
    "# перечень названий столбцов таблицы df\n",
    "df.columns"
   ]
  },
  {
   "cell_type": "markdown",
   "metadata": {
    "id": "zj5534cv_Zct"
   },
   "source": [
    "Приведите названия в соответствие с хорошим стилем:\n",
    "* несколько слов в названии запишите в «змеином_регистре»,\n",
    "* все символы сделайте строчными,\n",
    "* устраните пробелы.\n",
    "\n",
    "Для этого переименуйте колонки так:\n",
    "* `'  userID'` → `'user_id'`;\n",
    "* `'Track'` → `'track'`;\n",
    "* `'  City  '` → `'city'`;\n",
    "* `'Day'` → `'day'`."
   ]
  },
  {
   "cell_type": "code",
   "execution_count": 9,
   "metadata": {
    "id": "ISlFqs5y_Zct"
   },
   "outputs": [],
   "source": [
    "# переименование столбцов\n",
    "df = df.rename(columns={df.columns[0]:'user_id', df.columns[1]:'track', df.columns[4]:'city', df.columns[6]:'day' })"
   ]
  },
  {
   "cell_type": "markdown",
   "metadata": {
    "id": "1dqbh00J_Zct"
   },
   "source": [
    "Проверьте результат. Для этого ещё раз выведите на экран названия столбцов:"
   ]
  },
  {
   "cell_type": "code",
   "execution_count": 10,
   "metadata": {
    "id": "d4NOAmTW_Zct"
   },
   "outputs": [
    {
     "data": {
      "text/plain": [
       "Index(['user_id', 'track', 'artist', 'genre', 'city', 'time', 'day'], dtype='object')"
      ]
     },
     "execution_count": 10,
     "metadata": {},
     "output_type": "execute_result"
    }
   ],
   "source": [
    "# проверка результатов - перечень названий столбцов\n",
    "df.columns"
   ]
  },
  {
   "cell_type": "markdown",
   "metadata": {
    "id": "5ISfbcfY_Zct"
   },
   "source": [
    "### Пропуски значений\n",
    "Сначала посчитайте, сколько в таблице пропущенных значений. Для этого достаточно двух методов `pandas`:"
   ]
  },
  {
   "cell_type": "code",
   "execution_count": 11,
   "metadata": {
    "id": "RskX29qr_Zct"
   },
   "outputs": [
    {
     "data": {
      "text/plain": [
       "user_id       0\n",
       "track      1231\n",
       "artist     7203\n",
       "genre      1198\n",
       "city          0\n",
       "time          0\n",
       "day           0\n",
       "dtype: int64"
      ]
     },
     "execution_count": 11,
     "metadata": {},
     "output_type": "execute_result"
    }
   ],
   "source": [
    "# подсчёт пропусков\n",
    "df.isnull().sum()"
   ]
  },
  {
   "cell_type": "markdown",
   "metadata": {
    "id": "qubhgnlO_Zct"
   },
   "source": [
    "Не все пропущенные значения влияют на исследование. Так в `track` и `artist` пропуски не важны для вашей работы. Достаточно заменить их явными обозначениями.\n",
    "\n",
    "Но пропуски в `genre` могут помешать сравнению музыкальных вкусов в Москве и Санкт-Петербурге. На практике было бы правильно установить причину пропусков и восстановить данные. Такой возможности нет в учебном проекте. Придётся:\n",
    "* заполнить и эти пропуски явными обозначениями,\n",
    "* оценить, насколько они повредят расчётам. "
   ]
  },
  {
   "cell_type": "markdown",
   "metadata": {
    "id": "fSv2laPA_Zct"
   },
   "source": [
    "Замените пропущенные значения в столбцах `track`, `artist` и `genre` на строку `'unknown'`. Для этого создайте список `columns_to_replace`, переберите его элементы циклом `for` и для каждого столбца выполните замену пропущенных значений:"
   ]
  },
  {
   "cell_type": "code",
   "execution_count": 12,
   "metadata": {
    "id": "KplB5qWs_Zct"
   },
   "outputs": [],
   "source": [
    "# перебор названий столбцов в цикле и замена пропущенных значений на 'unknown'\n",
    "columns_to_replace = ['track', 'artist', 'genre']\n",
    "for value in columns_to_replace:\n",
    "    df[value] = df[value].fillna('unknown')"
   ]
  },
  {
   "cell_type": "markdown",
   "metadata": {
    "id": "Ilsm-MZo_Zct"
   },
   "source": [
    "Убедитесь, что в таблице не осталось пропусков. Для этого ещё раз посчитайте пропущенные значения."
   ]
  },
  {
   "cell_type": "code",
   "execution_count": 13,
   "metadata": {
    "id": "Tq4nYRX4_Zct"
   },
   "outputs": [
    {
     "data": {
      "text/plain": [
       "user_id    0\n",
       "track      0\n",
       "artist     0\n",
       "genre      0\n",
       "city       0\n",
       "time       0\n",
       "day        0\n",
       "dtype: int64"
      ]
     },
     "execution_count": 13,
     "metadata": {},
     "output_type": "execute_result"
    }
   ],
   "source": [
    "# подсчёт пропусков\n",
    "df.isna().sum()"
   ]
  },
  {
   "cell_type": "markdown",
   "metadata": {
    "id": "BWKRtBJ3_Zct"
   },
   "source": [
    "### Дубликаты\n",
    "Посчитайте явные дубликаты в таблице одной командой:"
   ]
  },
  {
   "cell_type": "code",
   "execution_count": 14,
   "metadata": {
    "id": "36eES_S0_Zct"
   },
   "outputs": [
    {
     "data": {
      "text/plain": [
       "3826"
      ]
     },
     "execution_count": 14,
     "metadata": {},
     "output_type": "execute_result"
    }
   ],
   "source": [
    "# подсчёт явных дубликатов\n",
    "df.duplicated().sum()"
   ]
  },
  {
   "cell_type": "markdown",
   "metadata": {
    "id": "Ot25h6XR_Zct"
   },
   "source": [
    "Вызовите специальный метод `pandas`, чтобы удалить явные дубликаты:"
   ]
  },
  {
   "cell_type": "code",
   "execution_count": 15,
   "metadata": {
    "id": "exFHq6tt_Zct"
   },
   "outputs": [],
   "source": [
    "# удаление явных дубликатов (с удалением старых индексов и формированием новых)\n",
    "df = df.drop_duplicates().reset_index(drop=True)"
   ]
  },
  {
   "cell_type": "markdown",
   "metadata": {
    "id": "Im2YwBEG_Zct"
   },
   "source": [
    "Ещё раз посчитайте явные дубликаты в таблице — убедитесь, что полностью от них избавились:"
   ]
  },
  {
   "cell_type": "code",
   "execution_count": 16,
   "metadata": {
    "id": "-8PuNWQ0_Zct"
   },
   "outputs": [
    {
     "data": {
      "text/plain": [
       "0"
      ]
     },
     "execution_count": 16,
     "metadata": {},
     "output_type": "execute_result"
    }
   ],
   "source": [
    "# проверка на отсутствие дубликатов\n",
    "df.duplicated().sum()"
   ]
  },
  {
   "cell_type": "markdown",
   "metadata": {
    "id": "QlFBsxAr_Zct"
   },
   "source": [
    "Теперь избавьтесь от неявных дубликатов в колонке `genre`. Например, название одного и того же жанра может быть записано немного по-разному. Такие ошибки тоже повлияют на результат исследования."
   ]
  },
  {
   "cell_type": "markdown",
   "metadata": {
    "id": "eSjWwsOh_Zct"
   },
   "source": [
    "Выведите на экран список уникальных названий жанров, отсортированный в алфавитном порядке. Для этого:\n",
    "* извлеките нужный столбец датафрейма, \n",
    "* примените к нему метод сортировки,\n",
    "* для отсортированного столбца вызовите метод, который вернёт уникальные значения из столбца."
   ]
  },
  {
   "cell_type": "code",
   "execution_count": 17,
   "metadata": {
    "id": "JIUcqzZN_Zct"
   },
   "outputs": [
    {
     "data": {
      "text/plain": [
       "array(['acid', 'acoustic', 'action', 'adult', 'africa', 'afrikaans',\n",
       "       'alternative', 'alternativepunk', 'ambient', 'americana',\n",
       "       'animated', 'anime', 'arabesk', 'arabic', 'arena',\n",
       "       'argentinetango', 'art', 'audiobook', 'author', 'avantgarde',\n",
       "       'axé', 'baile', 'balkan', 'beats', 'bigroom', 'black', 'bluegrass',\n",
       "       'blues', 'bollywood', 'bossa', 'brazilian', 'breakbeat', 'breaks',\n",
       "       'broadway', 'cantautori', 'cantopop', 'canzone', 'caribbean',\n",
       "       'caucasian', 'celtic', 'chamber', 'chanson', 'children', 'chill',\n",
       "       'chinese', 'choral', 'christian', 'christmas', 'classical',\n",
       "       'classicmetal', 'club', 'colombian', 'comedy', 'conjazz',\n",
       "       'contemporary', 'country', 'cuban', 'dance', 'dancehall',\n",
       "       'dancepop', 'dark', 'death', 'deep', 'deutschrock', 'deutschspr',\n",
       "       'dirty', 'disco', 'dnb', 'documentary', 'downbeat', 'downtempo',\n",
       "       'drum', 'dub', 'dubstep', 'eastern', 'easy', 'electronic',\n",
       "       'electropop', 'emo', 'entehno', 'epicmetal', 'estrada', 'ethnic',\n",
       "       'eurofolk', 'european', 'experimental', 'extrememetal', 'fado',\n",
       "       'fairytail', 'film', 'fitness', 'flamenco', 'folk', 'folklore',\n",
       "       'folkmetal', 'folkrock', 'folktronica', 'forró', 'frankreich',\n",
       "       'französisch', 'french', 'funk', 'future', 'gangsta', 'garage',\n",
       "       'german', 'ghazal', 'gitarre', 'glitch', 'gospel', 'gothic',\n",
       "       'grime', 'grunge', 'gypsy', 'handsup', \"hard'n'heavy\", 'hardcore',\n",
       "       'hardstyle', 'hardtechno', 'hip', 'hip-hop', 'hiphop',\n",
       "       'historisch', 'holiday', 'hop', 'horror', 'house', 'hymn', 'idm',\n",
       "       'independent', 'indian', 'indie', 'indipop', 'industrial',\n",
       "       'inspirational', 'instrumental', 'international', 'irish', 'jam',\n",
       "       'japanese', 'jazz', 'jewish', 'jpop', 'jungle', 'k-pop',\n",
       "       'karadeniz', 'karaoke', 'kayokyoku', 'korean', 'laiko', 'latin',\n",
       "       'latino', 'leftfield', 'local', 'lounge', 'loungeelectronic',\n",
       "       'lovers', 'malaysian', 'mandopop', 'marschmusik', 'meditative',\n",
       "       'mediterranean', 'melodic', 'metal', 'metalcore', 'mexican',\n",
       "       'middle', 'minimal', 'miscellaneous', 'modern', 'mood', 'mpb',\n",
       "       'muslim', 'native', 'neoklassik', 'neue', 'new', 'newage',\n",
       "       'newwave', 'nu', 'nujazz', 'numetal', 'oceania', 'old', 'opera',\n",
       "       'orchestral', 'other', 'piano', 'podcasts', 'pop', 'popdance',\n",
       "       'popelectronic', 'popeurodance', 'poprussian', 'post',\n",
       "       'posthardcore', 'postrock', 'power', 'progmetal', 'progressive',\n",
       "       'psychedelic', 'punjabi', 'punk', 'quebecois', 'ragga', 'ram',\n",
       "       'rancheras', 'rap', 'rave', 'reggae', 'reggaeton', 'regional',\n",
       "       'relax', 'religious', 'retro', 'rhythm', 'rnb', 'rnr', 'rock',\n",
       "       'rockabilly', 'rockalternative', 'rockindie', 'rockother',\n",
       "       'romance', 'roots', 'ruspop', 'rusrap', 'rusrock', 'russian',\n",
       "       'salsa', 'samba', 'scenic', 'schlager', 'self', 'sertanejo',\n",
       "       'shanson', 'shoegazing', 'showtunes', 'singer', 'ska', 'skarock',\n",
       "       'slow', 'smooth', 'soft', 'soul', 'soulful', 'sound', 'soundtrack',\n",
       "       'southern', 'specialty', 'speech', 'spiritual', 'sport',\n",
       "       'stonerrock', 'surf', 'swing', 'synthpop', 'synthrock',\n",
       "       'sängerportrait', 'tango', 'tanzorchester', 'taraftar', 'tatar',\n",
       "       'tech', 'techno', 'teen', 'thrash', 'top', 'traditional',\n",
       "       'tradjazz', 'trance', 'tribal', 'trip', 'triphop', 'tropical',\n",
       "       'türk', 'türkçe', 'ukrrock', 'unknown', 'urban', 'uzbek',\n",
       "       'variété', 'vi', 'videogame', 'vocal', 'western', 'world',\n",
       "       'worldbeat', 'ïîï', 'электроника'], dtype=object)"
      ]
     },
     "metadata": {},
     "output_type": "display_data"
    }
   ],
   "source": [
    "# Просмотр уникальных названий жанров\n",
    "genre_list = df['genre'].sort_values().unique()\n",
    "display(genre_list)"
   ]
  },
  {
   "cell_type": "markdown",
   "metadata": {
    "id": "qej-Qmuo_Zct"
   },
   "source": [
    "Просмотрите список и найдите неявные дубликаты названия `hiphop`. Это могут быть названия с ошибками или альтернативные названия того же жанра.\n",
    "\n",
    "Вы увидите следующие неявные дубликаты:\n",
    "* *hip*,\n",
    "* *hop*,\n",
    "* *hip-hop*.\n",
    "\n",
    "Чтобы очистить от них таблицу, напишите функцию `replace_wrong_genres()` с двумя параметрами: \n",
    "* `wrong_genres` — список дубликатов,\n",
    "* `correct_genre` — строка с правильным значением.\n",
    "\n",
    "Функция должна исправить колонку `genre` в таблице `df`: заменить каждое значение из списка `wrong_genres` на значение из `correct_genre`."
   ]
  },
  {
   "cell_type": "code",
   "execution_count": 18,
   "metadata": {
    "id": "ErNDkmns_Zct"
   },
   "outputs": [],
   "source": [
    "# Функция для замены неявных дубликатов\n",
    "def replace_wrong_genres(wrong_genres, correct_genre):\n",
    "    for value in wrong_genres: \n",
    "        df['genre'] = df['genre'].replace(value, correct_genre)\n",
    "    "
   ]
  },
  {
   "cell_type": "markdown",
   "metadata": {
    "id": "aDoBJxbA_Zct"
   },
   "source": [
    "Вызовите `replace_wrong_genres()` и передайте ей такие аргументы, чтобы она устранила неявные дубликаты: вместо `hip`, `hop` и `hip-hop` в таблице должно быть значение `hiphop`:"
   ]
  },
  {
   "cell_type": "code",
   "execution_count": 19,
   "metadata": {
    "id": "YN5i2hpmSo09"
   },
   "outputs": [],
   "source": [
    "# Устранение неявных дубликатов\n",
    "duplicates_genres = ['hip', 'hop', 'hip-hop']\n",
    "correct_name = 'hiphop'\n",
    "replace_wrong_genres(duplicates_genres, correct_name)"
   ]
  },
  {
   "cell_type": "markdown",
   "metadata": {
    "id": "zQKF16_RG15m"
   },
   "source": [
    "Проверьте, что заменили неправильные названия:\n",
    "\n",
    "*   hip\n",
    "*   hop\n",
    "*   hip-hop\n",
    "\n",
    "Выведите отсортированный список уникальных значений столбца `genre`:"
   ]
  },
  {
   "cell_type": "code",
   "execution_count": 20,
   "metadata": {
    "id": "wvixALnFG15m"
   },
   "outputs": [
    {
     "data": {
      "text/plain": [
       "0"
      ]
     },
     "metadata": {},
     "output_type": "display_data"
    },
    {
     "data": {
      "text/plain": [
       "0"
      ]
     },
     "metadata": {},
     "output_type": "display_data"
    },
    {
     "data": {
      "text/plain": [
       "0"
      ]
     },
     "metadata": {},
     "output_type": "display_data"
    },
    {
     "data": {
      "text/plain": [
       "3056"
      ]
     },
     "metadata": {},
     "output_type": "display_data"
    },
    {
     "data": {
      "text/plain": [
       "array(['rock', 'pop', 'folk', 'dance', 'rusrap', 'ruspop', 'world',\n",
       "       'electronic', 'unknown', 'alternative', 'children', 'rnb',\n",
       "       'hiphop', 'jazz', 'postrock', 'latin', 'classical', 'metal',\n",
       "       'reggae', 'tatar', 'blues', 'instrumental', 'rusrock', 'dnb',\n",
       "       'türk', 'post', 'country', 'psychedelic', 'conjazz', 'indie',\n",
       "       'posthardcore', 'local', 'avantgarde', 'punk', 'videogame',\n",
       "       'techno', 'house', 'christmas', 'melodic', 'caucasian',\n",
       "       'reggaeton', 'soundtrack', 'singer', 'ska', 'shanson', 'ambient',\n",
       "       'film', 'western', 'rap', 'beats', \"hard'n'heavy\", 'progmetal',\n",
       "       'minimal', 'contemporary', 'new', 'soul', 'holiday', 'german',\n",
       "       'tropical', 'fairytail', 'spiritual', 'urban', 'gospel', 'nujazz',\n",
       "       'folkmetal', 'trance', 'miscellaneous', 'anime', 'hardcore',\n",
       "       'progressive', 'chanson', 'numetal', 'vocal', 'estrada', 'russian',\n",
       "       'classicmetal', 'dubstep', 'club', 'deep', 'southern', 'black',\n",
       "       'folkrock', 'fitness', 'french', 'disco', 'religious', 'drum',\n",
       "       'extrememetal', 'türkçe', 'experimental', 'easy', 'metalcore',\n",
       "       'modern', 'argentinetango', 'old', 'breaks', 'eurofolk',\n",
       "       'stonerrock', 'industrial', 'funk', 'jpop', 'middle', 'variété',\n",
       "       'other', 'adult', 'christian', 'gothic', 'international', 'muslim',\n",
       "       'relax', 'schlager', 'caribbean', 'ukrrock', 'nu', 'breakbeat',\n",
       "       'comedy', 'chill', 'newage', 'specialty', 'uzbek', 'k-pop',\n",
       "       'balkan', 'chinese', 'meditative', 'dub', 'power', 'death',\n",
       "       'grime', 'arabesk', 'romance', 'flamenco', 'leftfield', 'european',\n",
       "       'tech', 'newwave', 'dancehall', 'mpb', 'piano', 'top', 'bigroom',\n",
       "       'opera', 'celtic', 'tradjazz', 'acoustic', 'epicmetal',\n",
       "       'historisch', 'downbeat', 'downtempo', 'africa', 'audiobook',\n",
       "       'jewish', 'sängerportrait', 'deutschrock', 'eastern', 'action',\n",
       "       'future', 'electropop', 'folklore', 'bollywood', 'marschmusik',\n",
       "       'rnr', 'karaoke', 'indian', 'rancheras', 'электроника',\n",
       "       'afrikaans', 'tango', 'rhythm', 'sound', 'deutschspr', 'trip',\n",
       "       'lovers', 'choral', 'dancepop', 'podcasts', 'retro', 'smooth',\n",
       "       'mexican', 'brazilian', 'ïîï', 'mood', 'surf', 'author', 'gangsta',\n",
       "       'triphop', 'inspirational', 'idm', 'ethnic', 'bluegrass',\n",
       "       'broadway', 'animated', 'americana', 'karadeniz', 'rockabilly',\n",
       "       'colombian', 'self', 'synthrock', 'sertanejo', 'japanese',\n",
       "       'canzone', 'swing', 'lounge', 'sport', 'korean', 'ragga',\n",
       "       'traditional', 'gitarre', 'frankreich', 'alternativepunk', 'emo',\n",
       "       'laiko', 'cantopop', 'glitch', 'documentary', 'rockalternative',\n",
       "       'thrash', 'hymn', 'oceania', 'rockother', 'popeurodance', 'dark',\n",
       "       'vi', 'grunge', 'hardstyle', 'samba', 'garage', 'soft', 'art',\n",
       "       'folktronica', 'entehno', 'mediterranean', 'chamber', 'cuban',\n",
       "       'taraftar', 'rockindie', 'gypsy', 'hardtechno', 'shoegazing',\n",
       "       'skarock', 'bossa', 'salsa', 'latino', 'worldbeat', 'malaysian',\n",
       "       'baile', 'ghazal', 'loungeelectronic', 'arabic', 'popelectronic',\n",
       "       'acid', 'kayokyoku', 'neoklassik', 'tribal', 'tanzorchester',\n",
       "       'native', 'independent', 'cantautori', 'handsup', 'poprussian',\n",
       "       'punjabi', 'synthpop', 'rave', 'französisch', 'quebecois',\n",
       "       'speech', 'soulful', 'teen', 'jam', 'ram', 'horror', 'scenic',\n",
       "       'orchestral', 'neue', 'roots', 'slow', 'jungle', 'indipop', 'axé',\n",
       "       'fado', 'showtunes', 'arena', 'irish', 'mandopop', 'forró',\n",
       "       'popdance', 'dirty', 'regional'], dtype=object)"
      ]
     },
     "metadata": {},
     "output_type": "display_data"
    },
    {
     "name": "stdout",
     "output_type": "stream",
     "text": [
      "<class 'pandas.core.frame.DataFrame'>\n",
      "RangeIndex: 61253 entries, 0 to 61252\n",
      "Data columns (total 7 columns):\n",
      " #   Column   Non-Null Count  Dtype \n",
      "---  ------   --------------  ----- \n",
      " 0   user_id  61253 non-null  object\n",
      " 1   track    61253 non-null  object\n",
      " 2   artist   61253 non-null  object\n",
      " 3   genre    61253 non-null  object\n",
      " 4   city     61253 non-null  object\n",
      " 5   time     61253 non-null  object\n",
      " 6   day      61253 non-null  object\n",
      "dtypes: object(7)\n",
      "memory usage: 3.3+ MB\n"
     ]
    }
   ],
   "source": [
    "# Проверка на неявные дубликаты\n",
    "genre_check = df[df['genre']=='hip']['genre'].count()\n",
    "display(genre_check)\n",
    "genre_check = df[df['genre']=='hop']['genre'].count()\n",
    "display(genre_check)\n",
    "genre_check = df[df['genre']=='hip-hop']['genre'].count()\n",
    "display(genre_check)\n",
    "genre_check = df[df['genre']=='hiphop']['genre'].count()\n",
    "display(genre_check)\n",
    "genre_list = df['genre'].unique()\n",
    "display(genre_list)\n",
    "df.info()"
   ]
  },
  {
   "cell_type": "markdown",
   "metadata": {
    "id": "jz6a9-7HQUDd"
   },
   "source": [
    "**Выводы**\n",
    "\n",
    "Предобработка обнаружила три проблемы в данных:\n",
    "\n",
    "- нарушения в стиле заголовков,\n",
    "- пропущенные значения,\n",
    "- дубликаты — явные и неявные.\n",
    "\n",
    "Вы исправили заголовки, чтобы упростить работу с таблицей. Без дубликатов исследование станет более точным.\n",
    "\n",
    "Пропущенные значения вы заменили на `'unknown'`. Ещё предстоит увидеть, не повредят ли исследованию пропуски в колонке `genre`.\n",
    "\n",
    "Теперь можно перейти к проверке гипотез. "
   ]
  },
  {
   "cell_type": "markdown",
   "metadata": {
    "id": "WttZHXH0SqKk"
   },
   "source": [
    "## Проверка гипотез"
   ]
  },
  {
   "cell_type": "markdown",
   "metadata": {
    "id": "Im936VVi_Zcu"
   },
   "source": [
    "### Сравнение поведения пользователей двух столиц"
   ]
  },
  {
   "cell_type": "markdown",
   "metadata": {
    "id": "nwt_MuaL_Zcu"
   },
   "source": [
    "Первая гипотеза утверждает, что пользователи по-разному слушают музыку в Москве и Санкт-Петербурге. Проверьте это предположение по данным о трёх днях недели — понедельнике, среде и пятнице. Для этого:\n",
    "\n",
    "* Разделите пользователей Москвы и Санкт-Петербурга\n",
    "* Сравните, сколько треков послушала каждая группа пользователей в понедельник, среду и пятницу.\n"
   ]
  },
  {
   "cell_type": "markdown",
   "metadata": {
    "id": "8Dw_YMmT_Zcu"
   },
   "source": [
    "Для тренировки сначала выполните каждый из расчётов по отдельности. \n",
    "\n",
    "Оцените активность пользователей в каждом городе. Сгруппируйте данные по городу и посчитайте прослушивания в каждой группе.\n",
    "\n"
   ]
  },
  {
   "cell_type": "code",
   "execution_count": 21,
   "metadata": {
    "id": "0_Qs96oh_Zcu"
   },
   "outputs": [
    {
     "data": {
      "text/plain": [
       "city\n",
       "Moscow              42741\n",
       "Saint-Petersburg    18512\n",
       "Name: genre, dtype: int64"
      ]
     },
     "metadata": {},
     "output_type": "display_data"
    }
   ],
   "source": [
    "# Подсчёт прослушиваний в каждом городе\n",
    "users_grouping = df.groupby('city')['genre'].count()\n",
    "display(users_grouping)\n"
   ]
  },
  {
   "cell_type": "markdown",
   "metadata": {
    "id": "dzli3w8o_Zcu"
   },
   "source": [
    "В Москве прослушиваний больше, чем в Петербурге. Из этого не следует, что московские пользователи чаще слушают музыку. Просто самих пользователей в Москве больше.\n",
    "\n",
    "Теперь сгруппируйте данные по дню недели и подсчитайте прослушивания в понедельник, среду и пятницу. Учтите, что в данных есть информация только о прослушиваниях только за эти дни.\n"
   ]
  },
  {
   "cell_type": "code",
   "execution_count": 22,
   "metadata": {
    "id": "uZMKjiJz_Zcu"
   },
   "outputs": [
    {
     "data": {
      "text/plain": [
       "day\n",
       "Friday       21840\n",
       "Monday       21354\n",
       "Wednesday    18059\n",
       "Name: genre, dtype: int64"
      ]
     },
     "metadata": {},
     "output_type": "display_data"
    }
   ],
   "source": [
    "# Подсчёт прослушиваний в каждый из трёх дней\n",
    "days_grouping = df.groupby('day')['genre'].count()\n",
    "display(days_grouping)"
   ]
  },
  {
   "cell_type": "markdown",
   "metadata": {
    "id": "cC2tNrlL_Zcu"
   },
   "source": [
    "В среднем пользователи из двух городов менее активны по средам. Но картина может измениться, если рассмотреть каждый город в отдельности."
   ]
  },
  {
   "cell_type": "markdown",
   "metadata": {
    "id": "POzs8bGa_Zcu"
   },
   "source": [
    "Вы видели, как работает группировка по городу и по дням недели. Теперь напишите функцию, которая объединит два эти расчёта.\n",
    "\n",
    "Создайте функцию `number_tracks()`, которая посчитает прослушивания для заданного дня и города. Ей понадобятся два параметра:\n",
    "* день недели,\n",
    "* название города.\n",
    "\n",
    "В функции сохраните в переменную строки исходной таблицы, у которых значение:\n",
    "  * в колонке `day` равно параметру `day`,\n",
    "  * в колонке `city` равно параметру `city`.\n",
    "\n",
    "Для этого примените последовательную фильтрацию с логической индексацией.\n",
    "\n",
    "Затем посчитайте значения в столбце `user_id` получившейся таблицы. Результат сохраните в новую переменную. Верните эту переменную из функции."
   ]
  },
  {
   "cell_type": "code",
   "execution_count": 23,
   "metadata": {
    "id": "Nz3GdQB1_Zcu"
   },
   "outputs": [],
   "source": [
    "# <создание функции number_tracks()>\n",
    "# Объявляется функция с двумя параметрами: day, city.\n",
    "def number_tracks(day, city):\n",
    "# В переменной track_list сохраняются те строки таблицы df, для которых\n",
    "# значение в столбце 'day' равно параметру day и одновременно значение\n",
    "# в столбце 'city' равно параметру city (используйте последовательную фильтрацию\n",
    "# с помощью логической индексации).\n",
    "    track_list = df[(df['day'] == day) & (df['city'] == city)]\n",
    "# В переменной track_list_count сохраняется число значений столбца 'user_id',\n",
    "# рассчитанное методом count() для таблицы track_list.\n",
    "    track_list_count = track_list['user_id'].count()\n",
    "# Функция возвращает число - значение track_list_count.\n",
    "    return track_list_count\n",
    "# Функция для подсчёта прослушиваний для конкретного города и дня.\n",
    "# С помощью последовательной фильтрации с логической индексацией она \n",
    "# сначала получит из исходной таблицы строки с нужным днём,\n",
    "# затем из результата отфильтрует строки с нужным городом,\n",
    "# методом count() посчитает количество значений в колонке user_id. \n",
    "# Это количество функция вернёт в качестве результата"
   ]
  },
  {
   "cell_type": "markdown",
   "metadata": {
    "id": "ytf7xFrFJQ2r"
   },
   "source": [
    "Вызовите `number_tracks()` шесть раз, меняя значение параметров — так, чтобы получить данные для каждого города в каждый из трёх дней."
   ]
  },
  {
   "cell_type": "code",
   "execution_count": 24,
   "metadata": {
    "id": "rJcRATNQ_Zcu"
   },
   "outputs": [
    {
     "data": {
      "text/plain": [
       "15740"
      ]
     },
     "execution_count": 24,
     "metadata": {},
     "output_type": "execute_result"
    }
   ],
   "source": [
    "# количество прослушиваний в Москве по понедельникам\n",
    "number_tracks('Monday', 'Moscow')"
   ]
  },
  {
   "cell_type": "code",
   "execution_count": 25,
   "metadata": {
    "id": "hq_ncZ5T_Zcu"
   },
   "outputs": [
    {
     "data": {
      "text/plain": [
       "5614"
      ]
     },
     "execution_count": 25,
     "metadata": {},
     "output_type": "execute_result"
    }
   ],
   "source": [
    "# количество прослушиваний в Санкт-Петербурге по понедельникам\n",
    "number_tracks('Monday', 'Saint-Petersburg')"
   ]
  },
  {
   "cell_type": "code",
   "execution_count": 26,
   "metadata": {
    "id": "_NTy2VPU_Zcu"
   },
   "outputs": [
    {
     "data": {
      "text/plain": [
       "11056"
      ]
     },
     "execution_count": 26,
     "metadata": {},
     "output_type": "execute_result"
    }
   ],
   "source": [
    "# количество прослушиваний в Москве по средам\n",
    "number_tracks('Wednesday', 'Moscow')"
   ]
  },
  {
   "cell_type": "code",
   "execution_count": 27,
   "metadata": {
    "id": "j2y3TAwo_Zcu"
   },
   "outputs": [
    {
     "data": {
      "text/plain": [
       "7003"
      ]
     },
     "execution_count": 27,
     "metadata": {},
     "output_type": "execute_result"
    }
   ],
   "source": [
    "# количество прослушиваний в Санкт-Петербурге по средам\n",
    "number_tracks('Wednesday', 'Saint-Petersburg')"
   ]
  },
  {
   "cell_type": "code",
   "execution_count": 28,
   "metadata": {
    "id": "vYDw5u_K_Zcu"
   },
   "outputs": [
    {
     "data": {
      "text/plain": [
       "15945"
      ]
     },
     "execution_count": 28,
     "metadata": {},
     "output_type": "execute_result"
    }
   ],
   "source": [
    "# количество прослушиваний в Москве по пятницам\n",
    "number_tracks('Friday', 'Moscow')"
   ]
  },
  {
   "cell_type": "code",
   "execution_count": 29,
   "metadata": {
    "id": "8_yzFtW3_Zcu"
   },
   "outputs": [
    {
     "data": {
      "text/plain": [
       "5895"
      ]
     },
     "execution_count": 29,
     "metadata": {},
     "output_type": "execute_result"
    }
   ],
   "source": [
    "# количество прослушиваний в Санкт-Петербурге по пятницам\n",
    "number_tracks('Friday', 'Saint-Petersburg')"
   ]
  },
  {
   "cell_type": "markdown",
   "metadata": {
    "id": "7QXffbO-_Zcu"
   },
   "source": [
    "Создайте c помощью конструктора `pd.DataFrame` таблицу, где\n",
    "* названия колонок — `['city', 'monday', 'wednesday', 'friday']`;\n",
    "* данные — результаты, которые вы получили с помощью `number_tracks`."
   ]
  },
  {
   "cell_type": "code",
   "execution_count": 30,
   "metadata": {
    "id": "APAcLpOr_Zcu"
   },
   "outputs": [
    {
     "data": {
      "text/html": [
       "<div>\n",
       "<style scoped>\n",
       "    .dataframe tbody tr th:only-of-type {\n",
       "        vertical-align: middle;\n",
       "    }\n",
       "\n",
       "    .dataframe tbody tr th {\n",
       "        vertical-align: top;\n",
       "    }\n",
       "\n",
       "    .dataframe thead th {\n",
       "        text-align: right;\n",
       "    }\n",
       "</style>\n",
       "<table border=\"1\" class=\"dataframe\">\n",
       "  <thead>\n",
       "    <tr style=\"text-align: right;\">\n",
       "      <th></th>\n",
       "      <th>city</th>\n",
       "      <th>monday</th>\n",
       "      <th>wednesday</th>\n",
       "      <th>friday</th>\n",
       "    </tr>\n",
       "  </thead>\n",
       "  <tbody>\n",
       "    <tr>\n",
       "      <th>0</th>\n",
       "      <td>Moscow</td>\n",
       "      <td>15740</td>\n",
       "      <td>11056</td>\n",
       "      <td>15945</td>\n",
       "    </tr>\n",
       "    <tr>\n",
       "      <th>1</th>\n",
       "      <td>Saint-Petersburg</td>\n",
       "      <td>5614</td>\n",
       "      <td>7003</td>\n",
       "      <td>5895</td>\n",
       "    </tr>\n",
       "  </tbody>\n",
       "</table>\n",
       "</div>"
      ],
      "text/plain": [
       "               city  monday  wednesday  friday\n",
       "0            Moscow   15740      11056   15945\n",
       "1  Saint-Petersburg    5614       7003    5895"
      ]
     },
     "metadata": {},
     "output_type": "display_data"
    }
   ],
   "source": [
    "# Таблица с результатами\n",
    "columns = ['city', 'monday', 'wednesday', 'friday']\n",
    "number_tracks_by_days = [\n",
    "    ['Moscow', number_tracks('Monday', 'Moscow'), number_tracks('Wednesday', 'Moscow'), number_tracks('Friday', 'Moscow')],\n",
    "    ['Saint-Petersburg', number_tracks('Monday', 'Saint-Petersburg'), number_tracks('Wednesday', 'Saint-Petersburg'), number_tracks('Friday', 'Saint-Petersburg')],\n",
    "]\n",
    "table_tracks_by_days = pd.DataFrame(data = number_tracks_by_days, columns = columns)\n",
    "display(table_tracks_by_days)"
   ]
  },
  {
   "cell_type": "markdown",
   "metadata": {
    "id": "-EgPIHYu_Zcu"
   },
   "source": [
    "**Выводы**\n",
    "\n",
    "Данные показывают разницу поведения пользователей:\n",
    "\n",
    "- В Москве пик прослушиваний приходится на понедельник и пятницу, а в среду заметен спад.\n",
    "- В Петербурге, наоборот, больше слушают музыку по средам. Активность в понедельник и пятницу здесь почти в равной мере уступает среде.\n",
    "\n",
    "Значит, данные говорят в пользу первой гипотезы."
   ]
  },
  {
   "cell_type": "markdown",
   "metadata": {
    "id": "atZAxtq4_Zcu"
   },
   "source": [
    "### Музыка в начале и в конце недели"
   ]
  },
  {
   "cell_type": "markdown",
   "metadata": {
    "id": "eXrQqXFH_Zcu"
   },
   "source": [
    "Согласно второй гипотезе, утром в понедельник в Москве преобладают одни жанры, а в Петербурге — другие. Так же и вечером пятницы преобладают разные жанры — в зависимости от города."
   ]
  },
  {
   "cell_type": "markdown",
   "metadata": {
    "id": "S8UcW6Hw_Zcu"
   },
   "source": [
    "Сохраните таблицы с данными в две переменные:\n",
    "* по Москве — в `moscow_general`;\n",
    "* по Санкт-Петербургу — в `spb_general`."
   ]
  },
  {
   "cell_type": "code",
   "execution_count": 31,
   "metadata": {
    "id": "qeaFfM_P_Zcu"
   },
   "outputs": [
    {
     "data": {
      "text/html": [
       "<div>\n",
       "<style scoped>\n",
       "    .dataframe tbody tr th:only-of-type {\n",
       "        vertical-align: middle;\n",
       "    }\n",
       "\n",
       "    .dataframe tbody tr th {\n",
       "        vertical-align: top;\n",
       "    }\n",
       "\n",
       "    .dataframe thead th {\n",
       "        text-align: right;\n",
       "    }\n",
       "</style>\n",
       "<table border=\"1\" class=\"dataframe\">\n",
       "  <thead>\n",
       "    <tr style=\"text-align: right;\">\n",
       "      <th></th>\n",
       "      <th>user_id</th>\n",
       "      <th>track</th>\n",
       "      <th>artist</th>\n",
       "      <th>genre</th>\n",
       "      <th>city</th>\n",
       "      <th>time</th>\n",
       "      <th>day</th>\n",
       "    </tr>\n",
       "  </thead>\n",
       "  <tbody>\n",
       "    <tr>\n",
       "      <th>1</th>\n",
       "      <td>55204538</td>\n",
       "      <td>Delayed Because of Accident</td>\n",
       "      <td>Andreas Rönnberg</td>\n",
       "      <td>rock</td>\n",
       "      <td>Moscow</td>\n",
       "      <td>14:07:09</td>\n",
       "      <td>Friday</td>\n",
       "    </tr>\n",
       "    <tr>\n",
       "      <th>4</th>\n",
       "      <td>E2DC1FAE</td>\n",
       "      <td>Soul People</td>\n",
       "      <td>Space Echo</td>\n",
       "      <td>dance</td>\n",
       "      <td>Moscow</td>\n",
       "      <td>08:34:34</td>\n",
       "      <td>Monday</td>\n",
       "    </tr>\n",
       "    <tr>\n",
       "      <th>6</th>\n",
       "      <td>4CB90AA5</td>\n",
       "      <td>True</td>\n",
       "      <td>Roman Messer</td>\n",
       "      <td>dance</td>\n",
       "      <td>Moscow</td>\n",
       "      <td>13:00:07</td>\n",
       "      <td>Wednesday</td>\n",
       "    </tr>\n",
       "    <tr>\n",
       "      <th>7</th>\n",
       "      <td>F03E1C1F</td>\n",
       "      <td>Feeling This Way</td>\n",
       "      <td>Polina Griffith</td>\n",
       "      <td>dance</td>\n",
       "      <td>Moscow</td>\n",
       "      <td>20:47:49</td>\n",
       "      <td>Wednesday</td>\n",
       "    </tr>\n",
       "    <tr>\n",
       "      <th>8</th>\n",
       "      <td>8FA1D3BE</td>\n",
       "      <td>И вновь продолжается бой</td>\n",
       "      <td>unknown</td>\n",
       "      <td>ruspop</td>\n",
       "      <td>Moscow</td>\n",
       "      <td>09:17:40</td>\n",
       "      <td>Friday</td>\n",
       "    </tr>\n",
       "    <tr>\n",
       "      <th>10</th>\n",
       "      <td>BC5A3A29</td>\n",
       "      <td>Gool la Mita</td>\n",
       "      <td>Shireen Abdul Wahab</td>\n",
       "      <td>world</td>\n",
       "      <td>Moscow</td>\n",
       "      <td>14:08:42</td>\n",
       "      <td>Monday</td>\n",
       "    </tr>\n",
       "    <tr>\n",
       "      <th>11</th>\n",
       "      <td>8B5192C0</td>\n",
       "      <td>Is There Anybody Out There? (Panoramic Paralys...</td>\n",
       "      <td>Pink Floyd Floydhead</td>\n",
       "      <td>electronic</td>\n",
       "      <td>Moscow</td>\n",
       "      <td>13:47:49</td>\n",
       "      <td>Monday</td>\n",
       "    </tr>\n",
       "    <tr>\n",
       "      <th>12</th>\n",
       "      <td>FF3FD2BD</td>\n",
       "      <td>Мина син генэ кирэк</td>\n",
       "      <td>Ильдар Хакимов</td>\n",
       "      <td>pop</td>\n",
       "      <td>Moscow</td>\n",
       "      <td>09:19:49</td>\n",
       "      <td>Monday</td>\n",
       "    </tr>\n",
       "    <tr>\n",
       "      <th>13</th>\n",
       "      <td>CC782B0F</td>\n",
       "      <td>After School Special</td>\n",
       "      <td>Detroit Grand Pubahs</td>\n",
       "      <td>dance</td>\n",
       "      <td>Moscow</td>\n",
       "      <td>20:04:12</td>\n",
       "      <td>Friday</td>\n",
       "    </tr>\n",
       "    <tr>\n",
       "      <th>15</th>\n",
       "      <td>E3C5756F</td>\n",
       "      <td>unknown</td>\n",
       "      <td>unknown</td>\n",
       "      <td>unknown</td>\n",
       "      <td>Moscow</td>\n",
       "      <td>09:24:51</td>\n",
       "      <td>Monday</td>\n",
       "    </tr>\n",
       "  </tbody>\n",
       "</table>\n",
       "</div>"
      ],
      "text/plain": [
       "     user_id                                              track  \\\n",
       "1   55204538                        Delayed Because of Accident   \n",
       "4   E2DC1FAE                                        Soul People   \n",
       "6   4CB90AA5                                               True   \n",
       "7   F03E1C1F                                   Feeling This Way   \n",
       "8   8FA1D3BE                           И вновь продолжается бой   \n",
       "10  BC5A3A29                                       Gool la Mita   \n",
       "11  8B5192C0  Is There Anybody Out There? (Panoramic Paralys...   \n",
       "12  FF3FD2BD                                Мина син генэ кирэк   \n",
       "13  CC782B0F                               After School Special   \n",
       "15  E3C5756F                                            unknown   \n",
       "\n",
       "                  artist       genre    city      time        day  \n",
       "1       Andreas Rönnberg        rock  Moscow  14:07:09     Friday  \n",
       "4             Space Echo       dance  Moscow  08:34:34     Monday  \n",
       "6           Roman Messer       dance  Moscow  13:00:07  Wednesday  \n",
       "7        Polina Griffith       dance  Moscow  20:47:49  Wednesday  \n",
       "8                unknown      ruspop  Moscow  09:17:40     Friday  \n",
       "10   Shireen Abdul Wahab       world  Moscow  14:08:42     Monday  \n",
       "11  Pink Floyd Floydhead  electronic  Moscow  13:47:49     Monday  \n",
       "12        Ильдар Хакимов         pop  Moscow  09:19:49     Monday  \n",
       "13  Detroit Grand Pubahs       dance  Moscow  20:04:12     Friday  \n",
       "15               unknown     unknown  Moscow  09:24:51     Monday  "
      ]
     },
     "metadata": {},
     "output_type": "display_data"
    }
   ],
   "source": [
    "# получение таблицы moscow_general из тех строк таблицы df, \n",
    "# для которых значение в столбце 'city' равно 'Moscow'\n",
    "moscow_general = df[df['city'] == 'Moscow']\n",
    "display(moscow_general.head(10))\n",
    "\n"
   ]
  },
  {
   "cell_type": "code",
   "execution_count": 32,
   "metadata": {
    "id": "ORaVRKto_Zcu"
   },
   "outputs": [
    {
     "data": {
      "text/html": [
       "<div>\n",
       "<style scoped>\n",
       "    .dataframe tbody tr th:only-of-type {\n",
       "        vertical-align: middle;\n",
       "    }\n",
       "\n",
       "    .dataframe tbody tr th {\n",
       "        vertical-align: top;\n",
       "    }\n",
       "\n",
       "    .dataframe thead th {\n",
       "        text-align: right;\n",
       "    }\n",
       "</style>\n",
       "<table border=\"1\" class=\"dataframe\">\n",
       "  <thead>\n",
       "    <tr style=\"text-align: right;\">\n",
       "      <th></th>\n",
       "      <th>user_id</th>\n",
       "      <th>track</th>\n",
       "      <th>artist</th>\n",
       "      <th>genre</th>\n",
       "      <th>city</th>\n",
       "      <th>time</th>\n",
       "      <th>day</th>\n",
       "    </tr>\n",
       "  </thead>\n",
       "  <tbody>\n",
       "    <tr>\n",
       "      <th>0</th>\n",
       "      <td>FFB692EC</td>\n",
       "      <td>Kamigata To Boots</td>\n",
       "      <td>The Mass Missile</td>\n",
       "      <td>rock</td>\n",
       "      <td>Saint-Petersburg</td>\n",
       "      <td>20:28:33</td>\n",
       "      <td>Wednesday</td>\n",
       "    </tr>\n",
       "    <tr>\n",
       "      <th>2</th>\n",
       "      <td>20EC38</td>\n",
       "      <td>Funiculì funiculà</td>\n",
       "      <td>Mario Lanza</td>\n",
       "      <td>pop</td>\n",
       "      <td>Saint-Petersburg</td>\n",
       "      <td>20:58:07</td>\n",
       "      <td>Wednesday</td>\n",
       "    </tr>\n",
       "    <tr>\n",
       "      <th>3</th>\n",
       "      <td>A3DD03C9</td>\n",
       "      <td>Dragons in the Sunset</td>\n",
       "      <td>Fire + Ice</td>\n",
       "      <td>folk</td>\n",
       "      <td>Saint-Petersburg</td>\n",
       "      <td>08:37:09</td>\n",
       "      <td>Monday</td>\n",
       "    </tr>\n",
       "    <tr>\n",
       "      <th>5</th>\n",
       "      <td>842029A1</td>\n",
       "      <td>Преданная</td>\n",
       "      <td>IMPERVTOR</td>\n",
       "      <td>rusrap</td>\n",
       "      <td>Saint-Petersburg</td>\n",
       "      <td>13:09:41</td>\n",
       "      <td>Friday</td>\n",
       "    </tr>\n",
       "    <tr>\n",
       "      <th>9</th>\n",
       "      <td>E772D5C0</td>\n",
       "      <td>Pessimist</td>\n",
       "      <td>unknown</td>\n",
       "      <td>dance</td>\n",
       "      <td>Saint-Petersburg</td>\n",
       "      <td>21:20:49</td>\n",
       "      <td>Wednesday</td>\n",
       "    </tr>\n",
       "    <tr>\n",
       "      <th>14</th>\n",
       "      <td>94EB25C2</td>\n",
       "      <td>Make Love Whenever You Can</td>\n",
       "      <td>Arabesque</td>\n",
       "      <td>pop</td>\n",
       "      <td>Saint-Petersburg</td>\n",
       "      <td>13:22:08</td>\n",
       "      <td>Wednesday</td>\n",
       "    </tr>\n",
       "    <tr>\n",
       "      <th>16</th>\n",
       "      <td>81D05C7D</td>\n",
       "      <td>SLAVES OF FEAR</td>\n",
       "      <td>HEALTH</td>\n",
       "      <td>alternative</td>\n",
       "      <td>Saint-Petersburg</td>\n",
       "      <td>20:54:48</td>\n",
       "      <td>Monday</td>\n",
       "    </tr>\n",
       "    <tr>\n",
       "      <th>17</th>\n",
       "      <td>39DE290E</td>\n",
       "      <td>Веснянка</td>\n",
       "      <td>Веданъ Колодъ</td>\n",
       "      <td>folk</td>\n",
       "      <td>Saint-Petersburg</td>\n",
       "      <td>14:36:47</td>\n",
       "      <td>Monday</td>\n",
       "    </tr>\n",
       "    <tr>\n",
       "      <th>18</th>\n",
       "      <td>58AE138A</td>\n",
       "      <td>Pat-a-Cake</td>\n",
       "      <td>Mother Goose Club</td>\n",
       "      <td>children</td>\n",
       "      <td>Saint-Petersburg</td>\n",
       "      <td>20:04:56</td>\n",
       "      <td>Monday</td>\n",
       "    </tr>\n",
       "    <tr>\n",
       "      <th>22</th>\n",
       "      <td>B8E29C9C</td>\n",
       "      <td>Самота</td>\n",
       "      <td>unknown</td>\n",
       "      <td>folk</td>\n",
       "      <td>Saint-Petersburg</td>\n",
       "      <td>20:20:49</td>\n",
       "      <td>Wednesday</td>\n",
       "    </tr>\n",
       "  </tbody>\n",
       "</table>\n",
       "</div>"
      ],
      "text/plain": [
       "     user_id                       track             artist        genre  \\\n",
       "0   FFB692EC           Kamigata To Boots   The Mass Missile         rock   \n",
       "2     20EC38           Funiculì funiculà        Mario Lanza          pop   \n",
       "3   A3DD03C9       Dragons in the Sunset         Fire + Ice         folk   \n",
       "5   842029A1                   Преданная          IMPERVTOR       rusrap   \n",
       "9   E772D5C0                   Pessimist            unknown        dance   \n",
       "14  94EB25C2  Make Love Whenever You Can          Arabesque          pop   \n",
       "16  81D05C7D              SLAVES OF FEAR             HEALTH  alternative   \n",
       "17  39DE290E                    Веснянка      Веданъ Колодъ         folk   \n",
       "18  58AE138A                  Pat-a-Cake  Mother Goose Club     children   \n",
       "22  B8E29C9C                      Самота            unknown         folk   \n",
       "\n",
       "                city      time        day  \n",
       "0   Saint-Petersburg  20:28:33  Wednesday  \n",
       "2   Saint-Petersburg  20:58:07  Wednesday  \n",
       "3   Saint-Petersburg  08:37:09     Monday  \n",
       "5   Saint-Petersburg  13:09:41     Friday  \n",
       "9   Saint-Petersburg  21:20:49  Wednesday  \n",
       "14  Saint-Petersburg  13:22:08  Wednesday  \n",
       "16  Saint-Petersburg  20:54:48     Monday  \n",
       "17  Saint-Petersburg  14:36:47     Monday  \n",
       "18  Saint-Petersburg  20:04:56     Monday  \n",
       "22  Saint-Petersburg  20:20:49  Wednesday  "
      ]
     },
     "metadata": {},
     "output_type": "display_data"
    }
   ],
   "source": [
    "# получение таблицы spb_general из тех строк таблицы df,\n",
    "# для которых значение в столбце 'city' равно 'Saint-Petersburg'\n",
    "spb_general = df[df['city'] == 'Saint-Petersburg']\n",
    "display(spb_general.head(10))\n"
   ]
  },
  {
   "cell_type": "markdown",
   "metadata": {
    "id": "MEJV-CX2_Zcu"
   },
   "source": [
    "Создайте функцию `genre_weekday()` с четырьмя параметрами:\n",
    "* таблица (датафрейм) с данными,\n",
    "* день недели,\n",
    "* начальная временная метка в формате 'hh:mm', \n",
    "* последняя временная метка в формате 'hh:mm'.\n",
    "\n",
    "Функция должна вернуть информацию о топ-10 жанров тех треков, которые прослушивали в указанный день, в промежутке между двумя отметками времени."
   ]
  },
  {
   "cell_type": "code",
   "execution_count": 33,
   "metadata": {
    "id": "laJT9BYl_Zcu"
   },
   "outputs": [],
   "source": [
    "# Объявление функции genre_weekday() с параметрами table, day, time1, time2,\n",
    "def genre_weekday(table, day, time1, time2):\n",
    "# которая возвращает информацию о самых популярных жанрах в указанный день в\n",
    "# заданное время:\n",
    "# 1) в переменную genre_df сохраняются те строки переданного датафрейма table, для\n",
    "#    которых одновременно:\n",
    "#    - значение в столбце day равно значению аргумента day\n",
    "#    - значение в столбце time больше значения аргумента time1\n",
    "#    - значение в столбце time меньше значения аргумента time2\n",
    "#    Используйте последовательную фильтрацию с помощью логической индексации.\n",
    "     genre_df = table[(table['day'] == day) & (table['time'] > time1) & (table['time'] <= time2)]\n",
    "# 2) сгруппировать датафрейм genre_df по столбцу genre, взять один из его\n",
    "#    столбцов и посчитать методом count() количество записей для каждого из\n",
    "#    присутствующих жанров, получившийся Series записать в переменную genre_df_count\n",
    "     genre_df_count = genre_df.groupby('genre')['city'].count()\n",
    "# 3) отсортировать genre_df_count по убыванию встречаемости и сохранить в переменную genre_df_sorted\n",
    "     genre_df_sorted = genre_df_count.sort_values(ascending = False)\n",
    "#4) вернуть Series из 10 первых значений genre_df_sorted, это будут топ-10\n",
    "#    популярных жанров (в указанный день, в заданное время)\n",
    "     return genre_df_sorted.head(10)"
   ]
  },
  {
   "cell_type": "markdown",
   "metadata": {
    "id": "la2s2_PF_Zcu"
   },
   "source": [
    "Cравните результаты функции `genre_weekday()` для Москвы и Санкт-Петербурга в понедельник утром (с 7:00 до 11:00) и в пятницу вечером (с 17:00 до 23:00):"
   ]
  },
  {
   "cell_type": "code",
   "execution_count": 34,
   "metadata": {
    "id": "yz7itPUQ_Zcu"
   },
   "outputs": [
    {
     "data": {
      "text/plain": [
       "genre\n",
       "pop            781\n",
       "dance          549\n",
       "electronic     480\n",
       "rock           474\n",
       "hiphop         286\n",
       "ruspop         186\n",
       "world          181\n",
       "rusrap         175\n",
       "alternative    164\n",
       "unknown        161\n",
       "Name: city, dtype: int64"
      ]
     },
     "execution_count": 34,
     "metadata": {},
     "output_type": "execute_result"
    }
   ],
   "source": [
    "# вызов функции для утра понедельника в Москве (вместо df — таблица moscow_general)\n",
    "# объекты, хранящие время, являются строками и сравниваются как строки\n",
    "# пример вызова: genre_weekday(moscow_general, 'Monday', '07:00', '11:00')\n",
    "genre_weekday(moscow_general, 'Monday', '07:00', '11:00')"
   ]
  },
  {
   "cell_type": "code",
   "execution_count": 35,
   "metadata": {
    "id": "kwUcHPdy_Zcu"
   },
   "outputs": [
    {
     "data": {
      "text/plain": [
       "genre\n",
       "pop            218\n",
       "dance          182\n",
       "rock           162\n",
       "electronic     147\n",
       "hiphop          80\n",
       "ruspop          64\n",
       "alternative     58\n",
       "rusrap          55\n",
       "jazz            44\n",
       "classical       40\n",
       "Name: city, dtype: int64"
      ]
     },
     "execution_count": 35,
     "metadata": {},
     "output_type": "execute_result"
    }
   ],
   "source": [
    "# вызов функции для утра понедельника в Петербурге (вместо df — таблица spb_general)\n",
    "genre_weekday(spb_general, 'Monday', '07:00', '11:00')"
   ]
  },
  {
   "cell_type": "code",
   "execution_count": 36,
   "metadata": {
    "id": "EzXVRE1o_Zcu"
   },
   "outputs": [
    {
     "data": {
      "text/plain": [
       "genre\n",
       "pop            713\n",
       "rock           517\n",
       "dance          495\n",
       "electronic     482\n",
       "hiphop         273\n",
       "world          208\n",
       "ruspop         170\n",
       "alternative    163\n",
       "classical      163\n",
       "rusrap         142\n",
       "Name: city, dtype: int64"
      ]
     },
     "execution_count": 36,
     "metadata": {},
     "output_type": "execute_result"
    }
   ],
   "source": [
    "# вызов функции для вечера пятницы в Москве\n",
    "genre_weekday(moscow_general, 'Friday', '17:00', '23:00')"
   ]
  },
  {
   "cell_type": "code",
   "execution_count": 37,
   "metadata": {
    "id": "JZaEKu5v_Zcu"
   },
   "outputs": [
    {
     "data": {
      "text/plain": [
       "genre\n",
       "pop            256\n",
       "electronic     216\n",
       "rock           216\n",
       "dance          210\n",
       "hiphop          97\n",
       "alternative     63\n",
       "jazz            61\n",
       "classical       60\n",
       "rusrap          59\n",
       "world           54\n",
       "Name: city, dtype: int64"
      ]
     },
     "execution_count": 37,
     "metadata": {},
     "output_type": "execute_result"
    }
   ],
   "source": [
    "# вызов функции для вечера пятницы в Петербурге\n",
    "genre_weekday(spb_general, 'Friday', '17:00', '23:00')"
   ]
  },
  {
   "cell_type": "markdown",
   "metadata": {
    "id": "wrCe4MNX_Zcu"
   },
   "source": [
    "**Выводы**\n",
    "\n",
    "Если сравнить топ-10 жанров в понедельник утром, можно сделать такие выводы:\n",
    "\n",
    "1. В Москве и Петербурге слушают похожую музыку. Единственное отличие — в московский рейтинг вошёл жанр \"world\", а в петербургский вошли жанры: \"classical\", \"jazz\". \n",
    "\n",
    "2. В Москве пропущенных значений оказалось так много, что значение \"unknown\" заняло десятое место среди самых популярных жанров. Значит, пропущенные значения занимают существенную долю в данных и угрожают достоверности исследования.\n",
    "\n",
    "Вечер пятницы не меняет эту картину. Некоторые жанры поднимаются немного выше, другие спускаются, но в целом топ-10 остаётся тем же самым.\n",
    "\n",
    "Таким образом, вторая гипотеза подтвердилась лишь частично:\n",
    "* Пользователи слушают похожую музыку в начале недели и в конце.\n",
    "* Разница между Москвой и Петербургом не слишком выражена. В Москве чаще слушают русскую популярную музыку, в Петербурге — джаз.\n",
    "\n",
    "Однако пропуски в данных ставят под сомнение этот результат. В Москве их так много, что рейтинг топ-10 мог бы выглядеть иначе, если бы не утерянные  данные о жанрах."
   ]
  },
  {
   "cell_type": "markdown",
   "metadata": {
    "id": "JolODAqr_Zcu"
   },
   "source": [
    "### Жанровые предпочтения в Москве и Петербурге\n",
    "\n",
    "Гипотеза: Петербург — столица рэпа, музыку этого жанра там слушают чаще, чем в Москве.  А Москва — город контрастов, в котором, тем не менее, преобладает поп-музыка."
   ]
  },
  {
   "cell_type": "markdown",
   "metadata": {
    "id": "DlegSvaT_Zcu"
   },
   "source": [
    "Сгруппируйте таблицу `moscow_general` по жанру и посчитайте прослушивания треков каждого жанра методом `count()`. Затем отсортируйте результат в порядке убывания и сохраните его в таблице `moscow_genres`."
   ]
  },
  {
   "cell_type": "code",
   "execution_count": 38,
   "metadata": {
    "id": "r19lIPke_Zcu"
   },
   "outputs": [],
   "source": [
    "# одной строкой: группировка таблицы moscow_general по столбцу 'genre', \n",
    "# подсчёт числа значений 'genre' в этой группировке методом count(), \n",
    "# сортировка получившегося Series в порядке убывания и сохранение в moscow_genres\n",
    "moscow_genres = moscow_general.groupby('genre')['genre'].count().sort_values(ascending = False)"
   ]
  },
  {
   "cell_type": "markdown",
   "metadata": {
    "id": "6kMuomxTiIr8"
   },
   "source": [
    "Выведите на экран первые десять строк `moscow_genres`:"
   ]
  },
  {
   "cell_type": "code",
   "execution_count": 39,
   "metadata": {
    "id": "WhCSooF8_Zcv"
   },
   "outputs": [
    {
     "data": {
      "text/plain": [
       "genre\n",
       "pop            5892\n",
       "dance          4435\n",
       "rock           3965\n",
       "electronic     3786\n",
       "hiphop         2096\n",
       "classical      1616\n",
       "world          1432\n",
       "alternative    1379\n",
       "ruspop         1372\n",
       "rusrap         1161\n",
       "Name: genre, dtype: int64"
      ]
     },
     "metadata": {},
     "output_type": "display_data"
    }
   ],
   "source": [
    "# просмотр первых 10 строк moscow_genres\n",
    "display(moscow_genres.head(10))"
   ]
  },
  {
   "cell_type": "markdown",
   "metadata": {
    "id": "cnPG2vnN_Zcv"
   },
   "source": [
    "Теперь повторите то же и для Петербурга.\n",
    "\n",
    "Сгруппируйте таблицу `spb_general` по жанру. Посчитайте прослушивания треков каждого жанра. Результат отсортируйте в порядке убывания и сохраните в таблице `spb_genres`:\n"
   ]
  },
  {
   "cell_type": "code",
   "execution_count": 40,
   "metadata": {
    "id": "gluLIpE7_Zcv"
   },
   "outputs": [],
   "source": [
    "# одной строкой: группировка таблицы spb_general по столбцу 'genre', \n",
    "# подсчёт числа значений 'genre' в этой группировке методом count(), \n",
    "# сортировка получившегося Series в порядке убывания и сохранение в spb_genres\n",
    "spb_genres = spb_general.groupby('genre')['genre'].count().sort_values(ascending = False)"
   ]
  },
  {
   "cell_type": "markdown",
   "metadata": {
    "id": "5Doha_ODgyQ8"
   },
   "source": [
    "Выведите на экран первые десять строк `spb_genres`:"
   ]
  },
  {
   "cell_type": "code",
   "execution_count": 41,
   "metadata": {
    "id": "uaGJHjVU_Zcv"
   },
   "outputs": [
    {
     "data": {
      "text/plain": [
       "genre\n",
       "pop            2431\n",
       "dance          1932\n",
       "rock           1879\n",
       "electronic     1736\n",
       "hiphop          960\n",
       "alternative     649\n",
       "classical       646\n",
       "rusrap          564\n",
       "ruspop          538\n",
       "world           515\n",
       "Name: genre, dtype: int64"
      ]
     },
     "metadata": {},
     "output_type": "display_data"
    }
   ],
   "source": [
    "# просмотр первых 10 строк spb_genres\n",
    "display(spb_genres.head(10))"
   ]
  },
  {
   "cell_type": "markdown",
   "metadata": {
    "id": "RY51YJYu_Zcv"
   },
   "source": [
    "**Выводы**"
   ]
  },
  {
   "cell_type": "markdown",
   "metadata": {
    "id": "nVhnJEm__Zcv"
   },
   "source": [
    "Гипотеза частично подтвердилась:\n",
    "* Поп-музыка — самый популярный жанр в Москве, как и предполагала гипотеза. Более того, в топ-10 жанров встречается близкий жанр — русская популярная музыка.\n",
    "* Вопреки ожиданиям, рэп одинаково популярен в Москве и Петербурге. \n"
   ]
  },
  {
   "cell_type": "markdown",
   "metadata": {
    "id": "ykKQ0N65_Zcv"
   },
   "source": [
    "## Итоги исследования"
   ]
  },
  {
   "cell_type": "markdown",
   "metadata": {
    "id": "tjUwbHb3_Zcv"
   },
   "source": [
    "**Гипотеза №1:**\n",
    "Активность пользователей зависит от дня недели. Причём в Москве и Петербурге это проявляется по-разному.\n",
    "\n",
    "**Вывод:** Полностью подтвердилась.\n",
    "\n",
    "\n",
    "**Гипотеза №2:** В понедельник утром в Москве преобладают одни жанры, а в Петербурге — другие. Так же и вечером пятницы преобладают разные жанры — в зависимости от города.\n",
    "\n",
    "**Вывод:** Частично подтвердилась. Результат мог оказаться иным, если бы не пропуски в данных.\n",
    "\n",
    "\n",
    "**Гипотеза №3:** Москва и Петербург предпочитают разные жанры музыки. В Москве чаще слушают поп-музыку, в Петербурге — русский рэп.\n",
    "\n",
    "**Вывод:** Не подтвердилась. Если различия в предпочтениях и существуют, на основной массе пользователей они незаметны.\n",
    "\n",
    "\n",
    "**Общий вывод:**\n",
    "Из данных одного сервиса не всегда можно сделать корректный вывод обо всех жителях города.\n",
    "Москва и Петербург во многом сходятся в музыкальных предпочтениях: в обоих городах преобладает популярная музыка. При этом, между городами есть и заметное различие: зависимость предпочтений от дня недели. В Москве чаще слушают музыку в понедельник и пятницу, а Петербург чаще в среду, но реже в понедельник и пятницу.\n",
    "\n"
   ]
  },
  {
   "cell_type": "code",
   "execution_count": null,
   "metadata": {},
   "outputs": [],
   "source": []
  }
 ],
 "metadata": {
  "ExecuteTimeLog": [
   {
    "duration": 885,
    "start_time": "2021-12-06T17:48:17.986Z"
   },
   {
    "duration": 301,
    "start_time": "2021-12-06T17:48:56.815Z"
   },
   {
    "duration": 35,
    "start_time": "2021-12-06T17:49:47.156Z"
   },
   {
    "duration": 24,
    "start_time": "2021-12-06T17:50:07.372Z"
   },
   {
    "duration": 23,
    "start_time": "2021-12-06T17:50:11.953Z"
   },
   {
    "duration": 25,
    "start_time": "2021-12-06T17:50:27.610Z"
   },
   {
    "duration": 57,
    "start_time": "2021-12-06T17:51:01.548Z"
   },
   {
    "duration": 6,
    "start_time": "2021-12-06T18:21:26.484Z"
   },
   {
    "duration": 58,
    "start_time": "2021-12-06T18:28:53.994Z"
   },
   {
    "duration": 43,
    "start_time": "2021-12-06T18:29:24.539Z"
   },
   {
    "duration": 6,
    "start_time": "2021-12-06T18:29:55.912Z"
   },
   {
    "duration": 37,
    "start_time": "2021-12-06T18:30:15.112Z"
   },
   {
    "duration": 6,
    "start_time": "2021-12-06T18:30:27.535Z"
   },
   {
    "duration": 4,
    "start_time": "2021-12-06T18:30:39.558Z"
   },
   {
    "duration": 6,
    "start_time": "2021-12-06T18:31:02.778Z"
   },
   {
    "duration": 22,
    "start_time": "2021-12-06T18:31:37.601Z"
   },
   {
    "duration": 25,
    "start_time": "2021-12-06T18:31:42.337Z"
   },
   {
    "duration": 7,
    "start_time": "2021-12-06T18:31:44.748Z"
   },
   {
    "duration": 34,
    "start_time": "2021-12-06T18:31:58.211Z"
   },
   {
    "duration": 6,
    "start_time": "2021-12-06T18:32:01.802Z"
   },
   {
    "duration": 33,
    "start_time": "2021-12-06T18:33:27.744Z"
   },
   {
    "duration": 19,
    "start_time": "2021-12-06T18:37:06.370Z"
   },
   {
    "duration": 19,
    "start_time": "2021-12-06T18:37:34.227Z"
   },
   {
    "duration": 31,
    "start_time": "2021-12-06T18:38:32.362Z"
   },
   {
    "duration": 36,
    "start_time": "2021-12-06T18:38:59.267Z"
   },
   {
    "duration": 49,
    "start_time": "2021-12-06T18:39:01.255Z"
   },
   {
    "duration": 99,
    "start_time": "2021-12-06T18:41:01.396Z"
   },
   {
    "duration": 103,
    "start_time": "2021-12-06T18:42:22.804Z"
   },
   {
    "duration": 164,
    "start_time": "2021-12-06T18:42:32.467Z"
   },
   {
    "duration": 188,
    "start_time": "2021-12-06T18:43:28.565Z"
   },
   {
    "duration": 100,
    "start_time": "2021-12-06T18:43:55.117Z"
   },
   {
    "duration": 8265,
    "start_time": "2021-12-06T18:46:19.384Z"
   },
   {
    "duration": 11,
    "start_time": "2021-12-06T18:46:47.648Z"
   },
   {
    "duration": 7,
    "start_time": "2021-12-06T18:46:53.607Z"
   },
   {
    "duration": 7,
    "start_time": "2021-12-06T18:47:21.368Z"
   },
   {
    "duration": 8,
    "start_time": "2021-12-06T18:47:28.469Z"
   },
   {
    "duration": 16,
    "start_time": "2021-12-06T18:47:59.617Z"
   },
   {
    "duration": 312,
    "start_time": "2021-12-06T18:48:54.074Z"
   },
   {
    "duration": 10,
    "start_time": "2021-12-06T18:49:34.802Z"
   },
   {
    "duration": 11,
    "start_time": "2021-12-06T18:50:22.751Z"
   },
   {
    "duration": 7,
    "start_time": "2021-12-06T18:53:39.286Z"
   },
   {
    "duration": 13,
    "start_time": "2021-12-06T18:55:16.852Z"
   },
   {
    "duration": 218,
    "start_time": "2021-12-06T19:10:48.371Z"
   },
   {
    "duration": 3,
    "start_time": "2021-12-06T19:15:52.418Z"
   },
   {
    "duration": 4,
    "start_time": "2021-12-06T19:15:57.343Z"
   },
   {
    "duration": 1120,
    "start_time": "2021-12-06T19:19:24.557Z"
   },
   {
    "duration": 734,
    "start_time": "2021-12-06T19:20:41.583Z"
   },
   {
    "duration": 595,
    "start_time": "2021-12-06T19:21:38.456Z"
   },
   {
    "duration": 4,
    "start_time": "2021-12-06T19:22:52.309Z"
   },
   {
    "duration": 12,
    "start_time": "2021-12-06T19:22:56.963Z"
   },
   {
    "duration": 12,
    "start_time": "2021-12-06T19:23:22.807Z"
   },
   {
    "duration": 12,
    "start_time": "2021-12-06T19:24:58.513Z"
   },
   {
    "duration": 318,
    "start_time": "2021-12-06T19:27:01.390Z"
   },
   {
    "duration": 3,
    "start_time": "2021-12-06T19:27:21.369Z"
   },
   {
    "duration": 15,
    "start_time": "2021-12-06T19:28:24.900Z"
   },
   {
    "duration": 18,
    "start_time": "2021-12-06T19:30:38.264Z"
   },
   {
    "duration": 13,
    "start_time": "2021-12-06T19:31:03.368Z"
   },
   {
    "duration": 12,
    "start_time": "2021-12-06T19:31:16.919Z"
   },
   {
    "duration": 14,
    "start_time": "2021-12-06T19:31:30.731Z"
   },
   {
    "duration": 28,
    "start_time": "2021-12-06T19:32:06.713Z"
   },
   {
    "duration": 52,
    "start_time": "2021-12-06T19:33:27.600Z"
   },
   {
    "duration": 38,
    "start_time": "2021-12-06T19:34:47.695Z"
   },
   {
    "duration": 49,
    "start_time": "2021-12-06T19:35:09.042Z"
   },
   {
    "duration": 49,
    "start_time": "2021-12-06T19:35:41.363Z"
   },
   {
    "duration": 15,
    "start_time": "2021-12-06T19:38:29.952Z"
   },
   {
    "duration": 12,
    "start_time": "2021-12-06T19:38:39.740Z"
   },
   {
    "duration": 10,
    "start_time": "2021-12-06T19:38:45.856Z"
   },
   {
    "duration": 12,
    "start_time": "2021-12-06T19:38:48.450Z"
   },
   {
    "duration": 48,
    "start_time": "2021-12-06T19:39:00.410Z"
   },
   {
    "duration": 5,
    "start_time": "2021-12-06T19:42:03.987Z"
   },
   {
    "duration": 15,
    "start_time": "2021-12-06T19:42:13.696Z"
   },
   {
    "duration": 36,
    "start_time": "2021-12-06T19:42:17.948Z"
   },
   {
    "duration": 41,
    "start_time": "2021-12-06T19:43:08.639Z"
   },
   {
    "duration": 114,
    "start_time": "2021-12-06T19:44:58.646Z"
   },
   {
    "duration": 111,
    "start_time": "2021-12-06T19:45:47.095Z"
   },
   {
    "duration": 16,
    "start_time": "2021-12-06T20:00:59.105Z"
   },
   {
    "duration": 348,
    "start_time": "2021-12-06T20:06:54.117Z"
   },
   {
    "duration": 428,
    "start_time": "2021-12-06T20:07:19.398Z"
   },
   {
    "duration": 21,
    "start_time": "2021-12-06T20:07:38.364Z"
   },
   {
    "duration": 395,
    "start_time": "2021-12-06T20:09:45.527Z"
   },
   {
    "duration": 320,
    "start_time": "2021-12-06T20:09:55.145Z"
   },
   {
    "duration": 14,
    "start_time": "2021-12-06T20:10:45.455Z"
   },
   {
    "duration": 5,
    "start_time": "2021-12-06T20:23:48.227Z"
   },
   {
    "duration": 29,
    "start_time": "2021-12-06T20:23:52.021Z"
   },
   {
    "duration": 5,
    "start_time": "2021-12-06T20:26:08.938Z"
   },
   {
    "duration": 24,
    "start_time": "2021-12-06T20:26:11.617Z"
   },
   {
    "duration": 6,
    "start_time": "2021-12-06T20:26:17.321Z"
   },
   {
    "duration": 22,
    "start_time": "2021-12-06T20:26:21.543Z"
   },
   {
    "duration": 20,
    "start_time": "2021-12-06T20:27:18.799Z"
   },
   {
    "duration": 11,
    "start_time": "2021-12-06T20:28:32.985Z"
   },
   {
    "duration": 5,
    "start_time": "2021-12-06T20:28:35.524Z"
   },
   {
    "duration": 25,
    "start_time": "2021-12-06T20:28:38.323Z"
   },
   {
    "duration": 23,
    "start_time": "2021-12-06T20:28:41.297Z"
   },
   {
    "duration": 21,
    "start_time": "2021-12-06T20:30:02.284Z"
   },
   {
    "duration": 19,
    "start_time": "2021-12-06T20:30:34.306Z"
   },
   {
    "duration": 24,
    "start_time": "2021-12-06T20:31:05.993Z"
   },
   {
    "duration": 31,
    "start_time": "2021-12-06T20:31:25.599Z"
   },
   {
    "duration": 326,
    "start_time": "2021-12-06T20:38:33.069Z"
   },
   {
    "duration": 301,
    "start_time": "2021-12-06T20:38:58.086Z"
   },
   {
    "duration": 12,
    "start_time": "2021-12-06T20:39:22.898Z"
   },
   {
    "duration": 13,
    "start_time": "2021-12-06T20:42:14.851Z"
   },
   {
    "duration": 7342,
    "start_time": "2021-12-07T08:06:25.062Z"
   },
   {
    "duration": 367,
    "start_time": "2021-12-07T08:06:43.667Z"
   },
   {
    "duration": 721,
    "start_time": "2021-12-07T08:07:01.707Z"
   },
   {
    "duration": 192,
    "start_time": "2021-12-07T08:07:04.199Z"
   },
   {
    "duration": 26,
    "start_time": "2021-12-07T08:07:07.050Z"
   },
   {
    "duration": 32,
    "start_time": "2021-12-07T08:07:10.488Z"
   },
   {
    "duration": 5,
    "start_time": "2021-12-07T08:07:15.207Z"
   },
   {
    "duration": 39,
    "start_time": "2021-12-07T08:07:19.567Z"
   },
   {
    "duration": 7,
    "start_time": "2021-12-07T08:07:25.364Z"
   },
   {
    "duration": 35,
    "start_time": "2021-12-07T08:07:41.728Z"
   },
   {
    "duration": 7,
    "start_time": "2021-12-07T08:07:44.248Z"
   },
   {
    "duration": 31,
    "start_time": "2021-12-07T08:07:53.542Z"
   },
   {
    "duration": 23,
    "start_time": "2021-12-07T08:08:00.689Z"
   },
   {
    "duration": 31,
    "start_time": "2021-12-07T08:08:03.818Z"
   },
   {
    "duration": 80,
    "start_time": "2021-12-07T08:08:07.650Z"
   },
   {
    "duration": 87,
    "start_time": "2021-12-07T08:08:11.253Z"
   },
   {
    "duration": 73,
    "start_time": "2021-12-07T08:08:14.124Z"
   },
   {
    "duration": 10,
    "start_time": "2021-12-07T08:08:17.949Z"
   },
   {
    "duration": 4,
    "start_time": "2021-12-07T08:08:25.722Z"
   },
   {
    "duration": 13,
    "start_time": "2021-12-07T08:08:28.335Z"
   },
   {
    "duration": 66,
    "start_time": "2021-12-07T08:08:31.246Z"
   },
   {
    "duration": 409,
    "start_time": "2021-12-07T08:08:38.831Z"
   },
   {
    "duration": 378,
    "start_time": "2021-12-07T08:09:03.743Z"
   },
   {
    "duration": 65,
    "start_time": "2021-12-07T08:09:25.064Z"
   },
   {
    "duration": 384,
    "start_time": "2021-12-07T08:09:47.431Z"
   },
   {
    "duration": 14,
    "start_time": "2021-12-07T08:10:18.049Z"
   },
   {
    "duration": 6,
    "start_time": "2021-12-07T08:10:26.288Z"
   },
   {
    "duration": 20,
    "start_time": "2021-12-07T08:10:29.240Z"
   },
   {
    "duration": 18,
    "start_time": "2021-12-07T08:10:30.593Z"
   },
   {
    "duration": 19,
    "start_time": "2021-12-07T08:10:31.650Z"
   },
   {
    "duration": 17,
    "start_time": "2021-12-07T08:10:33.344Z"
   },
   {
    "duration": 20,
    "start_time": "2021-12-07T08:10:34.989Z"
   },
   {
    "duration": 18,
    "start_time": "2021-12-07T08:10:36.556Z"
   },
   {
    "duration": 12,
    "start_time": "2021-12-07T08:10:40.230Z"
   },
   {
    "duration": 31,
    "start_time": "2021-12-07T08:10:44.866Z"
   },
   {
    "duration": 403,
    "start_time": "2021-12-07T08:11:18.265Z"
   },
   {
    "duration": 15,
    "start_time": "2021-12-07T08:12:03.262Z"
   },
   {
    "duration": 29,
    "start_time": "2021-12-07T08:13:02.215Z"
   },
   {
    "duration": 28,
    "start_time": "2021-12-07T08:13:41.056Z"
   },
   {
    "duration": 28,
    "start_time": "2021-12-07T08:14:10.423Z"
   },
   {
    "duration": 25,
    "start_time": "2021-12-07T08:14:15.928Z"
   },
   {
    "duration": 6,
    "start_time": "2021-12-07T08:47:20.504Z"
   },
   {
    "duration": 29,
    "start_time": "2021-12-07T08:48:46.418Z"
   },
   {
    "duration": 26,
    "start_time": "2021-12-07T08:49:51.533Z"
   },
   {
    "duration": 42,
    "start_time": "2021-12-07T08:56:01.277Z"
   },
   {
    "duration": 24,
    "start_time": "2021-12-07T08:56:19.006Z"
   },
   {
    "duration": 26,
    "start_time": "2021-12-07T08:56:32.686Z"
   },
   {
    "duration": 27,
    "start_time": "2021-12-07T08:57:02.863Z"
   },
   {
    "duration": 38,
    "start_time": "2021-12-07T08:57:08.567Z"
   },
   {
    "duration": 6,
    "start_time": "2021-12-07T09:39:29.201Z"
   },
   {
    "duration": 7,
    "start_time": "2021-12-07T09:39:31.797Z"
   },
   {
    "duration": 37,
    "start_time": "2021-12-07T09:39:47.928Z"
   },
   {
    "duration": 27,
    "start_time": "2021-12-07T09:39:51.144Z"
   },
   {
    "duration": 5,
    "start_time": "2021-12-07T09:40:46.469Z"
   },
   {
    "duration": 28,
    "start_time": "2021-12-07T09:40:50.382Z"
   },
   {
    "duration": 31,
    "start_time": "2021-12-07T09:40:53.777Z"
   },
   {
    "duration": 36,
    "start_time": "2021-12-07T09:41:01.694Z"
   },
   {
    "duration": 35,
    "start_time": "2021-12-07T09:41:09.449Z"
   },
   {
    "duration": 32,
    "start_time": "2021-12-07T09:41:23.251Z"
   },
   {
    "duration": 38,
    "start_time": "2021-12-07T09:41:48.584Z"
   },
   {
    "duration": 32,
    "start_time": "2021-12-07T09:42:30.815Z"
   },
   {
    "duration": 37,
    "start_time": "2021-12-07T09:42:45.156Z"
   },
   {
    "duration": 33,
    "start_time": "2021-12-07T09:43:58.141Z"
   },
   {
    "duration": 29,
    "start_time": "2021-12-07T09:44:25.693Z"
   },
   {
    "duration": 26,
    "start_time": "2021-12-07T09:44:27.823Z"
   },
   {
    "duration": 5,
    "start_time": "2021-12-07T09:45:13.120Z"
   },
   {
    "duration": 29,
    "start_time": "2021-12-07T09:45:17.374Z"
   },
   {
    "duration": 26,
    "start_time": "2021-12-07T09:45:19.009Z"
   },
   {
    "duration": 6,
    "start_time": "2021-12-07T09:48:00.424Z"
   },
   {
    "duration": 5,
    "start_time": "2021-12-07T09:48:05.649Z"
   },
   {
    "duration": 33,
    "start_time": "2021-12-07T09:48:52.037Z"
   },
   {
    "duration": 23,
    "start_time": "2021-12-07T09:49:00.280Z"
   },
   {
    "duration": 5,
    "start_time": "2021-12-07T09:49:10.337Z"
   },
   {
    "duration": 39,
    "start_time": "2021-12-07T09:49:50.154Z"
   },
   {
    "duration": 37,
    "start_time": "2021-12-07T09:49:53.643Z"
   },
   {
    "duration": 42,
    "start_time": "2021-12-07T09:50:04.574Z"
   },
   {
    "duration": 32,
    "start_time": "2021-12-07T09:50:06.903Z"
   },
   {
    "duration": 32,
    "start_time": "2021-12-07T09:50:17.331Z"
   },
   {
    "duration": 33,
    "start_time": "2021-12-07T09:50:26.481Z"
   },
   {
    "duration": 4,
    "start_time": "2021-12-07T09:55:13.089Z"
   },
   {
    "duration": 197,
    "start_time": "2021-12-07T09:55:16.173Z"
   },
   {
    "duration": 16,
    "start_time": "2021-12-07T09:55:18.873Z"
   },
   {
    "duration": 35,
    "start_time": "2021-12-07T09:55:25.082Z"
   },
   {
    "duration": 8,
    "start_time": "2021-12-07T09:55:31.899Z"
   },
   {
    "duration": 21,
    "start_time": "2021-12-07T09:55:37.575Z"
   },
   {
    "duration": 5,
    "start_time": "2021-12-07T09:55:42.677Z"
   },
   {
    "duration": 35,
    "start_time": "2021-12-07T09:55:48.038Z"
   },
   {
    "duration": 24,
    "start_time": "2021-12-07T09:55:57.076Z"
   },
   {
    "duration": 31,
    "start_time": "2021-12-07T09:56:00.427Z"
   },
   {
    "duration": 91,
    "start_time": "2021-12-07T09:56:04.234Z"
   },
   {
    "duration": 101,
    "start_time": "2021-12-07T09:56:07.331Z"
   },
   {
    "duration": 90,
    "start_time": "2021-12-07T09:56:09.628Z"
   },
   {
    "duration": 10,
    "start_time": "2021-12-07T09:56:13.773Z"
   },
   {
    "duration": 8,
    "start_time": "2021-12-07T09:56:20.878Z"
   },
   {
    "duration": 16,
    "start_time": "2021-12-07T09:56:24.605Z"
   },
   {
    "duration": 80,
    "start_time": "2021-12-07T09:56:45.130Z"
   },
   {
    "duration": 74,
    "start_time": "2021-12-07T09:56:55.609Z"
   },
   {
    "duration": 15,
    "start_time": "2021-12-07T09:57:06.167Z"
   },
   {
    "duration": 21,
    "start_time": "2021-12-07T09:57:13.453Z"
   },
   {
    "duration": 23,
    "start_time": "2021-12-07T09:57:20.849Z"
   },
   {
    "duration": 6,
    "start_time": "2021-12-07T09:57:45.509Z"
   },
   {
    "duration": 20,
    "start_time": "2021-12-07T09:57:49.858Z"
   },
   {
    "duration": 18,
    "start_time": "2021-12-07T09:57:51.373Z"
   },
   {
    "duration": 18,
    "start_time": "2021-12-07T09:57:52.838Z"
   },
   {
    "duration": 17,
    "start_time": "2021-12-07T09:57:54.986Z"
   },
   {
    "duration": 29,
    "start_time": "2021-12-07T09:57:56.173Z"
   },
   {
    "duration": 21,
    "start_time": "2021-12-07T09:57:59.215Z"
   },
   {
    "duration": 20,
    "start_time": "2021-12-07T09:58:25.005Z"
   },
   {
    "duration": 34,
    "start_time": "2021-12-07T09:59:21.431Z"
   },
   {
    "duration": 31,
    "start_time": "2021-12-07T09:59:29.939Z"
   },
   {
    "duration": 5,
    "start_time": "2021-12-07T09:59:53.949Z"
   },
   {
    "duration": 31,
    "start_time": "2021-12-07T10:00:01.612Z"
   },
   {
    "duration": 31,
    "start_time": "2021-12-07T10:00:04.737Z"
   },
   {
    "duration": 27,
    "start_time": "2021-12-07T10:00:21.798Z"
   },
   {
    "duration": 378,
    "start_time": "2021-12-07T10:00:52.602Z"
   },
   {
    "duration": 30,
    "start_time": "2021-12-07T10:01:17.157Z"
   },
   {
    "duration": 30,
    "start_time": "2021-12-07T10:01:28.677Z"
   },
   {
    "duration": 35,
    "start_time": "2021-12-07T10:01:33.148Z"
   },
   {
    "duration": 37,
    "start_time": "2021-12-07T10:01:48.175Z"
   },
   {
    "duration": 28,
    "start_time": "2021-12-07T10:01:55.285Z"
   },
   {
    "duration": 40,
    "start_time": "2021-12-07T10:02:03.653Z"
   },
   {
    "duration": 33,
    "start_time": "2021-12-07T10:02:11.752Z"
   },
   {
    "duration": 27,
    "start_time": "2021-12-07T10:02:19.680Z"
   },
   {
    "duration": 31,
    "start_time": "2021-12-07T10:02:59.157Z"
   },
   {
    "duration": 44,
    "start_time": "2021-12-07T10:03:01.234Z"
   },
   {
    "duration": 5,
    "start_time": "2021-12-07T10:07:32.602Z"
   },
   {
    "duration": 5,
    "start_time": "2021-12-07T10:11:03.527Z"
   },
   {
    "duration": 6,
    "start_time": "2021-12-07T10:11:07.071Z"
   },
   {
    "duration": 34,
    "start_time": "2021-12-07T10:11:08.743Z"
   },
   {
    "duration": 31,
    "start_time": "2021-12-07T10:11:12.927Z"
   },
   {
    "duration": 27,
    "start_time": "2021-12-07T10:12:40.189Z"
   },
   {
    "duration": 30,
    "start_time": "2021-12-07T10:13:03.589Z"
   },
   {
    "duration": 29,
    "start_time": "2021-12-07T10:13:12.072Z"
   },
   {
    "duration": 27,
    "start_time": "2021-12-07T10:13:48.983Z"
   },
   {
    "duration": 28,
    "start_time": "2021-12-07T10:13:51.883Z"
   },
   {
    "duration": 783,
    "start_time": "2021-12-07T10:14:51.986Z"
   },
   {
    "duration": 202,
    "start_time": "2021-12-07T10:14:54.622Z"
   },
   {
    "duration": 27,
    "start_time": "2021-12-07T10:14:57.872Z"
   },
   {
    "duration": 34,
    "start_time": "2021-12-07T10:15:04.807Z"
   },
   {
    "duration": 6,
    "start_time": "2021-12-07T10:15:14.531Z"
   },
   {
    "duration": 27,
    "start_time": "2021-12-07T10:15:22.044Z"
   },
   {
    "duration": 5,
    "start_time": "2021-12-07T10:15:24.473Z"
   },
   {
    "duration": 39,
    "start_time": "2021-12-07T10:15:32.359Z"
   },
   {
    "duration": 23,
    "start_time": "2021-12-07T10:15:39.481Z"
   },
   {
    "duration": 48,
    "start_time": "2021-12-07T10:15:42.052Z"
   },
   {
    "duration": 92,
    "start_time": "2021-12-07T10:15:44.951Z"
   },
   {
    "duration": 114,
    "start_time": "2021-12-07T10:15:47.625Z"
   },
   {
    "duration": 79,
    "start_time": "2021-12-07T10:15:50.789Z"
   },
   {
    "duration": 10,
    "start_time": "2021-12-07T10:15:57.689Z"
   },
   {
    "duration": 4,
    "start_time": "2021-12-07T10:16:05.224Z"
   },
   {
    "duration": 16,
    "start_time": "2021-12-07T10:16:08.328Z"
   },
   {
    "duration": 75,
    "start_time": "2021-12-07T10:16:11.643Z"
   },
   {
    "duration": 14,
    "start_time": "2021-12-07T10:16:23.511Z"
   },
   {
    "duration": 14,
    "start_time": "2021-12-07T10:16:27.240Z"
   },
   {
    "duration": 4,
    "start_time": "2021-12-07T10:16:37.785Z"
   },
   {
    "duration": 26,
    "start_time": "2021-12-07T10:16:40.248Z"
   },
   {
    "duration": 18,
    "start_time": "2021-12-07T10:16:42.610Z"
   },
   {
    "duration": 25,
    "start_time": "2021-12-07T10:16:45.036Z"
   },
   {
    "duration": 18,
    "start_time": "2021-12-07T10:16:47.240Z"
   },
   {
    "duration": 28,
    "start_time": "2021-12-07T10:16:49.578Z"
   },
   {
    "duration": 20,
    "start_time": "2021-12-07T10:16:51.830Z"
   },
   {
    "duration": 12,
    "start_time": "2021-12-07T10:17:00.776Z"
   },
   {
    "duration": 34,
    "start_time": "2021-12-07T10:17:08.549Z"
   },
   {
    "duration": 23,
    "start_time": "2021-12-07T10:17:57.821Z"
   },
   {
    "duration": 5,
    "start_time": "2021-12-07T10:18:18.373Z"
   },
   {
    "duration": 28,
    "start_time": "2021-12-07T10:18:20.906Z"
   },
   {
    "duration": 28,
    "start_time": "2021-12-07T10:18:41.413Z"
   },
   {
    "duration": 29,
    "start_time": "2021-12-07T10:18:53.824Z"
   },
   {
    "duration": 32,
    "start_time": "2021-12-07T10:18:56.604Z"
   },
   {
    "duration": 6,
    "start_time": "2021-12-07T11:06:12.026Z"
   },
   {
    "duration": 40,
    "start_time": "2021-12-07T11:06:14.557Z"
   },
   {
    "duration": 42,
    "start_time": "2021-12-07T11:06:20.100Z"
   },
   {
    "duration": 25,
    "start_time": "2021-12-07T11:06:56.402Z"
   },
   {
    "duration": 39,
    "start_time": "2021-12-07T11:07:25.754Z"
   },
   {
    "duration": 29,
    "start_time": "2021-12-07T11:17:14.692Z"
   },
   {
    "duration": 29,
    "start_time": "2021-12-07T11:17:18.274Z"
   },
   {
    "duration": 25,
    "start_time": "2021-12-07T11:17:20.409Z"
   },
   {
    "duration": 6,
    "start_time": "2021-12-07T11:17:26.301Z"
   },
   {
    "duration": 40,
    "start_time": "2021-12-07T11:17:28.786Z"
   },
   {
    "duration": 42,
    "start_time": "2021-12-07T11:17:31.512Z"
   },
   {
    "duration": 4,
    "start_time": "2021-12-07T11:28:26.849Z"
   },
   {
    "duration": 42,
    "start_time": "2021-12-07T11:28:31.943Z"
   },
   {
    "duration": 41,
    "start_time": "2021-12-07T11:28:38.738Z"
   },
   {
    "duration": 26,
    "start_time": "2021-12-07T11:29:08.965Z"
   },
   {
    "duration": 25,
    "start_time": "2021-12-07T11:29:12.976Z"
   },
   {
    "duration": 6,
    "start_time": "2021-12-07T12:04:47.661Z"
   },
   {
    "duration": 1284,
    "start_time": "2021-12-07T12:04:52.342Z"
   },
   {
    "duration": 6,
    "start_time": "2021-12-07T12:05:37.664Z"
   },
   {
    "duration": 769,
    "start_time": "2021-12-07T12:05:40.680Z"
   },
   {
    "duration": 831,
    "start_time": "2021-12-07T12:05:44.605Z"
   },
   {
    "duration": 5,
    "start_time": "2021-12-07T12:06:38.516Z"
   },
   {
    "duration": 7,
    "start_time": "2021-12-07T12:06:47.886Z"
   },
   {
    "duration": 39,
    "start_time": "2021-12-07T12:06:50.718Z"
   },
   {
    "duration": 39,
    "start_time": "2021-12-07T12:06:58.269Z"
   },
   {
    "duration": 27,
    "start_time": "2021-12-07T12:07:13.509Z"
   },
   {
    "duration": 39,
    "start_time": "2021-12-07T12:07:32.076Z"
   },
   {
    "duration": 6,
    "start_time": "2021-12-07T12:08:32.326Z"
   },
   {
    "duration": 5,
    "start_time": "2021-12-07T12:08:34.504Z"
   },
   {
    "duration": 37,
    "start_time": "2021-12-07T12:08:37.062Z"
   },
   {
    "duration": 26,
    "start_time": "2021-12-07T12:08:40.053Z"
   },
   {
    "duration": 36,
    "start_time": "2021-12-07T12:09:42.475Z"
   },
   {
    "duration": 29,
    "start_time": "2021-12-07T12:09:49.025Z"
   },
   {
    "duration": 5,
    "start_time": "2021-12-07T12:12:08.454Z"
   },
   {
    "duration": 759,
    "start_time": "2021-12-07T12:12:10.978Z"
   },
   {
    "duration": 5,
    "start_time": "2021-12-07T12:15:35.490Z"
   },
   {
    "duration": 36,
    "start_time": "2021-12-07T12:15:39.502Z"
   },
   {
    "duration": 28,
    "start_time": "2021-12-07T12:15:43.258Z"
   },
   {
    "duration": 55,
    "start_time": "2021-12-07T12:15:48.484Z"
   },
   {
    "duration": 36,
    "start_time": "2021-12-07T12:15:51.988Z"
   },
   {
    "duration": 5,
    "start_time": "2021-12-07T12:21:43.276Z"
   },
   {
    "duration": 5,
    "start_time": "2021-12-07T12:22:12.570Z"
   },
   {
    "duration": 1485,
    "start_time": "2021-12-07T12:22:15.292Z"
   },
   {
    "duration": 5,
    "start_time": "2021-12-07T12:23:57.427Z"
   },
   {
    "duration": 1343,
    "start_time": "2021-12-07T12:24:01.369Z"
   },
   {
    "duration": 5,
    "start_time": "2021-12-07T12:25:29.814Z"
   },
   {
    "duration": 40,
    "start_time": "2021-12-07T12:25:32.568Z"
   },
   {
    "duration": 30,
    "start_time": "2021-12-07T12:25:35.105Z"
   },
   {
    "duration": 36,
    "start_time": "2021-12-07T12:25:37.849Z"
   },
   {
    "duration": 27,
    "start_time": "2021-12-07T12:25:40.077Z"
   },
   {
    "duration": 5,
    "start_time": "2021-12-07T12:26:14.070Z"
   },
   {
    "duration": 40,
    "start_time": "2021-12-07T12:26:16.204Z"
   },
   {
    "duration": 6,
    "start_time": "2021-12-07T12:26:46.972Z"
   },
   {
    "duration": 42,
    "start_time": "2021-12-07T12:26:49.447Z"
   },
   {
    "duration": 5,
    "start_time": "2021-12-07T12:27:03.923Z"
   },
   {
    "duration": 39,
    "start_time": "2021-12-07T12:27:06.275Z"
   },
   {
    "duration": 6,
    "start_time": "2021-12-07T12:27:11.864Z"
   },
   {
    "duration": 37,
    "start_time": "2021-12-07T12:27:13.718Z"
   },
   {
    "duration": 45,
    "start_time": "2021-12-07T12:30:16.956Z"
   },
   {
    "duration": 28,
    "start_time": "2021-12-07T12:30:21.225Z"
   },
   {
    "duration": 5,
    "start_time": "2021-12-07T12:36:53.123Z"
   },
   {
    "duration": 6,
    "start_time": "2021-12-07T12:36:55.843Z"
   },
   {
    "duration": 818,
    "start_time": "2021-12-07T12:36:58.243Z"
   },
   {
    "duration": 5,
    "start_time": "2021-12-07T12:37:44.768Z"
   },
   {
    "duration": 24,
    "start_time": "2021-12-07T12:37:47.301Z"
   },
   {
    "duration": 18,
    "start_time": "2021-12-07T12:37:56.955Z"
   },
   {
    "duration": 5,
    "start_time": "2021-12-07T12:40:21.167Z"
   },
   {
    "duration": 24,
    "start_time": "2021-12-07T12:40:23.517Z"
   },
   {
    "duration": 24,
    "start_time": "2021-12-07T12:40:26.943Z"
   },
   {
    "duration": 20,
    "start_time": "2021-12-07T12:40:29.531Z"
   },
   {
    "duration": 24,
    "start_time": "2021-12-07T12:40:32.227Z"
   },
   {
    "duration": 17,
    "start_time": "2021-12-07T12:40:37.569Z"
   },
   {
    "duration": 5,
    "start_time": "2021-12-07T12:41:23.801Z"
   },
   {
    "duration": 26,
    "start_time": "2021-12-07T12:41:26.071Z"
   },
   {
    "duration": 18,
    "start_time": "2021-12-07T12:41:31.823Z"
   },
   {
    "duration": 5,
    "start_time": "2021-12-07T12:43:11.114Z"
   },
   {
    "duration": 26,
    "start_time": "2021-12-07T12:43:14.195Z"
   },
   {
    "duration": 18,
    "start_time": "2021-12-07T12:43:17.367Z"
   },
   {
    "duration": 23,
    "start_time": "2021-12-07T12:43:19.870Z"
   },
   {
    "duration": 20,
    "start_time": "2021-12-07T12:43:22.136Z"
   },
   {
    "duration": 17,
    "start_time": "2021-12-07T12:53:33.607Z"
   },
   {
    "duration": 24,
    "start_time": "2021-12-07T12:53:36.335Z"
   },
   {
    "duration": 19,
    "start_time": "2021-12-07T12:53:39.049Z"
   },
   {
    "duration": 12,
    "start_time": "2021-12-07T13:12:17.430Z"
   },
   {
    "duration": 6,
    "start_time": "2021-12-07T13:12:54.281Z"
   },
   {
    "duration": 11,
    "start_time": "2021-12-07T13:14:03.270Z"
   },
   {
    "duration": 7,
    "start_time": "2021-12-07T13:14:05.234Z"
   },
   {
    "duration": 84,
    "start_time": "2021-12-08T05:30:29.483Z"
   },
   {
    "duration": 427,
    "start_time": "2021-12-08T07:54:33.087Z"
   },
   {
    "duration": 781,
    "start_time": "2021-12-08T07:54:52.288Z"
   },
   {
    "duration": 196,
    "start_time": "2021-12-08T07:54:54.771Z"
   },
   {
    "duration": 24,
    "start_time": "2021-12-08T07:54:57.571Z"
   },
   {
    "duration": 47,
    "start_time": "2021-12-08T07:55:01.102Z"
   },
   {
    "duration": 8,
    "start_time": "2021-12-08T07:55:07.101Z"
   },
   {
    "duration": 26,
    "start_time": "2021-12-08T07:55:13.407Z"
   },
   {
    "duration": 6,
    "start_time": "2021-12-08T07:55:16.165Z"
   },
   {
    "duration": 31,
    "start_time": "2021-12-08T07:55:23.755Z"
   },
   {
    "duration": 22,
    "start_time": "2021-12-08T07:55:28.201Z"
   },
   {
    "duration": 30,
    "start_time": "2021-12-08T07:55:30.993Z"
   },
   {
    "duration": 31,
    "start_time": "2021-12-08T07:56:21.910Z"
   },
   {
    "duration": 92,
    "start_time": "2021-12-08T07:56:56.831Z"
   },
   {
    "duration": 113,
    "start_time": "2021-12-08T07:57:02.117Z"
   },
   {
    "duration": 78,
    "start_time": "2021-12-08T07:57:04.043Z"
   },
   {
    "duration": 505,
    "start_time": "2021-12-08T08:00:54.316Z"
   },
   {
    "duration": 400,
    "start_time": "2021-12-08T08:01:11.783Z"
   },
   {
    "duration": 60,
    "start_time": "2021-12-08T08:01:44.344Z"
   },
   {
    "duration": 63,
    "start_time": "2021-12-08T08:01:58.172Z"
   },
   {
    "duration": 4,
    "start_time": "2021-12-08T08:02:38.851Z"
   },
   {
    "duration": 15,
    "start_time": "2021-12-08T08:02:41.888Z"
   },
   {
    "duration": 66,
    "start_time": "2021-12-08T08:02:46.529Z"
   },
   {
    "duration": 13,
    "start_time": "2021-12-08T08:03:12.872Z"
   },
   {
    "duration": 15,
    "start_time": "2021-12-08T08:03:15.973Z"
   },
   {
    "duration": 4,
    "start_time": "2021-12-08T08:03:23.000Z"
   },
   {
    "duration": 20,
    "start_time": "2021-12-08T08:03:29.319Z"
   },
   {
    "duration": 19,
    "start_time": "2021-12-08T08:03:30.801Z"
   },
   {
    "duration": 20,
    "start_time": "2021-12-08T08:03:31.908Z"
   },
   {
    "duration": 18,
    "start_time": "2021-12-08T08:03:33.891Z"
   },
   {
    "duration": 20,
    "start_time": "2021-12-08T08:03:35.630Z"
   },
   {
    "duration": 19,
    "start_time": "2021-12-08T08:03:37.246Z"
   },
   {
    "duration": 92,
    "start_time": "2021-12-08T08:05:48.574Z"
   },
   {
    "duration": 87,
    "start_time": "2021-12-08T08:05:52.119Z"
   },
   {
    "duration": 94,
    "start_time": "2021-12-08T08:09:15.980Z"
   },
   {
    "duration": 27,
    "start_time": "2021-12-08T08:09:37.397Z"
   },
   {
    "duration": 24,
    "start_time": "2021-12-08T08:09:40.692Z"
   },
   {
    "duration": 33,
    "start_time": "2021-12-08T08:09:54.882Z"
   },
   {
    "duration": 7,
    "start_time": "2021-12-08T08:10:05.092Z"
   },
   {
    "duration": 32,
    "start_time": "2021-12-08T08:10:09.765Z"
   },
   {
    "duration": 19,
    "start_time": "2021-12-08T08:10:19.658Z"
   },
   {
    "duration": 34,
    "start_time": "2021-12-08T08:10:21.961Z"
   },
   {
    "duration": 20,
    "start_time": "2021-12-08T08:10:24.339Z"
   },
   {
    "duration": 11,
    "start_time": "2021-12-08T08:10:32.049Z"
   },
   {
    "duration": 7,
    "start_time": "2021-12-08T08:10:34.444Z"
   },
   {
    "duration": 10,
    "start_time": "2021-12-08T08:10:40.066Z"
   },
   {
    "duration": 7,
    "start_time": "2021-12-08T08:10:42.372Z"
   }
  ],
  "colab": {
   "collapsed_sections": [
    "E0vqbgi9ay0H",
    "VUC88oWjTJw2"
   ],
   "name": "yandex_music_project_2021.2.ipynb",
   "provenance": []
  },
  "kernelspec": {
   "display_name": "Python 3 (ipykernel)",
   "language": "python",
   "name": "python3"
  },
  "language_info": {
   "codemirror_mode": {
    "name": "ipython",
    "version": 3
   },
   "file_extension": ".py",
   "mimetype": "text/x-python",
   "name": "python",
   "nbconvert_exporter": "python",
   "pygments_lexer": "ipython3",
   "version": "3.9.7"
  },
  "toc": {
   "base_numbering": 1,
   "nav_menu": {},
   "number_sections": true,
   "sideBar": true,
   "skip_h1_title": true,
   "title_cell": "Table of Contents",
   "title_sidebar": "Contents",
   "toc_cell": false,
   "toc_position": {
    "height": "calc(100% - 180px)",
    "left": "10px",
    "top": "150px",
    "width": "176.594px"
   },
   "toc_section_display": true,
   "toc_window_display": true
  }
 },
 "nbformat": 4,
 "nbformat_minor": 1
}
