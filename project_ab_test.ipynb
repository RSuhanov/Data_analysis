{
 "cells": [
  {
   "cell_type": "markdown",
   "metadata": {},
   "source": [
    "# Принятие решений в бизнесе"
   ]
  },
  {
   "cell_type": "markdown",
   "metadata": {
    "toc": true
   },
   "source": [
    "<h1>Содержание<span class=\"tocSkip\"></span></h1>\n",
    "<div class=\"toc\"><ul class=\"toc-item\"><li><span><a href=\"#Описание-проекта\" data-toc-modified-id=\"Описание-проекта-1\"><span class=\"toc-item-num\">1&nbsp;&nbsp;</span>Описание проекта</a></span></li><li><span><a href=\"#Приоритизация-гипотез\" data-toc-modified-id=\"Приоритизация-гипотез-2\"><span class=\"toc-item-num\">2&nbsp;&nbsp;</span>Приоритизация гипотез</a></span><ul class=\"toc-item\"><li><span><a href=\"#Применение-фреймворка-ICE\" data-toc-modified-id=\"Применение-фреймворка-ICE-2.1\"><span class=\"toc-item-num\">2.1&nbsp;&nbsp;</span>Применение фреймворка ICE</a></span></li><li><span><a href=\"#Применение-фреймворка-RICE\" data-toc-modified-id=\"Применение-фреймворка-RICE-2.2\"><span class=\"toc-item-num\">2.2&nbsp;&nbsp;</span>Применение фреймворка RICE</a></span></li><li><span><a href=\"#Анализ-изменения-приоритизации\" data-toc-modified-id=\"Анализ-изменения-приоритизации-2.3\"><span class=\"toc-item-num\">2.3&nbsp;&nbsp;</span>Анализ изменения приоритизации</a></span></li></ul></li><li><span><a href=\"#Анализ-A/B-теста\" data-toc-modified-id=\"Анализ-A/B-теста-3\"><span class=\"toc-item-num\">3&nbsp;&nbsp;</span>Анализ A/B-теста</a></span><ul class=\"toc-item\"><li><span><a href=\"#График-кумулятивной-выручки-по-группам,-выводы-и-предположения\" data-toc-modified-id=\"График-кумулятивной-выручки-по-группам,-выводы-и-предположения-3.1\"><span class=\"toc-item-num\">3.1&nbsp;&nbsp;</span>График кумулятивной выручки по группам, выводы и предположения</a></span></li><li><span><a href=\"#График-кумулятивного-среднего-чека-по-группам,-выводы-и-предположения\" data-toc-modified-id=\"График-кумулятивного-среднего-чека-по-группам,-выводы-и-предположения-3.2\"><span class=\"toc-item-num\">3.2&nbsp;&nbsp;</span>График кумулятивного среднего чека по группам, выводы и предположения</a></span></li><li><span><a href=\"#График-относительного-изменения-кумулятивного-среднего-чека-группы-B-к-группе-A,-выводы-и-предположения.\" data-toc-modified-id=\"График-относительного-изменения-кумулятивного-среднего-чека-группы-B-к-группе-A,-выводы-и-предположения.-3.3\"><span class=\"toc-item-num\">3.3&nbsp;&nbsp;</span>График относительного изменения кумулятивного среднего чека группы B к группе A, выводы и предположения.</a></span></li><li><span><a href=\"#График-кумулятивной-конверсии-по-группам,-выводы-и-предположения.\" data-toc-modified-id=\"График-кумулятивной-конверсии-по-группам,-выводы-и-предположения.-3.4\"><span class=\"toc-item-num\">3.4&nbsp;&nbsp;</span>График кумулятивной конверсии по группам, выводы и предположения.</a></span></li><li><span><a href=\"#График-относительного-изменения-кумулятивной-конверсии-группы-B-к-группе-A,-выводы-и-предположения.\" data-toc-modified-id=\"График-относительного-изменения-кумулятивной-конверсии-группы-B-к-группе-A,-выводы-и-предположения.-3.5\"><span class=\"toc-item-num\">3.5&nbsp;&nbsp;</span>График относительного изменения кумулятивной конверсии группы B к группе A, выводы и предположения.</a></span></li><li><span><a href=\"#График-количества-заказов-по-пользователям,-выводы-и-предположения.\" data-toc-modified-id=\"График-количества-заказов-по-пользователям,-выводы-и-предположения.-3.6\"><span class=\"toc-item-num\">3.6&nbsp;&nbsp;</span>График количества заказов по пользователям, выводы и предположения.</a></span></li><li><span><a href=\"#95-й,-99-й-перцентили-количества-заказов-на-пользователя,-выбор-границы-аномальных-пользователей.\" data-toc-modified-id=\"95-й,-99-й-перцентили-количества-заказов-на-пользователя,-выбор-границы-аномальных-пользователей.-3.7\"><span class=\"toc-item-num\">3.7&nbsp;&nbsp;</span>95-й, 99-й перцентили количества заказов на пользователя, выбор границы аномальных пользователей.</a></span></li><li><span><a href=\"#График-стоимостей-заказов,-выводы-и-предположения.\" data-toc-modified-id=\"График-стоимостей-заказов,-выводы-и-предположения.-3.8\"><span class=\"toc-item-num\">3.8&nbsp;&nbsp;</span>График стоимостей заказов, выводы и предположения.</a></span></li><li><span><a href=\"#95-й,-99-й-перцентилей-стоимости-заказов,-выбор-границы-аномальных-заказов.\" data-toc-modified-id=\"95-й,-99-й-перцентилей-стоимости-заказов,-выбор-границы-аномальных-заказов.-3.9\"><span class=\"toc-item-num\">3.9&nbsp;&nbsp;</span>95-й, 99-й перцентилей стоимости заказов, выбор границы аномальных заказов.</a></span></li><li><span><a href=\"#Статистическая-значимость-различий-в-конверсии-между-группами-по-«сырым»-данным,-выводы-и-предположения.\" data-toc-modified-id=\"Статистическая-значимость-различий-в-конверсии-между-группами-по-«сырым»-данным,-выводы-и-предположения.-3.10\"><span class=\"toc-item-num\">3.10&nbsp;&nbsp;</span>Статистическая значимость различий в конверсии между группами по «сырым» данным, выводы и предположения.</a></span></li><li><span><a href=\"#Статистическая-значимость-различий-в-среднем-чеке-заказа-между-группами-по-«сырым»-данным,-выводы-и-предположения.\" data-toc-modified-id=\"Статистическая-значимость-различий-в-среднем-чеке-заказа-между-группами-по-«сырым»-данным,-выводы-и-предположения.-3.11\"><span class=\"toc-item-num\">3.11&nbsp;&nbsp;</span>Статистическая значимость различий в среднем чеке заказа между группами по «сырым» данным, выводы и предположения.</a></span></li><li><span><a href=\"#Статистическая-значимость-различий-в-конверсии-между-группами-по-«очищенным»-данным,-выводы-и-предположения.\" data-toc-modified-id=\"Статистическая-значимость-различий-в-конверсии-между-группами-по-«очищенным»-данным,-выводы-и-предположения.-3.12\"><span class=\"toc-item-num\">3.12&nbsp;&nbsp;</span>Статистическая значимость различий в конверсии между группами по «очищенным» данным, выводы и предположения.</a></span></li><li><span><a href=\"#Статистическая-значимость-различий-в-среднем-чеке-заказа-между-группами-по-«очищенным»-данным,-выводы-и-предположения.\" data-toc-modified-id=\"Статистическая-значимость-различий-в-среднем-чеке-заказа-между-группами-по-«очищенным»-данным,-выводы-и-предположения.-3.13\"><span class=\"toc-item-num\">3.13&nbsp;&nbsp;</span>Статистическая значимость различий в среднем чеке заказа между группами по «очищенным» данным, выводы и предположения.</a></span></li></ul></li><li><span><a href=\"#Принятие-решений-по-результатам-A/B-теста\" data-toc-modified-id=\"Принятие-решений-по-результатам-A/B-теста-4\"><span class=\"toc-item-num\">4&nbsp;&nbsp;</span>Принятие решений по результатам A/B-теста</a></span></li><li><span><a href=\"#Чек-лист-готовности-проекта\" data-toc-modified-id=\"Чек-лист-готовности-проекта-5\"><span class=\"toc-item-num\">5&nbsp;&nbsp;</span>Чек-лист готовности проекта</a></span></li></ul></div>"
   ]
  },
  {
   "cell_type": "markdown",
   "metadata": {},
   "source": [
    "## Описание проекта"
   ]
  },
  {
   "cell_type": "markdown",
   "metadata": {},
   "source": [
    "Отделом аналитики крупного интернет-магазина совместно с отделом маркетинга подготовлен список гипотез для увеличения выручки. \n",
    "\n",
    "**Необходимо:**\n",
    "\n",
    "- приоритизировать гипотезы;\n",
    "- провести A/B-тест;\n",
    "- проанализировать результат;\n",
    "- принять решение.\n"
   ]
  },
  {
   "cell_type": "markdown",
   "metadata": {},
   "source": [
    "**Описание данных**\n",
    "\n",
    "\n",
    "Файл `/datasets/hypothesis.csv` \n",
    "\n",
    "- `Hypothesis` — краткое описание гипотезы;\n",
    "\n",
    "- `Reach` — охват пользователей по 10-балльной шкале;\n",
    "\n",
    "- `Impact` — влияние на пользователей по 10-балльной шкале;\n",
    "\n",
    "- `Confidence` — уверенность в гипотезе по 10-балльной шкале;\n",
    "\n",
    "- `Efforts` — затраты ресурсов на проверку гипотезы по 10-балльной шкале. Чем больше значение Efforts, тем дороже проверка гипотезы.\n",
    "\n",
    "Файл `/datasets/orders.csv`\n",
    "\n",
    "- `transactionId` — идентификатор заказа;\n",
    "\n",
    "- `visitorId`— идентификатор пользователя, совершившего заказ;\n",
    "\n",
    "- `date` — дата, когда был совершён заказ;\n",
    "\n",
    "- `revenue` — выручка заказа;\n",
    "\n",
    "- `group` — группа A/B-теста, в которую попал заказ.\n",
    "\n",
    "Файл `/datasets/visitors.csv` \n",
    "\n",
    "- `date` — дата;\n",
    "\n",
    "- `group` — группа A/B-теста;\n",
    "\n",
    "- `visitors` — количество пользователей в указанную дату в указанной группе A/B-теста.\n",
    "\n",
    "\n",
    "<font size=\"2\">([к содержанию](#Содержание))</font>"
   ]
  },
  {
   "cell_type": "markdown",
   "metadata": {},
   "source": [
    "## Приоритизация гипотез"
   ]
  },
  {
   "cell_type": "markdown",
   "metadata": {},
   "source": [
    "Импортируем необходимые для анализа библиотеки. "
   ]
  },
  {
   "cell_type": "code",
   "execution_count": 1,
   "metadata": {},
   "outputs": [],
   "source": [
    "import pandas as pd\n",
    "pd.set_option('display.max_colwidth', None)\n",
    "pd.options.display.float_format = '{:,.2f}'.format\n",
    "import numpy as np\n",
    "import math\n",
    "import matplotlib.pyplot as plt\n",
    "import seaborn as sns\n",
    "import scipy.stats as stats\n",
    "from scipy import stats as st"
   ]
  },
  {
   "cell_type": "markdown",
   "metadata": {},
   "source": [
    "Получим исходные данные и сохраним в переменные."
   ]
  },
  {
   "cell_type": "code",
   "execution_count": 2,
   "metadata": {},
   "outputs": [],
   "source": [
    "hypothesis = pd.read_csv('/datasets/hypothesis.csv')\n",
    "orders = pd.read_csv('/datasets/orders.csv')\n",
    "visitors = pd.read_csv('/datasets/visitors.csv')"
   ]
  },
  {
   "cell_type": "markdown",
   "metadata": {},
   "source": [
    "Проверим значения датасета hypothesis."
   ]
  },
  {
   "cell_type": "code",
   "execution_count": 3,
   "metadata": {},
   "outputs": [
    {
     "data": {
      "text/html": [
       "<div>\n",
       "<style scoped>\n",
       "    .dataframe tbody tr th:only-of-type {\n",
       "        vertical-align: middle;\n",
       "    }\n",
       "\n",
       "    .dataframe tbody tr th {\n",
       "        vertical-align: top;\n",
       "    }\n",
       "\n",
       "    .dataframe thead th {\n",
       "        text-align: right;\n",
       "    }\n",
       "</style>\n",
       "<table border=\"1\" class=\"dataframe\">\n",
       "  <thead>\n",
       "    <tr style=\"text-align: right;\">\n",
       "      <th></th>\n",
       "      <th>Hypothesis</th>\n",
       "      <th>Reach</th>\n",
       "      <th>Impact</th>\n",
       "      <th>Confidence</th>\n",
       "      <th>Efforts</th>\n",
       "    </tr>\n",
       "  </thead>\n",
       "  <tbody>\n",
       "    <tr>\n",
       "      <th>0</th>\n",
       "      <td>Добавить два новых канала привлечения трафика, что позволит привлекать на 30% больше пользователей</td>\n",
       "      <td>3</td>\n",
       "      <td>10</td>\n",
       "      <td>8</td>\n",
       "      <td>6</td>\n",
       "    </tr>\n",
       "    <tr>\n",
       "      <th>1</th>\n",
       "      <td>Запустить собственную службу доставки, что сократит срок доставки заказов</td>\n",
       "      <td>2</td>\n",
       "      <td>5</td>\n",
       "      <td>4</td>\n",
       "      <td>10</td>\n",
       "    </tr>\n",
       "    <tr>\n",
       "      <th>2</th>\n",
       "      <td>Добавить блоки рекомендаций товаров на сайт интернет магазина, чтобы повысить конверсию и средний чек заказа</td>\n",
       "      <td>8</td>\n",
       "      <td>3</td>\n",
       "      <td>7</td>\n",
       "      <td>3</td>\n",
       "    </tr>\n",
       "    <tr>\n",
       "      <th>3</th>\n",
       "      <td>Изменить структура категорий, что увеличит конверсию, т.к. пользователи быстрее найдут нужный товар</td>\n",
       "      <td>8</td>\n",
       "      <td>3</td>\n",
       "      <td>3</td>\n",
       "      <td>8</td>\n",
       "    </tr>\n",
       "    <tr>\n",
       "      <th>4</th>\n",
       "      <td>Изменить цвет фона главной страницы, чтобы увеличить вовлеченность пользователей</td>\n",
       "      <td>3</td>\n",
       "      <td>1</td>\n",
       "      <td>1</td>\n",
       "      <td>1</td>\n",
       "    </tr>\n",
       "    <tr>\n",
       "      <th>5</th>\n",
       "      <td>Добавить страницу отзывов клиентов о магазине, что позволит увеличить количество заказов</td>\n",
       "      <td>3</td>\n",
       "      <td>2</td>\n",
       "      <td>2</td>\n",
       "      <td>3</td>\n",
       "    </tr>\n",
       "    <tr>\n",
       "      <th>6</th>\n",
       "      <td>Показать на главной странице баннеры с актуальными акциями и распродажами, чтобы увеличить конверсию</td>\n",
       "      <td>5</td>\n",
       "      <td>3</td>\n",
       "      <td>8</td>\n",
       "      <td>3</td>\n",
       "    </tr>\n",
       "    <tr>\n",
       "      <th>7</th>\n",
       "      <td>Добавить форму подписки на все основные страницы, чтобы собрать базу клиентов для email-рассылок</td>\n",
       "      <td>10</td>\n",
       "      <td>7</td>\n",
       "      <td>8</td>\n",
       "      <td>5</td>\n",
       "    </tr>\n",
       "    <tr>\n",
       "      <th>8</th>\n",
       "      <td>Запустить акцию, дающую скидку на товар в день рождения</td>\n",
       "      <td>1</td>\n",
       "      <td>9</td>\n",
       "      <td>9</td>\n",
       "      <td>5</td>\n",
       "    </tr>\n",
       "  </tbody>\n",
       "</table>\n",
       "</div>"
      ],
      "text/plain": [
       "                                                                                                     Hypothesis  \\\n",
       "0            Добавить два новых канала привлечения трафика, что позволит привлекать на 30% больше пользователей   \n",
       "1                                     Запустить собственную службу доставки, что сократит срок доставки заказов   \n",
       "2  Добавить блоки рекомендаций товаров на сайт интернет магазина, чтобы повысить конверсию и средний чек заказа   \n",
       "3           Изменить структура категорий, что увеличит конверсию, т.к. пользователи быстрее найдут нужный товар   \n",
       "4                              Изменить цвет фона главной страницы, чтобы увеличить вовлеченность пользователей   \n",
       "5                      Добавить страницу отзывов клиентов о магазине, что позволит увеличить количество заказов   \n",
       "6          Показать на главной странице баннеры с актуальными акциями и распродажами, чтобы увеличить конверсию   \n",
       "7              Добавить форму подписки на все основные страницы, чтобы собрать базу клиентов для email-рассылок   \n",
       "8                                                       Запустить акцию, дающую скидку на товар в день рождения   \n",
       "\n",
       "   Reach  Impact  Confidence  Efforts  \n",
       "0      3      10           8        6  \n",
       "1      2       5           4       10  \n",
       "2      8       3           7        3  \n",
       "3      8       3           3        8  \n",
       "4      3       1           1        1  \n",
       "5      3       2           2        3  \n",
       "6      5       3           8        3  \n",
       "7     10       7           8        5  \n",
       "8      1       9           9        5  "
      ]
     },
     "metadata": {},
     "output_type": "display_data"
    }
   ],
   "source": [
    "display(hypothesis)"
   ]
  },
  {
   "cell_type": "markdown",
   "metadata": {},
   "source": [
    "Приведем наименования столбцов к нижнему регистру."
   ]
  },
  {
   "cell_type": "code",
   "execution_count": 4,
   "metadata": {},
   "outputs": [],
   "source": [
    "hypothesis.columns = hypothesis.columns.str.lower()"
   ]
  },
  {
   "cell_type": "markdown",
   "metadata": {},
   "source": [
    "Также получим и проанализируем общую информацию. "
   ]
  },
  {
   "cell_type": "code",
   "execution_count": 5,
   "metadata": {},
   "outputs": [
    {
     "name": "stdout",
     "output_type": "stream",
     "text": [
      "<class 'pandas.core.frame.DataFrame'>\n",
      "RangeIndex: 9 entries, 0 to 8\n",
      "Data columns (total 5 columns):\n",
      " #   Column      Non-Null Count  Dtype \n",
      "---  ------      --------------  ----- \n",
      " 0   hypothesis  9 non-null      object\n",
      " 1   reach       9 non-null      int64 \n",
      " 2   impact      9 non-null      int64 \n",
      " 3   confidence  9 non-null      int64 \n",
      " 4   efforts     9 non-null      int64 \n",
      "dtypes: int64(4), object(1)\n",
      "memory usage: 488.0+ bytes\n"
     ]
    }
   ],
   "source": [
    "hypothesis.info()"
   ]
  },
  {
   "cell_type": "markdown",
   "metadata": {},
   "source": [
    "Проверим начало, конец и выборочные значения датасета orders."
   ]
  },
  {
   "cell_type": "code",
   "execution_count": 6,
   "metadata": {},
   "outputs": [
    {
     "data": {
      "text/html": [
       "<div>\n",
       "<style scoped>\n",
       "    .dataframe tbody tr th:only-of-type {\n",
       "        vertical-align: middle;\n",
       "    }\n",
       "\n",
       "    .dataframe tbody tr th {\n",
       "        vertical-align: top;\n",
       "    }\n",
       "\n",
       "    .dataframe thead th {\n",
       "        text-align: right;\n",
       "    }\n",
       "</style>\n",
       "<table border=\"1\" class=\"dataframe\">\n",
       "  <thead>\n",
       "    <tr style=\"text-align: right;\">\n",
       "      <th></th>\n",
       "      <th>transactionId</th>\n",
       "      <th>visitorId</th>\n",
       "      <th>date</th>\n",
       "      <th>revenue</th>\n",
       "      <th>group</th>\n",
       "    </tr>\n",
       "  </thead>\n",
       "  <tbody>\n",
       "    <tr>\n",
       "      <th>0</th>\n",
       "      <td>3667963787</td>\n",
       "      <td>3312258926</td>\n",
       "      <td>2019-08-15</td>\n",
       "      <td>1650</td>\n",
       "      <td>B</td>\n",
       "    </tr>\n",
       "    <tr>\n",
       "      <th>1</th>\n",
       "      <td>2804400009</td>\n",
       "      <td>3642806036</td>\n",
       "      <td>2019-08-15</td>\n",
       "      <td>730</td>\n",
       "      <td>B</td>\n",
       "    </tr>\n",
       "    <tr>\n",
       "      <th>2</th>\n",
       "      <td>2961555356</td>\n",
       "      <td>4069496402</td>\n",
       "      <td>2019-08-15</td>\n",
       "      <td>400</td>\n",
       "      <td>A</td>\n",
       "    </tr>\n",
       "    <tr>\n",
       "      <th>3</th>\n",
       "      <td>3797467345</td>\n",
       "      <td>1196621759</td>\n",
       "      <td>2019-08-15</td>\n",
       "      <td>9759</td>\n",
       "      <td>B</td>\n",
       "    </tr>\n",
       "    <tr>\n",
       "      <th>4</th>\n",
       "      <td>2282983706</td>\n",
       "      <td>2322279887</td>\n",
       "      <td>2019-08-15</td>\n",
       "      <td>2308</td>\n",
       "      <td>B</td>\n",
       "    </tr>\n",
       "    <tr>\n",
       "      <th>5</th>\n",
       "      <td>182168103</td>\n",
       "      <td>935554773</td>\n",
       "      <td>2019-08-15</td>\n",
       "      <td>2210</td>\n",
       "      <td>B</td>\n",
       "    </tr>\n",
       "    <tr>\n",
       "      <th>6</th>\n",
       "      <td>398296753</td>\n",
       "      <td>2900797465</td>\n",
       "      <td>2019-08-15</td>\n",
       "      <td>1860</td>\n",
       "      <td>B</td>\n",
       "    </tr>\n",
       "    <tr>\n",
       "      <th>7</th>\n",
       "      <td>2626614568</td>\n",
       "      <td>78758296</td>\n",
       "      <td>2019-08-15</td>\n",
       "      <td>1044</td>\n",
       "      <td>A</td>\n",
       "    </tr>\n",
       "    <tr>\n",
       "      <th>8</th>\n",
       "      <td>1576988021</td>\n",
       "      <td>295230930</td>\n",
       "      <td>2019-08-15</td>\n",
       "      <td>13710</td>\n",
       "      <td>A</td>\n",
       "    </tr>\n",
       "    <tr>\n",
       "      <th>9</th>\n",
       "      <td>1506739906</td>\n",
       "      <td>1882260405</td>\n",
       "      <td>2019-08-15</td>\n",
       "      <td>1855</td>\n",
       "      <td>B</td>\n",
       "    </tr>\n",
       "  </tbody>\n",
       "</table>\n",
       "</div>"
      ],
      "text/plain": [
       "   transactionId   visitorId        date  revenue group\n",
       "0     3667963787  3312258926  2019-08-15     1650     B\n",
       "1     2804400009  3642806036  2019-08-15      730     B\n",
       "2     2961555356  4069496402  2019-08-15      400     A\n",
       "3     3797467345  1196621759  2019-08-15     9759     B\n",
       "4     2282983706  2322279887  2019-08-15     2308     B\n",
       "5      182168103   935554773  2019-08-15     2210     B\n",
       "6      398296753  2900797465  2019-08-15     1860     B\n",
       "7     2626614568    78758296  2019-08-15     1044     A\n",
       "8     1576988021   295230930  2019-08-15    13710     A\n",
       "9     1506739906  1882260405  2019-08-15     1855     B"
      ]
     },
     "metadata": {},
     "output_type": "display_data"
    },
    {
     "data": {
      "text/html": [
       "<div>\n",
       "<style scoped>\n",
       "    .dataframe tbody tr th:only-of-type {\n",
       "        vertical-align: middle;\n",
       "    }\n",
       "\n",
       "    .dataframe tbody tr th {\n",
       "        vertical-align: top;\n",
       "    }\n",
       "\n",
       "    .dataframe thead th {\n",
       "        text-align: right;\n",
       "    }\n",
       "</style>\n",
       "<table border=\"1\" class=\"dataframe\">\n",
       "  <thead>\n",
       "    <tr style=\"text-align: right;\">\n",
       "      <th></th>\n",
       "      <th>transactionId</th>\n",
       "      <th>visitorId</th>\n",
       "      <th>date</th>\n",
       "      <th>revenue</th>\n",
       "      <th>group</th>\n",
       "    </tr>\n",
       "  </thead>\n",
       "  <tbody>\n",
       "    <tr>\n",
       "      <th>1187</th>\n",
       "      <td>2274188238</td>\n",
       "      <td>132143192</td>\n",
       "      <td>2019-08-14</td>\n",
       "      <td>750</td>\n",
       "      <td>A</td>\n",
       "    </tr>\n",
       "    <tr>\n",
       "      <th>1188</th>\n",
       "      <td>1692103379</td>\n",
       "      <td>1022829655</td>\n",
       "      <td>2019-08-14</td>\n",
       "      <td>112</td>\n",
       "      <td>A</td>\n",
       "    </tr>\n",
       "    <tr>\n",
       "      <th>1189</th>\n",
       "      <td>4082620617</td>\n",
       "      <td>393266494</td>\n",
       "      <td>2019-08-14</td>\n",
       "      <td>31550</td>\n",
       "      <td>B</td>\n",
       "    </tr>\n",
       "    <tr>\n",
       "      <th>1190</th>\n",
       "      <td>38478481</td>\n",
       "      <td>1197745035</td>\n",
       "      <td>2019-08-14</td>\n",
       "      <td>8600</td>\n",
       "      <td>B</td>\n",
       "    </tr>\n",
       "    <tr>\n",
       "      <th>1191</th>\n",
       "      <td>3592955527</td>\n",
       "      <td>608641596</td>\n",
       "      <td>2019-08-14</td>\n",
       "      <td>16490</td>\n",
       "      <td>B</td>\n",
       "    </tr>\n",
       "    <tr>\n",
       "      <th>1192</th>\n",
       "      <td>2662137336</td>\n",
       "      <td>3733762160</td>\n",
       "      <td>2019-08-14</td>\n",
       "      <td>6490</td>\n",
       "      <td>B</td>\n",
       "    </tr>\n",
       "    <tr>\n",
       "      <th>1193</th>\n",
       "      <td>2203539145</td>\n",
       "      <td>370388673</td>\n",
       "      <td>2019-08-14</td>\n",
       "      <td>3190</td>\n",
       "      <td>A</td>\n",
       "    </tr>\n",
       "    <tr>\n",
       "      <th>1194</th>\n",
       "      <td>1807773912</td>\n",
       "      <td>573423106</td>\n",
       "      <td>2019-08-14</td>\n",
       "      <td>10550</td>\n",
       "      <td>A</td>\n",
       "    </tr>\n",
       "    <tr>\n",
       "      <th>1195</th>\n",
       "      <td>1947021204</td>\n",
       "      <td>1614305549</td>\n",
       "      <td>2019-08-14</td>\n",
       "      <td>100</td>\n",
       "      <td>A</td>\n",
       "    </tr>\n",
       "    <tr>\n",
       "      <th>1196</th>\n",
       "      <td>3936777065</td>\n",
       "      <td>2108080724</td>\n",
       "      <td>2019-08-15</td>\n",
       "      <td>202740</td>\n",
       "      <td>B</td>\n",
       "    </tr>\n",
       "  </tbody>\n",
       "</table>\n",
       "</div>"
      ],
      "text/plain": [
       "      transactionId   visitorId        date  revenue group\n",
       "1187     2274188238   132143192  2019-08-14      750     A\n",
       "1188     1692103379  1022829655  2019-08-14      112     A\n",
       "1189     4082620617   393266494  2019-08-14    31550     B\n",
       "1190       38478481  1197745035  2019-08-14     8600     B\n",
       "1191     3592955527   608641596  2019-08-14    16490     B\n",
       "1192     2662137336  3733762160  2019-08-14     6490     B\n",
       "1193     2203539145   370388673  2019-08-14     3190     A\n",
       "1194     1807773912   573423106  2019-08-14    10550     A\n",
       "1195     1947021204  1614305549  2019-08-14      100     A\n",
       "1196     3936777065  2108080724  2019-08-15   202740     B"
      ]
     },
     "metadata": {},
     "output_type": "display_data"
    },
    {
     "data": {
      "text/html": [
       "<div>\n",
       "<style scoped>\n",
       "    .dataframe tbody tr th:only-of-type {\n",
       "        vertical-align: middle;\n",
       "    }\n",
       "\n",
       "    .dataframe tbody tr th {\n",
       "        vertical-align: top;\n",
       "    }\n",
       "\n",
       "    .dataframe thead th {\n",
       "        text-align: right;\n",
       "    }\n",
       "</style>\n",
       "<table border=\"1\" class=\"dataframe\">\n",
       "  <thead>\n",
       "    <tr style=\"text-align: right;\">\n",
       "      <th></th>\n",
       "      <th>transactionId</th>\n",
       "      <th>visitorId</th>\n",
       "      <th>date</th>\n",
       "      <th>revenue</th>\n",
       "      <th>group</th>\n",
       "    </tr>\n",
       "  </thead>\n",
       "  <tbody>\n",
       "    <tr>\n",
       "      <th>347</th>\n",
       "      <td>4143214054</td>\n",
       "      <td>1869662856</td>\n",
       "      <td>2019-08-03</td>\n",
       "      <td>4370</td>\n",
       "      <td>A</td>\n",
       "    </tr>\n",
       "    <tr>\n",
       "      <th>212</th>\n",
       "      <td>1764119908</td>\n",
       "      <td>3332057097</td>\n",
       "      <td>2019-08-02</td>\n",
       "      <td>2820</td>\n",
       "      <td>B</td>\n",
       "    </tr>\n",
       "    <tr>\n",
       "      <th>223</th>\n",
       "      <td>408545316</td>\n",
       "      <td>2153871238</td>\n",
       "      <td>2019-08-23</td>\n",
       "      <td>2490</td>\n",
       "      <td>A</td>\n",
       "    </tr>\n",
       "    <tr>\n",
       "      <th>162</th>\n",
       "      <td>2634363174</td>\n",
       "      <td>2892265953</td>\n",
       "      <td>2019-08-17</td>\n",
       "      <td>1990</td>\n",
       "      <td>A</td>\n",
       "    </tr>\n",
       "    <tr>\n",
       "      <th>704</th>\n",
       "      <td>1185885568</td>\n",
       "      <td>759473111</td>\n",
       "      <td>2019-08-07</td>\n",
       "      <td>19520</td>\n",
       "      <td>A</td>\n",
       "    </tr>\n",
       "    <tr>\n",
       "      <th>573</th>\n",
       "      <td>1887336629</td>\n",
       "      <td>6958315</td>\n",
       "      <td>2019-08-04</td>\n",
       "      <td>1490</td>\n",
       "      <td>B</td>\n",
       "    </tr>\n",
       "    <tr>\n",
       "      <th>1109</th>\n",
       "      <td>4215838417</td>\n",
       "      <td>399408949</td>\n",
       "      <td>2019-08-12</td>\n",
       "      <td>11490</td>\n",
       "      <td>A</td>\n",
       "    </tr>\n",
       "    <tr>\n",
       "      <th>188</th>\n",
       "      <td>3634771255</td>\n",
       "      <td>2668501323</td>\n",
       "      <td>2019-08-17</td>\n",
       "      <td>17990</td>\n",
       "      <td>A</td>\n",
       "    </tr>\n",
       "    <tr>\n",
       "      <th>952</th>\n",
       "      <td>3187348360</td>\n",
       "      <td>1596446524</td>\n",
       "      <td>2019-08-28</td>\n",
       "      <td>2070</td>\n",
       "      <td>A</td>\n",
       "    </tr>\n",
       "    <tr>\n",
       "      <th>83</th>\n",
       "      <td>2208648828</td>\n",
       "      <td>3283584911</td>\n",
       "      <td>2019-08-16</td>\n",
       "      <td>4020</td>\n",
       "      <td>A</td>\n",
       "    </tr>\n",
       "  </tbody>\n",
       "</table>\n",
       "</div>"
      ],
      "text/plain": [
       "      transactionId   visitorId        date  revenue group\n",
       "347      4143214054  1869662856  2019-08-03     4370     A\n",
       "212      1764119908  3332057097  2019-08-02     2820     B\n",
       "223       408545316  2153871238  2019-08-23     2490     A\n",
       "162      2634363174  2892265953  2019-08-17     1990     A\n",
       "704      1185885568   759473111  2019-08-07    19520     A\n",
       "573      1887336629     6958315  2019-08-04     1490     B\n",
       "1109     4215838417   399408949  2019-08-12    11490     A\n",
       "188      3634771255  2668501323  2019-08-17    17990     A\n",
       "952      3187348360  1596446524  2019-08-28     2070     A\n",
       "83       2208648828  3283584911  2019-08-16     4020     A"
      ]
     },
     "metadata": {},
     "output_type": "display_data"
    }
   ],
   "source": [
    "display(orders.head(10))\n",
    "display(orders.tail(10))\n",
    "display(orders.sample(10))"
   ]
  },
  {
   "cell_type": "markdown",
   "metadata": {},
   "source": [
    "Также получим и проанализируем общую информацию. "
   ]
  },
  {
   "cell_type": "code",
   "execution_count": 7,
   "metadata": {},
   "outputs": [
    {
     "name": "stdout",
     "output_type": "stream",
     "text": [
      "<class 'pandas.core.frame.DataFrame'>\n",
      "RangeIndex: 1197 entries, 0 to 1196\n",
      "Data columns (total 5 columns):\n",
      " #   Column         Non-Null Count  Dtype \n",
      "---  ------         --------------  ----- \n",
      " 0   transactionId  1197 non-null   int64 \n",
      " 1   visitorId      1197 non-null   int64 \n",
      " 2   date           1197 non-null   object\n",
      " 3   revenue        1197 non-null   int64 \n",
      " 4   group          1197 non-null   object\n",
      "dtypes: int64(3), object(2)\n",
      "memory usage: 46.9+ KB\n"
     ]
    }
   ],
   "source": [
    "orders.info()"
   ]
  },
  {
   "cell_type": "markdown",
   "metadata": {},
   "source": [
    "Проверим наличие NaN-значений, посчитаем количество, отсортируем по убыванию. Также проверим наличие явных дубликатов."
   ]
  },
  {
   "cell_type": "code",
   "execution_count": 8,
   "metadata": {},
   "outputs": [
    {
     "data": {
      "text/plain": [
       "transactionId    0\n",
       "visitorId        0\n",
       "date             0\n",
       "revenue          0\n",
       "group            0\n",
       "dtype: int64"
      ]
     },
     "execution_count": 8,
     "metadata": {},
     "output_type": "execute_result"
    }
   ],
   "source": [
    "orders.isna().sum().sort_values(ascending = False)"
   ]
  },
  {
   "cell_type": "code",
   "execution_count": 9,
   "metadata": {},
   "outputs": [
    {
     "data": {
      "text/plain": [
       "0"
      ]
     },
     "execution_count": 9,
     "metadata": {},
     "output_type": "execute_result"
    }
   ],
   "source": [
    "orders.duplicated().sum()"
   ]
  },
  {
   "cell_type": "markdown",
   "metadata": {},
   "source": [
    "Формат данных столбца data приведем к формату datetime и проверим результат. "
   ]
  },
  {
   "cell_type": "code",
   "execution_count": 10,
   "metadata": {},
   "outputs": [
    {
     "name": "stdout",
     "output_type": "stream",
     "text": [
      "<class 'pandas.core.frame.DataFrame'>\n",
      "RangeIndex: 1197 entries, 0 to 1196\n",
      "Data columns (total 5 columns):\n",
      " #   Column         Non-Null Count  Dtype         \n",
      "---  ------         --------------  -----         \n",
      " 0   transactionId  1197 non-null   int64         \n",
      " 1   visitorId      1197 non-null   int64         \n",
      " 2   date           1197 non-null   datetime64[ns]\n",
      " 3   revenue        1197 non-null   int64         \n",
      " 4   group          1197 non-null   object        \n",
      "dtypes: datetime64[ns](1), int64(3), object(1)\n",
      "memory usage: 46.9+ KB\n"
     ]
    }
   ],
   "source": [
    "orders['date'] = pd.to_datetime(orders['date'])\n",
    "orders.info()"
   ]
  },
  {
   "cell_type": "markdown",
   "metadata": {},
   "source": [
    "Приведем наименования столбцов к нижнему регистру."
   ]
  },
  {
   "cell_type": "code",
   "execution_count": 11,
   "metadata": {},
   "outputs": [
    {
     "name": "stdout",
     "output_type": "stream",
     "text": [
      "<class 'pandas.core.frame.DataFrame'>\n",
      "RangeIndex: 1197 entries, 0 to 1196\n",
      "Data columns (total 5 columns):\n",
      " #   Column         Non-Null Count  Dtype         \n",
      "---  ------         --------------  -----         \n",
      " 0   transactionid  1197 non-null   int64         \n",
      " 1   visitorid      1197 non-null   int64         \n",
      " 2   date           1197 non-null   datetime64[ns]\n",
      " 3   revenue        1197 non-null   int64         \n",
      " 4   group          1197 non-null   object        \n",
      "dtypes: datetime64[ns](1), int64(3), object(1)\n",
      "memory usage: 46.9+ KB\n"
     ]
    }
   ],
   "source": [
    "orders.columns = orders.columns.str.lower()\n",
    "orders.info()"
   ]
  },
  {
   "cell_type": "markdown",
   "metadata": {},
   "source": [
    "Проверим корректность деления пользователей между сегментами. "
   ]
  },
  {
   "cell_type": "code",
   "execution_count": 12,
   "metadata": {},
   "outputs": [
    {
     "data": {
      "text/html": [
       "<div>\n",
       "<style scoped>\n",
       "    .dataframe tbody tr th:only-of-type {\n",
       "        vertical-align: middle;\n",
       "    }\n",
       "\n",
       "    .dataframe tbody tr th {\n",
       "        vertical-align: top;\n",
       "    }\n",
       "\n",
       "    .dataframe thead th {\n",
       "        text-align: right;\n",
       "    }\n",
       "</style>\n",
       "<table border=\"1\" class=\"dataframe\">\n",
       "  <thead>\n",
       "    <tr style=\"text-align: right;\">\n",
       "      <th></th>\n",
       "      <th>visitorid</th>\n",
       "      <th>%</th>\n",
       "    </tr>\n",
       "    <tr>\n",
       "      <th>group</th>\n",
       "      <th></th>\n",
       "      <th></th>\n",
       "    </tr>\n",
       "  </thead>\n",
       "  <tbody>\n",
       "    <tr>\n",
       "      <th>A</th>\n",
       "      <td>557</td>\n",
       "      <td>47.00</td>\n",
       "    </tr>\n",
       "    <tr>\n",
       "      <th>B</th>\n",
       "      <td>640</td>\n",
       "      <td>53.00</td>\n",
       "    </tr>\n",
       "  </tbody>\n",
       "</table>\n",
       "</div>"
      ],
      "text/plain": [
       "       visitorid     %\n",
       "group                 \n",
       "A            557 47.00\n",
       "B            640 53.00"
      ]
     },
     "metadata": {},
     "output_type": "display_data"
    }
   ],
   "source": [
    "verified_users = orders.groupby(['group']).agg({'visitorid': 'count'}).sort_values(by = 'visitorid', ascending = False)\n",
    "verified_users['%'] = (verified_users['visitorid'] / verified_users['visitorid'].sum() * 100).round()\n",
    "verified_users = verified_users.sort_values(by = 'visitorid', ascending = True)\n",
    "display(verified_users.head())"
   ]
  },
  {
   "cell_type": "markdown",
   "metadata": {},
   "source": [
    "Выявлена проблема - пользователи распределены между сегментами неравномерно. \n",
    "\n",
    "Поверим наличие дублей в группах и попробуем нормализовать. "
   ]
  },
  {
   "cell_type": "code",
   "execution_count": 13,
   "metadata": {},
   "outputs": [
    {
     "data": {
      "text/html": [
       "<div>\n",
       "<style scoped>\n",
       "    .dataframe tbody tr th:only-of-type {\n",
       "        vertical-align: middle;\n",
       "    }\n",
       "\n",
       "    .dataframe tbody tr th {\n",
       "        vertical-align: top;\n",
       "    }\n",
       "\n",
       "    .dataframe thead th {\n",
       "        text-align: right;\n",
       "    }\n",
       "</style>\n",
       "<table border=\"1\" class=\"dataframe\">\n",
       "  <thead>\n",
       "    <tr style=\"text-align: right;\">\n",
       "      <th></th>\n",
       "      <th>groups</th>\n",
       "      <th>group_names</th>\n",
       "    </tr>\n",
       "    <tr>\n",
       "      <th>visitorid</th>\n",
       "      <th></th>\n",
       "      <th></th>\n",
       "    </tr>\n",
       "  </thead>\n",
       "  <tbody>\n",
       "    <tr>\n",
       "      <th>8300375</th>\n",
       "      <td>2</td>\n",
       "      <td>[B, A]</td>\n",
       "    </tr>\n",
       "    <tr>\n",
       "      <th>199603092</th>\n",
       "      <td>2</td>\n",
       "      <td>[A, B]</td>\n",
       "    </tr>\n",
       "    <tr>\n",
       "      <th>232979603</th>\n",
       "      <td>2</td>\n",
       "      <td>[B, A]</td>\n",
       "    </tr>\n",
       "    <tr>\n",
       "      <th>237748145</th>\n",
       "      <td>2</td>\n",
       "      <td>[B, A]</td>\n",
       "    </tr>\n",
       "    <tr>\n",
       "      <th>276558944</th>\n",
       "      <td>2</td>\n",
       "      <td>[B, A]</td>\n",
       "    </tr>\n",
       "    <tr>\n",
       "      <th>351125977</th>\n",
       "      <td>2</td>\n",
       "      <td>[B, A]</td>\n",
       "    </tr>\n",
       "    <tr>\n",
       "      <th>393266494</th>\n",
       "      <td>2</td>\n",
       "      <td>[A, B]</td>\n",
       "    </tr>\n",
       "    <tr>\n",
       "      <th>457167155</th>\n",
       "      <td>2</td>\n",
       "      <td>[B, A]</td>\n",
       "    </tr>\n",
       "    <tr>\n",
       "      <th>471551937</th>\n",
       "      <td>2</td>\n",
       "      <td>[A, B]</td>\n",
       "    </tr>\n",
       "    <tr>\n",
       "      <th>477780734</th>\n",
       "      <td>2</td>\n",
       "      <td>[A, B]</td>\n",
       "    </tr>\n",
       "  </tbody>\n",
       "</table>\n",
       "</div>"
      ],
      "text/plain": [
       "           groups group_names\n",
       "visitorid                    \n",
       "8300375         2      [B, A]\n",
       "199603092       2      [A, B]\n",
       "232979603       2      [B, A]\n",
       "237748145       2      [B, A]\n",
       "276558944       2      [B, A]\n",
       "351125977       2      [B, A]\n",
       "393266494       2      [A, B]\n",
       "457167155       2      [B, A]\n",
       "471551937       2      [A, B]\n",
       "477780734       2      [A, B]"
      ]
     },
     "metadata": {},
     "output_type": "display_data"
    }
   ],
   "source": [
    "duplicated_users = orders.groupby('visitorid').agg({'group': ['nunique', 'unique']})\n",
    "duplicated_users.columns = ['groups', 'group_names']\n",
    "duplicated_users = duplicated_users.query('groups > 1')\n",
    "display(duplicated_users.head(10))"
   ]
  },
  {
   "cell_type": "markdown",
   "metadata": {},
   "source": [
    "Исключим дубли. "
   ]
  },
  {
   "cell_type": "code",
   "execution_count": 14,
   "metadata": {},
   "outputs": [],
   "source": [
    "orders=orders.query('visitorid not in @duplicated_users.index')"
   ]
  },
  {
   "cell_type": "code",
   "execution_count": 15,
   "metadata": {},
   "outputs": [
    {
     "name": "stdout",
     "output_type": "stream",
     "text": [
      "<class 'pandas.core.frame.DataFrame'>\n",
      "Int64Index: 1016 entries, 0 to 1196\n",
      "Data columns (total 5 columns):\n",
      " #   Column         Non-Null Count  Dtype         \n",
      "---  ------         --------------  -----         \n",
      " 0   transactionid  1016 non-null   int64         \n",
      " 1   visitorid      1016 non-null   int64         \n",
      " 2   date           1016 non-null   datetime64[ns]\n",
      " 3   revenue        1016 non-null   int64         \n",
      " 4   group          1016 non-null   object        \n",
      "dtypes: datetime64[ns](1), int64(3), object(1)\n",
      "memory usage: 47.6+ KB\n"
     ]
    }
   ],
   "source": [
    "orders.info()"
   ]
  },
  {
   "cell_type": "markdown",
   "metadata": {},
   "source": [
    "Повторно проверим распределение по группам. "
   ]
  },
  {
   "cell_type": "code",
   "execution_count": 16,
   "metadata": {},
   "outputs": [
    {
     "data": {
      "text/html": [
       "<div>\n",
       "<style scoped>\n",
       "    .dataframe tbody tr th:only-of-type {\n",
       "        vertical-align: middle;\n",
       "    }\n",
       "\n",
       "    .dataframe tbody tr th {\n",
       "        vertical-align: top;\n",
       "    }\n",
       "\n",
       "    .dataframe thead th {\n",
       "        text-align: right;\n",
       "    }\n",
       "</style>\n",
       "<table border=\"1\" class=\"dataframe\">\n",
       "  <thead>\n",
       "    <tr style=\"text-align: right;\">\n",
       "      <th></th>\n",
       "      <th>visitorid</th>\n",
       "      <th>%</th>\n",
       "    </tr>\n",
       "    <tr>\n",
       "      <th>group</th>\n",
       "      <th></th>\n",
       "      <th></th>\n",
       "    </tr>\n",
       "  </thead>\n",
       "  <tbody>\n",
       "    <tr>\n",
       "      <th>A</th>\n",
       "      <td>468</td>\n",
       "      <td>46.00</td>\n",
       "    </tr>\n",
       "    <tr>\n",
       "      <th>B</th>\n",
       "      <td>548</td>\n",
       "      <td>54.00</td>\n",
       "    </tr>\n",
       "  </tbody>\n",
       "</table>\n",
       "</div>"
      ],
      "text/plain": [
       "       visitorid     %\n",
       "group                 \n",
       "A            468 46.00\n",
       "B            548 54.00"
      ]
     },
     "metadata": {},
     "output_type": "display_data"
    }
   ],
   "source": [
    "verified_users = orders.groupby(['group']).agg({'visitorid': 'count'}).sort_values(by = 'visitorid', ascending = False)\n",
    "verified_users['%'] = (verified_users['visitorid'] / verified_users['visitorid'].sum() * 100).round()\n",
    "verified_users = verified_users.sort_values(by = 'visitorid', ascending = True)\n",
    "display(verified_users.head())"
   ]
  },
  {
   "cell_type": "markdown",
   "metadata": {},
   "source": [
    "Доли пользователей в группах отличаются на 15%, что вероятно исказит результаты последующего анализа. Повод для обсуждения с коллегами, подготовившими датасет. "
   ]
  },
  {
   "cell_type": "markdown",
   "metadata": {},
   "source": [
    "Проверим начало, конец и выборочные значения датасета visitors."
   ]
  },
  {
   "cell_type": "code",
   "execution_count": 17,
   "metadata": {},
   "outputs": [
    {
     "data": {
      "text/html": [
       "<div>\n",
       "<style scoped>\n",
       "    .dataframe tbody tr th:only-of-type {\n",
       "        vertical-align: middle;\n",
       "    }\n",
       "\n",
       "    .dataframe tbody tr th {\n",
       "        vertical-align: top;\n",
       "    }\n",
       "\n",
       "    .dataframe thead th {\n",
       "        text-align: right;\n",
       "    }\n",
       "</style>\n",
       "<table border=\"1\" class=\"dataframe\">\n",
       "  <thead>\n",
       "    <tr style=\"text-align: right;\">\n",
       "      <th></th>\n",
       "      <th>date</th>\n",
       "      <th>group</th>\n",
       "      <th>visitors</th>\n",
       "    </tr>\n",
       "  </thead>\n",
       "  <tbody>\n",
       "    <tr>\n",
       "      <th>0</th>\n",
       "      <td>2019-08-01</td>\n",
       "      <td>A</td>\n",
       "      <td>719</td>\n",
       "    </tr>\n",
       "    <tr>\n",
       "      <th>1</th>\n",
       "      <td>2019-08-02</td>\n",
       "      <td>A</td>\n",
       "      <td>619</td>\n",
       "    </tr>\n",
       "    <tr>\n",
       "      <th>2</th>\n",
       "      <td>2019-08-03</td>\n",
       "      <td>A</td>\n",
       "      <td>507</td>\n",
       "    </tr>\n",
       "    <tr>\n",
       "      <th>3</th>\n",
       "      <td>2019-08-04</td>\n",
       "      <td>A</td>\n",
       "      <td>717</td>\n",
       "    </tr>\n",
       "    <tr>\n",
       "      <th>4</th>\n",
       "      <td>2019-08-05</td>\n",
       "      <td>A</td>\n",
       "      <td>756</td>\n",
       "    </tr>\n",
       "    <tr>\n",
       "      <th>5</th>\n",
       "      <td>2019-08-06</td>\n",
       "      <td>A</td>\n",
       "      <td>667</td>\n",
       "    </tr>\n",
       "    <tr>\n",
       "      <th>6</th>\n",
       "      <td>2019-08-07</td>\n",
       "      <td>A</td>\n",
       "      <td>644</td>\n",
       "    </tr>\n",
       "    <tr>\n",
       "      <th>7</th>\n",
       "      <td>2019-08-08</td>\n",
       "      <td>A</td>\n",
       "      <td>610</td>\n",
       "    </tr>\n",
       "    <tr>\n",
       "      <th>8</th>\n",
       "      <td>2019-08-09</td>\n",
       "      <td>A</td>\n",
       "      <td>617</td>\n",
       "    </tr>\n",
       "    <tr>\n",
       "      <th>9</th>\n",
       "      <td>2019-08-10</td>\n",
       "      <td>A</td>\n",
       "      <td>406</td>\n",
       "    </tr>\n",
       "  </tbody>\n",
       "</table>\n",
       "</div>"
      ],
      "text/plain": [
       "         date group  visitors\n",
       "0  2019-08-01     A       719\n",
       "1  2019-08-02     A       619\n",
       "2  2019-08-03     A       507\n",
       "3  2019-08-04     A       717\n",
       "4  2019-08-05     A       756\n",
       "5  2019-08-06     A       667\n",
       "6  2019-08-07     A       644\n",
       "7  2019-08-08     A       610\n",
       "8  2019-08-09     A       617\n",
       "9  2019-08-10     A       406"
      ]
     },
     "metadata": {},
     "output_type": "display_data"
    },
    {
     "data": {
      "text/html": [
       "<div>\n",
       "<style scoped>\n",
       "    .dataframe tbody tr th:only-of-type {\n",
       "        vertical-align: middle;\n",
       "    }\n",
       "\n",
       "    .dataframe tbody tr th {\n",
       "        vertical-align: top;\n",
       "    }\n",
       "\n",
       "    .dataframe thead th {\n",
       "        text-align: right;\n",
       "    }\n",
       "</style>\n",
       "<table border=\"1\" class=\"dataframe\">\n",
       "  <thead>\n",
       "    <tr style=\"text-align: right;\">\n",
       "      <th></th>\n",
       "      <th>date</th>\n",
       "      <th>group</th>\n",
       "      <th>visitors</th>\n",
       "    </tr>\n",
       "  </thead>\n",
       "  <tbody>\n",
       "    <tr>\n",
       "      <th>52</th>\n",
       "      <td>2019-08-22</td>\n",
       "      <td>B</td>\n",
       "      <td>650</td>\n",
       "    </tr>\n",
       "    <tr>\n",
       "      <th>53</th>\n",
       "      <td>2019-08-23</td>\n",
       "      <td>B</td>\n",
       "      <td>546</td>\n",
       "    </tr>\n",
       "    <tr>\n",
       "      <th>54</th>\n",
       "      <td>2019-08-24</td>\n",
       "      <td>B</td>\n",
       "      <td>378</td>\n",
       "    </tr>\n",
       "    <tr>\n",
       "      <th>55</th>\n",
       "      <td>2019-08-25</td>\n",
       "      <td>B</td>\n",
       "      <td>679</td>\n",
       "    </tr>\n",
       "    <tr>\n",
       "      <th>56</th>\n",
       "      <td>2019-08-26</td>\n",
       "      <td>B</td>\n",
       "      <td>676</td>\n",
       "    </tr>\n",
       "    <tr>\n",
       "      <th>57</th>\n",
       "      <td>2019-08-27</td>\n",
       "      <td>B</td>\n",
       "      <td>720</td>\n",
       "    </tr>\n",
       "    <tr>\n",
       "      <th>58</th>\n",
       "      <td>2019-08-28</td>\n",
       "      <td>B</td>\n",
       "      <td>654</td>\n",
       "    </tr>\n",
       "    <tr>\n",
       "      <th>59</th>\n",
       "      <td>2019-08-29</td>\n",
       "      <td>B</td>\n",
       "      <td>531</td>\n",
       "    </tr>\n",
       "    <tr>\n",
       "      <th>60</th>\n",
       "      <td>2019-08-30</td>\n",
       "      <td>B</td>\n",
       "      <td>490</td>\n",
       "    </tr>\n",
       "    <tr>\n",
       "      <th>61</th>\n",
       "      <td>2019-08-31</td>\n",
       "      <td>B</td>\n",
       "      <td>718</td>\n",
       "    </tr>\n",
       "  </tbody>\n",
       "</table>\n",
       "</div>"
      ],
      "text/plain": [
       "          date group  visitors\n",
       "52  2019-08-22     B       650\n",
       "53  2019-08-23     B       546\n",
       "54  2019-08-24     B       378\n",
       "55  2019-08-25     B       679\n",
       "56  2019-08-26     B       676\n",
       "57  2019-08-27     B       720\n",
       "58  2019-08-28     B       654\n",
       "59  2019-08-29     B       531\n",
       "60  2019-08-30     B       490\n",
       "61  2019-08-31     B       718"
      ]
     },
     "metadata": {},
     "output_type": "display_data"
    },
    {
     "data": {
      "text/html": [
       "<div>\n",
       "<style scoped>\n",
       "    .dataframe tbody tr th:only-of-type {\n",
       "        vertical-align: middle;\n",
       "    }\n",
       "\n",
       "    .dataframe tbody tr th {\n",
       "        vertical-align: top;\n",
       "    }\n",
       "\n",
       "    .dataframe thead th {\n",
       "        text-align: right;\n",
       "    }\n",
       "</style>\n",
       "<table border=\"1\" class=\"dataframe\">\n",
       "  <thead>\n",
       "    <tr style=\"text-align: right;\">\n",
       "      <th></th>\n",
       "      <th>date</th>\n",
       "      <th>group</th>\n",
       "      <th>visitors</th>\n",
       "    </tr>\n",
       "  </thead>\n",
       "  <tbody>\n",
       "    <tr>\n",
       "      <th>41</th>\n",
       "      <td>2019-08-11</td>\n",
       "      <td>B</td>\n",
       "      <td>721</td>\n",
       "    </tr>\n",
       "    <tr>\n",
       "      <th>0</th>\n",
       "      <td>2019-08-01</td>\n",
       "      <td>A</td>\n",
       "      <td>719</td>\n",
       "    </tr>\n",
       "    <tr>\n",
       "      <th>8</th>\n",
       "      <td>2019-08-09</td>\n",
       "      <td>A</td>\n",
       "      <td>617</td>\n",
       "    </tr>\n",
       "    <tr>\n",
       "      <th>18</th>\n",
       "      <td>2019-08-19</td>\n",
       "      <td>A</td>\n",
       "      <td>502</td>\n",
       "    </tr>\n",
       "    <tr>\n",
       "      <th>15</th>\n",
       "      <td>2019-08-16</td>\n",
       "      <td>A</td>\n",
       "      <td>361</td>\n",
       "    </tr>\n",
       "    <tr>\n",
       "      <th>34</th>\n",
       "      <td>2019-08-04</td>\n",
       "      <td>B</td>\n",
       "      <td>770</td>\n",
       "    </tr>\n",
       "    <tr>\n",
       "      <th>38</th>\n",
       "      <td>2019-08-08</td>\n",
       "      <td>B</td>\n",
       "      <td>654</td>\n",
       "    </tr>\n",
       "    <tr>\n",
       "      <th>37</th>\n",
       "      <td>2019-08-07</td>\n",
       "      <td>B</td>\n",
       "      <td>709</td>\n",
       "    </tr>\n",
       "    <tr>\n",
       "      <th>4</th>\n",
       "      <td>2019-08-05</td>\n",
       "      <td>A</td>\n",
       "      <td>756</td>\n",
       "    </tr>\n",
       "    <tr>\n",
       "      <th>17</th>\n",
       "      <td>2019-08-18</td>\n",
       "      <td>A</td>\n",
       "      <td>668</td>\n",
       "    </tr>\n",
       "  </tbody>\n",
       "</table>\n",
       "</div>"
      ],
      "text/plain": [
       "          date group  visitors\n",
       "41  2019-08-11     B       721\n",
       "0   2019-08-01     A       719\n",
       "8   2019-08-09     A       617\n",
       "18  2019-08-19     A       502\n",
       "15  2019-08-16     A       361\n",
       "34  2019-08-04     B       770\n",
       "38  2019-08-08     B       654\n",
       "37  2019-08-07     B       709\n",
       "4   2019-08-05     A       756\n",
       "17  2019-08-18     A       668"
      ]
     },
     "metadata": {},
     "output_type": "display_data"
    }
   ],
   "source": [
    "display(visitors.head(10))\n",
    "display(visitors.tail(10))\n",
    "display(visitors.sample(10))"
   ]
  },
  {
   "cell_type": "markdown",
   "metadata": {},
   "source": [
    "Также получим и проанализируем общую информацию."
   ]
  },
  {
   "cell_type": "code",
   "execution_count": 18,
   "metadata": {},
   "outputs": [
    {
     "name": "stdout",
     "output_type": "stream",
     "text": [
      "<class 'pandas.core.frame.DataFrame'>\n",
      "RangeIndex: 62 entries, 0 to 61\n",
      "Data columns (total 3 columns):\n",
      " #   Column    Non-Null Count  Dtype \n",
      "---  ------    --------------  ----- \n",
      " 0   date      62 non-null     object\n",
      " 1   group     62 non-null     object\n",
      " 2   visitors  62 non-null     int64 \n",
      "dtypes: int64(1), object(2)\n",
      "memory usage: 1.6+ KB\n"
     ]
    }
   ],
   "source": [
    "visitors.info()"
   ]
  },
  {
   "cell_type": "markdown",
   "metadata": {},
   "source": [
    "Проверим наличие NaN-значений, посчитаем количество, отсортируем по убыванию. Также проверим наличие явных дубликатов."
   ]
  },
  {
   "cell_type": "code",
   "execution_count": 19,
   "metadata": {},
   "outputs": [
    {
     "data": {
      "text/plain": [
       "date        0\n",
       "group       0\n",
       "visitors    0\n",
       "dtype: int64"
      ]
     },
     "execution_count": 19,
     "metadata": {},
     "output_type": "execute_result"
    }
   ],
   "source": [
    "visitors.isna().sum().sort_values(ascending = False)"
   ]
  },
  {
   "cell_type": "code",
   "execution_count": 20,
   "metadata": {},
   "outputs": [
    {
     "data": {
      "text/plain": [
       "0"
      ]
     },
     "execution_count": 20,
     "metadata": {},
     "output_type": "execute_result"
    }
   ],
   "source": [
    "visitors.duplicated().sum()"
   ]
  },
  {
   "cell_type": "markdown",
   "metadata": {},
   "source": [
    "Формат данных столбца data приведем к формату datetime и проверим результат."
   ]
  },
  {
   "cell_type": "code",
   "execution_count": 21,
   "metadata": {},
   "outputs": [
    {
     "name": "stdout",
     "output_type": "stream",
     "text": [
      "<class 'pandas.core.frame.DataFrame'>\n",
      "RangeIndex: 62 entries, 0 to 61\n",
      "Data columns (total 3 columns):\n",
      " #   Column    Non-Null Count  Dtype         \n",
      "---  ------    --------------  -----         \n",
      " 0   date      62 non-null     datetime64[ns]\n",
      " 1   group     62 non-null     object        \n",
      " 2   visitors  62 non-null     int64         \n",
      "dtypes: datetime64[ns](1), int64(1), object(1)\n",
      "memory usage: 1.6+ KB\n"
     ]
    }
   ],
   "source": [
    "visitors['date'] = pd.to_datetime(visitors['date'])\n",
    "visitors.info()"
   ]
  },
  {
   "cell_type": "markdown",
   "metadata": {},
   "source": [
    "По итогам выполненной предобработки данные можно считать пригодными для дальнейшего анализа.\n",
    "\n",
    "<font size=\"2\">([к содержанию](#Содержание))</font>"
   ]
  },
  {
   "cell_type": "markdown",
   "metadata": {},
   "source": [
    "### Применение фреймворка ICE"
   ]
  },
  {
   "cell_type": "markdown",
   "metadata": {},
   "source": [
    "Выполним приоритезацию гипотез способом `ICE` (от англ. impact, confidence, effort / ease «влияние, уверенность, усилия / простота») и отсортируем их по убыванию приоритета. "
   ]
  },
  {
   "cell_type": "code",
   "execution_count": 22,
   "metadata": {},
   "outputs": [
    {
     "data": {
      "text/html": [
       "<div>\n",
       "<style scoped>\n",
       "    .dataframe tbody tr th:only-of-type {\n",
       "        vertical-align: middle;\n",
       "    }\n",
       "\n",
       "    .dataframe tbody tr th {\n",
       "        vertical-align: top;\n",
       "    }\n",
       "\n",
       "    .dataframe thead th {\n",
       "        text-align: right;\n",
       "    }\n",
       "</style>\n",
       "<table border=\"1\" class=\"dataframe\">\n",
       "  <thead>\n",
       "    <tr style=\"text-align: right;\">\n",
       "      <th></th>\n",
       "      <th>hypothesis</th>\n",
       "      <th>ICE</th>\n",
       "    </tr>\n",
       "  </thead>\n",
       "  <tbody>\n",
       "    <tr>\n",
       "      <th>8</th>\n",
       "      <td>Запустить акцию, дающую скидку на товар в день рождения</td>\n",
       "      <td>16.20</td>\n",
       "    </tr>\n",
       "    <tr>\n",
       "      <th>0</th>\n",
       "      <td>Добавить два новых канала привлечения трафика, что позволит привлекать на 30% больше пользователей</td>\n",
       "      <td>13.33</td>\n",
       "    </tr>\n",
       "    <tr>\n",
       "      <th>7</th>\n",
       "      <td>Добавить форму подписки на все основные страницы, чтобы собрать базу клиентов для email-рассылок</td>\n",
       "      <td>11.20</td>\n",
       "    </tr>\n",
       "    <tr>\n",
       "      <th>6</th>\n",
       "      <td>Показать на главной странице баннеры с актуальными акциями и распродажами, чтобы увеличить конверсию</td>\n",
       "      <td>8.00</td>\n",
       "    </tr>\n",
       "    <tr>\n",
       "      <th>2</th>\n",
       "      <td>Добавить блоки рекомендаций товаров на сайт интернет магазина, чтобы повысить конверсию и средний чек заказа</td>\n",
       "      <td>7.00</td>\n",
       "    </tr>\n",
       "    <tr>\n",
       "      <th>1</th>\n",
       "      <td>Запустить собственную службу доставки, что сократит срок доставки заказов</td>\n",
       "      <td>2.00</td>\n",
       "    </tr>\n",
       "    <tr>\n",
       "      <th>5</th>\n",
       "      <td>Добавить страницу отзывов клиентов о магазине, что позволит увеличить количество заказов</td>\n",
       "      <td>1.33</td>\n",
       "    </tr>\n",
       "    <tr>\n",
       "      <th>3</th>\n",
       "      <td>Изменить структура категорий, что увеличит конверсию, т.к. пользователи быстрее найдут нужный товар</td>\n",
       "      <td>1.12</td>\n",
       "    </tr>\n",
       "    <tr>\n",
       "      <th>4</th>\n",
       "      <td>Изменить цвет фона главной страницы, чтобы увеличить вовлеченность пользователей</td>\n",
       "      <td>1.00</td>\n",
       "    </tr>\n",
       "  </tbody>\n",
       "</table>\n",
       "</div>"
      ],
      "text/plain": [
       "                                                                                                     hypothesis  \\\n",
       "8                                                       Запустить акцию, дающую скидку на товар в день рождения   \n",
       "0            Добавить два новых канала привлечения трафика, что позволит привлекать на 30% больше пользователей   \n",
       "7              Добавить форму подписки на все основные страницы, чтобы собрать базу клиентов для email-рассылок   \n",
       "6          Показать на главной странице баннеры с актуальными акциями и распродажами, чтобы увеличить конверсию   \n",
       "2  Добавить блоки рекомендаций товаров на сайт интернет магазина, чтобы повысить конверсию и средний чек заказа   \n",
       "1                                     Запустить собственную службу доставки, что сократит срок доставки заказов   \n",
       "5                      Добавить страницу отзывов клиентов о магазине, что позволит увеличить количество заказов   \n",
       "3           Изменить структура категорий, что увеличит конверсию, т.к. пользователи быстрее найдут нужный товар   \n",
       "4                              Изменить цвет фона главной страницы, чтобы увеличить вовлеченность пользователей   \n",
       "\n",
       "    ICE  \n",
       "8 16.20  \n",
       "0 13.33  \n",
       "7 11.20  \n",
       "6  8.00  \n",
       "2  7.00  \n",
       "1  2.00  \n",
       "5  1.33  \n",
       "3  1.12  \n",
       "4  1.00  "
      ]
     },
     "metadata": {},
     "output_type": "display_data"
    }
   ],
   "source": [
    "hypothesis['ICE'] = (hypothesis['impact'] * hypothesis['confidence']) / hypothesis['efforts']\n",
    "hypothesis_ice = hypothesis[['hypothesis','ICE']]\n",
    "display(hypothesis_ice.sort_values('ICE', ascending=False))"
   ]
  },
  {
   "cell_type": "markdown",
   "metadata": {},
   "source": [
    "ТОП-5 гипотез по версии ICE: \n",
    "- Запустить акцию, дающую скидку на товар в день рождения;\n",
    "- Добавить два новых канала привлечения трафика, что позволит привлекать на 30% больше пользователей;\t\n",
    "- Добавить форму подписки на все основные страницы, чтобы собрать базу клиентов для email-рассылок;\n",
    "- Показать на главной странице баннеры с актуальными акциями и распродажами, чтобы увеличить конверсию;\n",
    "- Добавить блоки рекомендаций товаров на сайт интернет магазина, чтобы повысить конверсию и средний чек заказа.\n",
    "\n",
    "<font size=\"2\">([к содержанию](#Содержание))</font>\n"
   ]
  },
  {
   "cell_type": "markdown",
   "metadata": {},
   "source": [
    "### Применение фреймворка RICE"
   ]
  },
  {
   "cell_type": "markdown",
   "metadata": {},
   "source": [
    "Выполним приоритезацию гипотез способом `RICE` (модификация способа ICE, отличие - R от англ. reach, «охват») и отсортируем их по убыванию приоритета."
   ]
  },
  {
   "cell_type": "code",
   "execution_count": 23,
   "metadata": {},
   "outputs": [
    {
     "data": {
      "text/html": [
       "<div>\n",
       "<style scoped>\n",
       "    .dataframe tbody tr th:only-of-type {\n",
       "        vertical-align: middle;\n",
       "    }\n",
       "\n",
       "    .dataframe tbody tr th {\n",
       "        vertical-align: top;\n",
       "    }\n",
       "\n",
       "    .dataframe thead th {\n",
       "        text-align: right;\n",
       "    }\n",
       "</style>\n",
       "<table border=\"1\" class=\"dataframe\">\n",
       "  <thead>\n",
       "    <tr style=\"text-align: right;\">\n",
       "      <th></th>\n",
       "      <th>hypothesis</th>\n",
       "      <th>RICE</th>\n",
       "    </tr>\n",
       "  </thead>\n",
       "  <tbody>\n",
       "    <tr>\n",
       "      <th>7</th>\n",
       "      <td>Добавить форму подписки на все основные страницы, чтобы собрать базу клиентов для email-рассылок</td>\n",
       "      <td>112.00</td>\n",
       "    </tr>\n",
       "    <tr>\n",
       "      <th>2</th>\n",
       "      <td>Добавить блоки рекомендаций товаров на сайт интернет магазина, чтобы повысить конверсию и средний чек заказа</td>\n",
       "      <td>56.00</td>\n",
       "    </tr>\n",
       "    <tr>\n",
       "      <th>0</th>\n",
       "      <td>Добавить два новых канала привлечения трафика, что позволит привлекать на 30% больше пользователей</td>\n",
       "      <td>40.00</td>\n",
       "    </tr>\n",
       "    <tr>\n",
       "      <th>6</th>\n",
       "      <td>Показать на главной странице баннеры с актуальными акциями и распродажами, чтобы увеличить конверсию</td>\n",
       "      <td>40.00</td>\n",
       "    </tr>\n",
       "    <tr>\n",
       "      <th>8</th>\n",
       "      <td>Запустить акцию, дающую скидку на товар в день рождения</td>\n",
       "      <td>16.20</td>\n",
       "    </tr>\n",
       "    <tr>\n",
       "      <th>3</th>\n",
       "      <td>Изменить структура категорий, что увеличит конверсию, т.к. пользователи быстрее найдут нужный товар</td>\n",
       "      <td>9.00</td>\n",
       "    </tr>\n",
       "    <tr>\n",
       "      <th>1</th>\n",
       "      <td>Запустить собственную службу доставки, что сократит срок доставки заказов</td>\n",
       "      <td>4.00</td>\n",
       "    </tr>\n",
       "    <tr>\n",
       "      <th>5</th>\n",
       "      <td>Добавить страницу отзывов клиентов о магазине, что позволит увеличить количество заказов</td>\n",
       "      <td>4.00</td>\n",
       "    </tr>\n",
       "    <tr>\n",
       "      <th>4</th>\n",
       "      <td>Изменить цвет фона главной страницы, чтобы увеличить вовлеченность пользователей</td>\n",
       "      <td>3.00</td>\n",
       "    </tr>\n",
       "  </tbody>\n",
       "</table>\n",
       "</div>"
      ],
      "text/plain": [
       "                                                                                                     hypothesis  \\\n",
       "7              Добавить форму подписки на все основные страницы, чтобы собрать базу клиентов для email-рассылок   \n",
       "2  Добавить блоки рекомендаций товаров на сайт интернет магазина, чтобы повысить конверсию и средний чек заказа   \n",
       "0            Добавить два новых канала привлечения трафика, что позволит привлекать на 30% больше пользователей   \n",
       "6          Показать на главной странице баннеры с актуальными акциями и распродажами, чтобы увеличить конверсию   \n",
       "8                                                       Запустить акцию, дающую скидку на товар в день рождения   \n",
       "3           Изменить структура категорий, что увеличит конверсию, т.к. пользователи быстрее найдут нужный товар   \n",
       "1                                     Запустить собственную службу доставки, что сократит срок доставки заказов   \n",
       "5                      Добавить страницу отзывов клиентов о магазине, что позволит увеличить количество заказов   \n",
       "4                              Изменить цвет фона главной страницы, чтобы увеличить вовлеченность пользователей   \n",
       "\n",
       "    RICE  \n",
       "7 112.00  \n",
       "2  56.00  \n",
       "0  40.00  \n",
       "6  40.00  \n",
       "8  16.20  \n",
       "3   9.00  \n",
       "1   4.00  \n",
       "5   4.00  \n",
       "4   3.00  "
      ]
     },
     "metadata": {},
     "output_type": "display_data"
    }
   ],
   "source": [
    "hypothesis['RICE'] = (hypothesis['impact'] * hypothesis['reach'] * hypothesis['confidence']) / hypothesis['efforts']\n",
    "hypothesis_rice = hypothesis[['hypothesis','RICE']]\n",
    "display(hypothesis_rice.sort_values('RICE', ascending=False))"
   ]
  },
  {
   "cell_type": "markdown",
   "metadata": {},
   "source": [
    "ТОП-5 гипотез  по версии RICE:\n",
    "- Добавить форму подписки на все основные страницы, чтобы собрать базу клиентов для email-рассылок;\n",
    "- Добавить блоки рекомендаций товаров на сайт интернет магазина, чтобы повысить конверсию и средний чек заказа;\n",
    "- Добавить два новых канала привлечения трафика, что позволит привлекать на 30% больше пользователей;\n",
    "- Показать на главной странице баннеры с актуальными акциями и распродажами, чтобы увеличить конверсию;\n",
    "- Запустить акцию, дающую скидку на товар в день рождения.\n",
    "\n",
    "<font size=\"2\">([к содержанию](#Содержание))</font>"
   ]
  },
  {
   "cell_type": "markdown",
   "metadata": {},
   "source": [
    "### Анализ изменения приоритизации"
   ]
  },
  {
   "cell_type": "markdown",
   "metadata": {},
   "source": [
    "Сравним приоритизацию гипотез, выполненную в соответствии с RICE и ICE. "
   ]
  },
  {
   "cell_type": "code",
   "execution_count": 24,
   "metadata": {},
   "outputs": [
    {
     "data": {
      "text/html": [
       "<div>\n",
       "<style scoped>\n",
       "    .dataframe tbody tr th:only-of-type {\n",
       "        vertical-align: middle;\n",
       "    }\n",
       "\n",
       "    .dataframe tbody tr th {\n",
       "        vertical-align: top;\n",
       "    }\n",
       "\n",
       "    .dataframe thead th {\n",
       "        text-align: right;\n",
       "    }\n",
       "</style>\n",
       "<table border=\"1\" class=\"dataframe\">\n",
       "  <thead>\n",
       "    <tr style=\"text-align: right;\">\n",
       "      <th></th>\n",
       "      <th>hypothesis</th>\n",
       "      <th>ICE</th>\n",
       "      <th>RICE</th>\n",
       "    </tr>\n",
       "  </thead>\n",
       "  <tbody>\n",
       "    <tr>\n",
       "      <th>7</th>\n",
       "      <td>Добавить форму подписки на все основные страницы, чтобы собрать базу клиентов для email-рассылок</td>\n",
       "      <td>11.20</td>\n",
       "      <td>112.00</td>\n",
       "    </tr>\n",
       "    <tr>\n",
       "      <th>2</th>\n",
       "      <td>Добавить блоки рекомендаций товаров на сайт интернет магазина, чтобы повысить конверсию и средний чек заказа</td>\n",
       "      <td>7.00</td>\n",
       "      <td>56.00</td>\n",
       "    </tr>\n",
       "    <tr>\n",
       "      <th>0</th>\n",
       "      <td>Добавить два новых канала привлечения трафика, что позволит привлекать на 30% больше пользователей</td>\n",
       "      <td>13.33</td>\n",
       "      <td>40.00</td>\n",
       "    </tr>\n",
       "    <tr>\n",
       "      <th>6</th>\n",
       "      <td>Показать на главной странице баннеры с актуальными акциями и распродажами, чтобы увеличить конверсию</td>\n",
       "      <td>8.00</td>\n",
       "      <td>40.00</td>\n",
       "    </tr>\n",
       "    <tr>\n",
       "      <th>8</th>\n",
       "      <td>Запустить акцию, дающую скидку на товар в день рождения</td>\n",
       "      <td>16.20</td>\n",
       "      <td>16.20</td>\n",
       "    </tr>\n",
       "    <tr>\n",
       "      <th>3</th>\n",
       "      <td>Изменить структура категорий, что увеличит конверсию, т.к. пользователи быстрее найдут нужный товар</td>\n",
       "      <td>1.12</td>\n",
       "      <td>9.00</td>\n",
       "    </tr>\n",
       "    <tr>\n",
       "      <th>1</th>\n",
       "      <td>Запустить собственную службу доставки, что сократит срок доставки заказов</td>\n",
       "      <td>2.00</td>\n",
       "      <td>4.00</td>\n",
       "    </tr>\n",
       "    <tr>\n",
       "      <th>5</th>\n",
       "      <td>Добавить страницу отзывов клиентов о магазине, что позволит увеличить количество заказов</td>\n",
       "      <td>1.33</td>\n",
       "      <td>4.00</td>\n",
       "    </tr>\n",
       "    <tr>\n",
       "      <th>4</th>\n",
       "      <td>Изменить цвет фона главной страницы, чтобы увеличить вовлеченность пользователей</td>\n",
       "      <td>1.00</td>\n",
       "      <td>3.00</td>\n",
       "    </tr>\n",
       "  </tbody>\n",
       "</table>\n",
       "</div>"
      ],
      "text/plain": [
       "                                                                                                     hypothesis  \\\n",
       "7              Добавить форму подписки на все основные страницы, чтобы собрать базу клиентов для email-рассылок   \n",
       "2  Добавить блоки рекомендаций товаров на сайт интернет магазина, чтобы повысить конверсию и средний чек заказа   \n",
       "0            Добавить два новых канала привлечения трафика, что позволит привлекать на 30% больше пользователей   \n",
       "6          Показать на главной странице баннеры с актуальными акциями и распродажами, чтобы увеличить конверсию   \n",
       "8                                                       Запустить акцию, дающую скидку на товар в день рождения   \n",
       "3           Изменить структура категорий, что увеличит конверсию, т.к. пользователи быстрее найдут нужный товар   \n",
       "1                                     Запустить собственную службу доставки, что сократит срок доставки заказов   \n",
       "5                      Добавить страницу отзывов клиентов о магазине, что позволит увеличить количество заказов   \n",
       "4                              Изменить цвет фона главной страницы, чтобы увеличить вовлеченность пользователей   \n",
       "\n",
       "    ICE   RICE  \n",
       "7 11.20 112.00  \n",
       "2  7.00  56.00  \n",
       "0 13.33  40.00  \n",
       "6  8.00  40.00  \n",
       "8 16.20  16.20  \n",
       "3  1.12   9.00  \n",
       "1  2.00   4.00  \n",
       "5  1.33   4.00  \n",
       "4  1.00   3.00  "
      ]
     },
     "metadata": {},
     "output_type": "display_data"
    }
   ],
   "source": [
    "hypothesis_consolidate = hypothesis_ice.merge(hypothesis_rice, on=['hypothesis'], how='left')\n",
    "display(hypothesis_consolidate.sort_values('RICE', ascending=False))"
   ]
  },
  {
   "cell_type": "markdown",
   "metadata": {},
   "source": [
    "Можно заключить, что приоритеты гипотез в группе ТОП-5 изменились, но количественный состав нет.\n",
    "\n",
    "Причина изменения: в формуле расчета ICE отсутствует параметр охвата (Reach), определяющий степень влияния изменений. В данном исследовании охват вносимых изменений является очень важным параметром, поэтому будем ориентироваться на приоритеты гипотез по методу RICE.\n",
    "\n",
    "<font size=\"2\">([к содержанию](#Содержание))</font>"
   ]
  },
  {
   "cell_type": "markdown",
   "metadata": {},
   "source": [
    "## Анализ A/B-теста\n",
    "\n",
    "Проведем необходимую подготовку данных для последующего построения графиков и анализа. \n"
   ]
  },
  {
   "cell_type": "markdown",
   "metadata": {},
   "source": [
    "### График кумулятивной выручки по группам, выводы и предположения"
   ]
  },
  {
   "cell_type": "code",
   "execution_count": 25,
   "metadata": {},
   "outputs": [
    {
     "data": {
      "text/html": [
       "<div>\n",
       "<style scoped>\n",
       "    .dataframe tbody tr th:only-of-type {\n",
       "        vertical-align: middle;\n",
       "    }\n",
       "\n",
       "    .dataframe tbody tr th {\n",
       "        vertical-align: top;\n",
       "    }\n",
       "\n",
       "    .dataframe thead th {\n",
       "        text-align: right;\n",
       "    }\n",
       "</style>\n",
       "<table border=\"1\" class=\"dataframe\">\n",
       "  <thead>\n",
       "    <tr style=\"text-align: right;\">\n",
       "      <th></th>\n",
       "      <th>date</th>\n",
       "      <th>group</th>\n",
       "      <th>orders</th>\n",
       "      <th>buyers</th>\n",
       "      <th>revenue</th>\n",
       "      <th>visitors</th>\n",
       "    </tr>\n",
       "  </thead>\n",
       "  <tbody>\n",
       "    <tr>\n",
       "      <th>0</th>\n",
       "      <td>2019-08-01</td>\n",
       "      <td>A</td>\n",
       "      <td>23</td>\n",
       "      <td>19</td>\n",
       "      <td>142779</td>\n",
       "      <td>719</td>\n",
       "    </tr>\n",
       "    <tr>\n",
       "      <th>1</th>\n",
       "      <td>2019-08-01</td>\n",
       "      <td>B</td>\n",
       "      <td>17</td>\n",
       "      <td>17</td>\n",
       "      <td>59758</td>\n",
       "      <td>713</td>\n",
       "    </tr>\n",
       "    <tr>\n",
       "      <th>2</th>\n",
       "      <td>2019-08-02</td>\n",
       "      <td>A</td>\n",
       "      <td>42</td>\n",
       "      <td>36</td>\n",
       "      <td>234381</td>\n",
       "      <td>1338</td>\n",
       "    </tr>\n",
       "    <tr>\n",
       "      <th>3</th>\n",
       "      <td>2019-08-02</td>\n",
       "      <td>B</td>\n",
       "      <td>40</td>\n",
       "      <td>39</td>\n",
       "      <td>221801</td>\n",
       "      <td>1294</td>\n",
       "    </tr>\n",
       "    <tr>\n",
       "      <th>4</th>\n",
       "      <td>2019-08-03</td>\n",
       "      <td>A</td>\n",
       "      <td>66</td>\n",
       "      <td>60</td>\n",
       "      <td>346854</td>\n",
       "      <td>1845</td>\n",
       "    </tr>\n",
       "  </tbody>\n",
       "</table>\n",
       "</div>"
      ],
      "text/plain": [
       "        date group  orders  buyers  revenue  visitors\n",
       "0 2019-08-01     A      23      19   142779       719\n",
       "1 2019-08-01     B      17      17    59758       713\n",
       "2 2019-08-02     A      42      36   234381      1338\n",
       "3 2019-08-02     B      40      39   221801      1294\n",
       "4 2019-08-03     A      66      60   346854      1845"
      ]
     },
     "metadata": {},
     "output_type": "display_data"
    }
   ],
   "source": [
    "# создаем массив уникальных пар значений дат и групп теста\n",
    "datesGroups = orders[['date','group']].drop_duplicates()\n",
    "\n",
    "# получаем агрегированные кумулятивные по дням данные о заказах \n",
    "ordersAggregated = datesGroups.apply(lambda x: orders[np.logical_and(orders['date'] <= x['date'], orders['group'] == x['group'])].agg({'date' : 'max', 'group' : 'max', 'transactionid' : 'nunique', 'visitorid' : 'nunique', 'revenue' : 'sum'}), axis=1).sort_values(by=['date','group'])\n",
    "\n",
    "# получаем агрегированные кумулятивные по дням данные о посетителях интернет-магазина \n",
    "visitorsAggregated = datesGroups.apply(lambda x: visitors[np.logical_and(visitors['date'] <= x['date'], visitors['group'] == x['group'])].agg({'date' : 'max', 'group' : 'max', 'visitors' : 'sum'}), axis=1).sort_values(by=['date','group'])\n",
    "\n",
    "# объединяем кумулятивные данные в одной таблице и присваиваем ее столбцам понятные названия\n",
    "cumulativeData = ordersAggregated.merge(visitorsAggregated, left_on=['date', 'group'], right_on=['date', 'group'])\n",
    "cumulativeData.columns = ['date', 'group', 'orders', 'buyers', 'revenue', 'visitors']\n",
    "\n",
    "display(cumulativeData.head(5))"
   ]
  },
  {
   "cell_type": "code",
   "execution_count": 26,
   "metadata": {},
   "outputs": [],
   "source": [
    "# датафрейм с кумулятивным количеством заказов и кумулятивной выручкой по дням в группе А\n",
    "cumulativeRevenueA = cumulativeData[cumulativeData['group']=='A'][['date','revenue', 'orders']]\n",
    "\n",
    "# датафрейм с кумулятивным количеством заказов и кумулятивной выручкой по дням в группе B\n",
    "cumulativeRevenueB = cumulativeData[cumulativeData['group']=='B'][['date','revenue', 'orders']]"
   ]
  },
  {
   "cell_type": "markdown",
   "metadata": {},
   "source": [
    "Построим график кумулятивной выручки по дням и группам A/B-тестирования. "
   ]
  },
  {
   "cell_type": "code",
   "execution_count": 27,
   "metadata": {},
   "outputs": [
    {
     "data": {
      "image/png": "[encoded data removed]",
      "text/plain": [
       "<Figure size 432x288 with 1 Axes>"
      ]
     },
     "metadata": {
      "needs_background": "light"
     },
     "output_type": "display_data"
    }
   ],
   "source": [
    "# Строим график выручки группы А\n",
    "plt.plot(cumulativeRevenueA['date'], cumulativeRevenueA['revenue'], label='A')\n",
    "\n",
    "# Строим график выручки группы B\n",
    "plt.plot(cumulativeRevenueB['date'], cumulativeRevenueB['revenue'], label='B')\n",
    "\n",
    "plt.title('График кумулятивной выручки по группам')\n",
    "plt.xticks(rotation=45)\n",
    "plt.grid()\n",
    "plt.ylabel(\"Выручка\")\n",
    "plt.legend()\n",
    "plt.show()"
   ]
  },
  {
   "cell_type": "markdown",
   "metadata": {},
   "source": [
    "Можно заключить, что:\n",
    "- в группе А выручка равномерно увеличивается в течение всего периода тестирования;\n",
    "- в группе B выручка равномерно увеличивается, но после 17.08.2019 происходит всплеск, после чего продолжается равномерно увеличиваться в течение всего периода тестирования. \n",
    "\n",
    "Причина всплеска в группе B может быть в резком росте числа заказов, либо в появлении очень дорогих заказов в выборке. \n",
    "\n",
    "<font size=\"2\">([к содержанию](#Содержание))</font>"
   ]
  },
  {
   "cell_type": "markdown",
   "metadata": {},
   "source": [
    "### График кумулятивного среднего чека по группам, выводы и предположения\n",
    "\n",
    "Построим график кумулятивного среднего чека по дням и группам A/B-тестирования."
   ]
  },
  {
   "cell_type": "code",
   "execution_count": 28,
   "metadata": {},
   "outputs": [
    {
     "data": {
      "image/png": "[encoded data removed]",
      "text/plain": [
       "<Figure size 432x288 with 1 Axes>"
      ]
     },
     "metadata": {
      "needs_background": "light"
     },
     "output_type": "display_data"
    }
   ],
   "source": [
    "plt.plot(cumulativeRevenueA['date'], cumulativeRevenueA['revenue']/cumulativeRevenueA['orders'], label='A')\n",
    "plt.plot(cumulativeRevenueB['date'], cumulativeRevenueB['revenue']/cumulativeRevenueB['orders'], label='B')\n",
    "\n",
    "plt.title('График кумулятивного среднего чека по группам')\n",
    "plt.grid()\n",
    "plt.ylabel(\"Выручка\")\n",
    "plt.xticks(rotation=45)\n",
    "plt.legend()\n",
    "plt.show()"
   ]
  },
  {
   "cell_type": "markdown",
   "metadata": {},
   "source": [
    "Можно заключить, что:\n",
    "- в группе А прослеживается колебание размера среднего чека, после 13.08.2019 значение стабилизируется на уровне 7000 руб.;\n",
    "- в группе B прослеживается интенсивный рост среднего чека, после 17.08.2019 происходит всплеск к 10000 руб., после чего плавное снижение к уровню 9500 руб. \n",
    "\n",
    "Причина всплеска среднего чека в группе B может быть в нескольких аномально крупных заказах.  \n",
    "\n",
    "<font size=\"2\">([к содержанию](#Содержание))</font>"
   ]
  },
  {
   "cell_type": "markdown",
   "metadata": {},
   "source": [
    "### График относительного изменения кумулятивного среднего чека группы B к группе A, выводы и предположения. \n",
    "\n",
    "Построим график относительного изменения кумулятивного среднего чека группы B к группе A."
   ]
  },
  {
   "cell_type": "code",
   "execution_count": 29,
   "metadata": {},
   "outputs": [
    {
     "data": {
      "image/png": "[encoded data removed]",
      "text/plain": [
       "<Figure size 432x288 with 1 Axes>"
      ]
     },
     "metadata": {
      "needs_background": "light"
     },
     "output_type": "display_data"
    }
   ],
   "source": [
    "# собираем данные в одном датафрейме\n",
    "mergedCumulativeRevenue = cumulativeRevenueA.merge(cumulativeRevenueB, left_on='date', right_on='date', how='left', suffixes=['A', 'B'])\n",
    "\n",
    "# cтроим отношение средних чеков\n",
    "plt.plot(mergedCumulativeRevenue['date'], (mergedCumulativeRevenue['revenueB']/mergedCumulativeRevenue['ordersB'])/(mergedCumulativeRevenue['revenueA']/mergedCumulativeRevenue['ordersA'])-1)\n",
    "\n",
    "# добавляем ось X\n",
    "plt.axhline(y=0, color='black', linestyle='--')\n",
    "plt.grid()\n",
    "plt.title('График относительного изменения кумулятивного среднего чека группы B к группе A')\n",
    "plt.xticks(rotation=45)\n",
    "plt.show()"
   ]
  },
  {
   "cell_type": "markdown",
   "metadata": {},
   "source": [
    "Можно заключить, что график  изменения среднего чека между группами А и B коррелирует с другими графиками и в нескольких точках имеет явно выраженные всплески.  \n",
    "\n",
    "Причина всплеска размера среднего чека в группе B может быть в нескольких крупных заказах. \n",
    "\n",
    "<font size=\"2\">([к содержанию](#Содержание))</font>"
   ]
  },
  {
   "cell_type": "markdown",
   "metadata": {},
   "source": [
    "### График кумулятивной конверсии по группам, выводы и предположения. \n",
    "\n",
    "Построим график кумулятивной конверсии по группам."
   ]
  },
  {
   "cell_type": "code",
   "execution_count": 30,
   "metadata": {},
   "outputs": [],
   "source": [
    "# считаем кумулятивную конверсию\n",
    "cumulativeData['conversion'] = cumulativeData['orders']/cumulativeData['visitors']\n",
    "\n",
    "# отделяем данные по группе A\n",
    "cumulativeDataA = cumulativeData[cumulativeData['group']=='A']\n",
    "\n",
    "# отделяем данные по группе B\n",
    "cumulativeDataB = cumulativeData[cumulativeData['group']=='B']\n"
   ]
  },
  {
   "cell_type": "code",
   "execution_count": 31,
   "metadata": {},
   "outputs": [
    {
     "data": {
      "image/png": "[encoded data removed]",
      "text/plain": [
       "<Figure size 432x288 with 1 Axes>"
      ]
     },
     "metadata": {
      "needs_background": "light"
     },
     "output_type": "display_data"
    }
   ],
   "source": [
    "# строим графики\n",
    "plt.plot(cumulativeDataA['date'], cumulativeDataA['conversion'], label='A')\n",
    "plt.plot(cumulativeDataB['date'], cumulativeDataB['conversion'], label='B')\n",
    "plt.title('График кумулятивной конверсии по группам')\n",
    "plt.grid()\n",
    "plt.ylabel(\"Выручка\")\n",
    "plt.xticks(rotation=45)\n",
    "plt.legend()\n",
    "plt.show()"
   ]
  },
  {
   "cell_type": "markdown",
   "metadata": {},
   "source": [
    "Можно заключить, что:\n",
    "- максимальное значение кумулятивной конверсии 0.035 в группе А приходится на 03.08.2019, далее происходит резкое  снижение и после 13.08.2019 стабилизация на уровне 0.025;\n",
    "- максимальное значение кумулятивной конверсии 0.031 в группе В приходится на 02.08.2019 и 10.08.2019, далее продолжает колебание на уровне 0.029\n",
    "- конверсия группы А выглядит стабильно хуже, причина может быть в различиях маркетинговой активности пользователей или аномалиях в заказах одной из групп; \n",
    "\n",
    "<font size=\"2\">([к содержанию](#Содержание))</font>"
   ]
  },
  {
   "cell_type": "markdown",
   "metadata": {},
   "source": [
    "### График относительного изменения кумулятивной конверсии группы B к группе A, выводы и предположения. \n",
    "\n",
    "Построим график относительного изменения кумулятивной конверсии группы B к группе А. "
   ]
  },
  {
   "cell_type": "code",
   "execution_count": 32,
   "metadata": {},
   "outputs": [
    {
     "data": {
      "image/png": "[encoded data removed]",
      "text/plain": [
       "<Figure size 432x288 with 1 Axes>"
      ]
     },
     "metadata": {
      "needs_background": "light"
     },
     "output_type": "display_data"
    }
   ],
   "source": [
    "mergedCumulativeConversions = cumulativeDataA[['date','conversion']].merge(cumulativeDataB[['date','conversion']], left_on='date', right_on='date', how='left', suffixes=['A', 'B'])\n",
    "\n",
    "plt.plot(mergedCumulativeConversions['date'], mergedCumulativeConversions['conversionB']/mergedCumulativeConversions['conversionA']-1, label=\"Относительный прирост конверсии группы B относительно группы A\")\n",
    "plt.legend()\n",
    "plt.axhline(y=0, color='black', linestyle='--')\n",
    "plt.axhline(y=-0.1, color='grey', linestyle='--')\n",
    "plt.grid()\n",
    "plt.title('График относительного изменения кумулятивной конверсии группы B к группе A')\n",
    "plt.xticks(rotation=45)\n",
    "plt.show()"
   ]
  },
  {
   "cell_type": "markdown",
   "metadata": {},
   "source": [
    "Можно заключить, что в начале тестирования конверсия в группе B существенно отстает, но после 06.08.2019 резко превышает конверсию в группе А и до момента завершения тестирования остается на стабильно высоком уровне 0.15.\n",
    "\n",
    "Необходимо дополнительно проанализировать аномалии в данных, возможно, они вносят погрешность. \n",
    "\n",
    "<font size=\"2\">([к содержанию](#Содержание))</font>\n",
    "\n",
    " "
   ]
  },
  {
   "cell_type": "markdown",
   "metadata": {},
   "source": [
    "### График количества заказов по пользователям, выводы и предположения. \n",
    "\n",
    "Изучим данные о заказах, построим гистограмму и график количества заказов по пользователям.  "
   ]
  },
  {
   "cell_type": "code",
   "execution_count": 33,
   "metadata": {},
   "outputs": [
    {
     "data": {
      "text/html": [
       "<div>\n",
       "<style scoped>\n",
       "    .dataframe tbody tr th:only-of-type {\n",
       "        vertical-align: middle;\n",
       "    }\n",
       "\n",
       "    .dataframe tbody tr th {\n",
       "        vertical-align: top;\n",
       "    }\n",
       "\n",
       "    .dataframe thead th {\n",
       "        text-align: right;\n",
       "    }\n",
       "</style>\n",
       "<table border=\"1\" class=\"dataframe\">\n",
       "  <thead>\n",
       "    <tr style=\"text-align: right;\">\n",
       "      <th></th>\n",
       "      <th>userid</th>\n",
       "      <th>orders</th>\n",
       "    </tr>\n",
       "  </thead>\n",
       "  <tbody>\n",
       "    <tr>\n",
       "      <th>908</th>\n",
       "      <td>3967698036</td>\n",
       "      <td>3</td>\n",
       "    </tr>\n",
       "    <tr>\n",
       "      <th>55</th>\n",
       "      <td>249864742</td>\n",
       "      <td>3</td>\n",
       "    </tr>\n",
       "    <tr>\n",
       "      <th>478</th>\n",
       "      <td>2108163459</td>\n",
       "      <td>3</td>\n",
       "    </tr>\n",
       "    <tr>\n",
       "      <th>687</th>\n",
       "      <td>2988190573</td>\n",
       "      <td>3</td>\n",
       "    </tr>\n",
       "    <tr>\n",
       "      <th>890</th>\n",
       "      <td>3908431265</td>\n",
       "      <td>3</td>\n",
       "    </tr>\n",
       "    <tr>\n",
       "      <th>138</th>\n",
       "      <td>611059232</td>\n",
       "      <td>3</td>\n",
       "    </tr>\n",
       "    <tr>\n",
       "      <th>632</th>\n",
       "      <td>2742574263</td>\n",
       "      <td>3</td>\n",
       "    </tr>\n",
       "    <tr>\n",
       "      <th>157</th>\n",
       "      <td>678354126</td>\n",
       "      <td>2</td>\n",
       "    </tr>\n",
       "    <tr>\n",
       "      <th>323</th>\n",
       "      <td>1404560065</td>\n",
       "      <td>2</td>\n",
       "    </tr>\n",
       "    <tr>\n",
       "      <th>452</th>\n",
       "      <td>1985475298</td>\n",
       "      <td>2</td>\n",
       "    </tr>\n",
       "  </tbody>\n",
       "</table>\n",
       "</div>"
      ],
      "text/plain": [
       "         userid  orders\n",
       "908  3967698036       3\n",
       "55    249864742       3\n",
       "478  2108163459       3\n",
       "687  2988190573       3\n",
       "890  3908431265       3\n",
       "138   611059232       3\n",
       "632  2742574263       3\n",
       "157   678354126       2\n",
       "323  1404560065       2\n",
       "452  1985475298       2"
      ]
     },
     "metadata": {},
     "output_type": "display_data"
    }
   ],
   "source": [
    "ordersByUsers = (\n",
    "    orders.groupby('visitorid', as_index=False)\n",
    "    .agg({'transactionid': pd.Series.nunique})\n",
    ")\n",
    "\n",
    "ordersByUsers.columns = ['userid', 'orders']\n",
    "\n",
    "display(ordersByUsers.sort_values(by='orders', ascending=False).head(10))"
   ]
  },
  {
   "cell_type": "code",
   "execution_count": 34,
   "metadata": {},
   "outputs": [
    {
     "data": {
      "image/png": "[encoded data removed]",
      "text/plain": [
       "<Figure size 432x288 with 1 Axes>"
      ]
     },
     "metadata": {
      "needs_background": "light"
     },
     "output_type": "display_data"
    }
   ],
   "source": [
    "plt.hist(ordersByUsers['orders'])\n",
    "plt.grid()"
   ]
  },
  {
   "cell_type": "markdown",
   "metadata": {},
   "source": [
    "Большинство покупателей сделали один заказ, но также есть покупатели с 2 и более заказами. Построим точечный график числа заказов. "
   ]
  },
  {
   "cell_type": "code",
   "execution_count": 35,
   "metadata": {},
   "outputs": [
    {
     "data": {
      "text/plain": [
       "<matplotlib.collections.PathCollection at 0x7fe26bf27670>"
      ]
     },
     "execution_count": 35,
     "metadata": {},
     "output_type": "execute_result"
    },
    {
     "data": {
      "image/png": "[encoded data removed]",
      "text/plain": [
       "<Figure size 432x288 with 1 Axes>"
      ]
     },
     "metadata": {
      "needs_background": "light"
     },
     "output_type": "display_data"
    }
   ],
   "source": [
    "x_values = pd.Series(range(0,len(ordersByUsers)))\n",
    "plt.title('График количества заказов по пользователям')\n",
    "plt.grid()\n",
    "plt.scatter(x_values, ordersByUsers['orders'])\n"
   ]
  },
  {
   "cell_type": "markdown",
   "metadata": {},
   "source": [
    "Можно заключить, что значительное количество пользователей сделали 2-3 заказа. Посчитаем выборочные перцентили количества заказов на одного пользователя, чтобы определить границы аномальности. \n",
    "\n",
    "<font size=\"2\">([к содержанию](#Содержание))</font>"
   ]
  },
  {
   "cell_type": "markdown",
   "metadata": {},
   "source": [
    "### 95-й, 99-й перцентили количества заказов на пользователя, выбор границы аномальных пользователей."
   ]
  },
  {
   "cell_type": "code",
   "execution_count": 36,
   "metadata": {},
   "outputs": [
    {
     "name": "stdout",
     "output_type": "stream",
     "text": [
      "90 перцентиль: 1.00\n",
      "95 перцентиль: 1.00\n",
      "99 перцентиль: 2.00\n"
     ]
    }
   ],
   "source": [
    "print('90 перцентиль: %.2f' % (np.percentile(ordersByUsers['orders'], [90])))\n",
    "print('95 перцентиль: %.2f' % (np.percentile(ordersByUsers['orders'], [95])))\n",
    "print('99 перцентиль: %.2f' % (np.percentile(ordersByUsers['orders'], [99])))"
   ]
  },
  {
   "cell_type": "markdown",
   "metadata": {},
   "source": [
    "Допустимой границей количества заказов на пользователя будем считать не более 2-х, все что за пределами, считаем аномалией. \n",
    "\n",
    "<font size=\"2\">([к содержанию](#Содержание))</font>"
   ]
  },
  {
   "cell_type": "markdown",
   "metadata": {},
   "source": [
    "### График стоимостей заказов, выводы и предположения.\n",
    "\n",
    "Построим гистограмму и график стоимости заказов. "
   ]
  },
  {
   "cell_type": "code",
   "execution_count": 37,
   "metadata": {},
   "outputs": [
    {
     "data": {
      "image/png": "[encoded data removed]",
      "text/plain": [
       "<Figure size 432x288 with 1 Axes>"
      ]
     },
     "metadata": {
      "needs_background": "light"
     },
     "output_type": "display_data"
    }
   ],
   "source": [
    "plt.hist(orders['revenue'])\n",
    "plt.grid()"
   ]
  },
  {
   "cell_type": "markdown",
   "metadata": {},
   "source": [
    "Стоимость большинства заказов до 10 000 руб. Для определения выбросов стоимости построим точечный график. "
   ]
  },
  {
   "cell_type": "code",
   "execution_count": 38,
   "metadata": {},
   "outputs": [
    {
     "data": {
      "image/png": "[encoded data removed]",
      "text/plain": [
       "<Figure size 432x288 with 1 Axes>"
      ]
     },
     "metadata": {
      "needs_background": "light"
     },
     "output_type": "display_data"
    }
   ],
   "source": [
    "x_values = pd.Series(range(0,len(orders['revenue'])))\n",
    "\n",
    "plt.scatter(x_values, (orders['revenue']))\n",
    "plt.title('График количества заказов по пользователям')\n",
    "plt.grid()\n",
    "plt.show()"
   ]
  },
  {
   "cell_type": "markdown",
   "metadata": {},
   "source": [
    "Можно заключить, что имеются выбросы стоимости заказа в районе 200 000 руб, а также более 1.2 млн. руб., которые повлияли на результаты. Посчитаем выборочные перцентили количества стоимости заказов, чтобы определить границы аномальности.\n",
    "\n",
    "<font size=\"2\">([к содержанию](#Содержание))</font>"
   ]
  },
  {
   "cell_type": "markdown",
   "metadata": {},
   "source": [
    "### 95-й, 99-й перцентилей стоимости заказов, выбор границы аномальных заказов. "
   ]
  },
  {
   "cell_type": "code",
   "execution_count": 39,
   "metadata": {},
   "outputs": [
    {
     "name": "stdout",
     "output_type": "stream",
     "text": [
      "90 перцентиль: 17990.00\n",
      "95 перцентиль: 26785.00\n",
      "99 перцентиль: 53904.00\n"
     ]
    }
   ],
   "source": [
    "print('90 перцентиль: %.2f' % (np.percentile(orders['revenue'], [90])))\n",
    "print('95 перцентиль: %.2f' % (np.percentile(orders['revenue'], [95])))\n",
    "print('99 перцентиль: %.2f' % (np.percentile(orders['revenue'], [99])))"
   ]
  },
  {
   "cell_type": "markdown",
   "metadata": {},
   "source": [
    "Допустимой границей стоимости заказа будем считать не более 53 904 руб., все что пределами, считаем аномалией.\n",
    "\n",
    "<font size=\"2\">([к содержанию](#Содержание))</font>"
   ]
  },
  {
   "cell_type": "markdown",
   "metadata": {},
   "source": [
    "### Статистическая значимость различий в конверсии между группами по «сырым» данным, выводы и предположения.\n",
    "\n",
    "Выполним подготовку данных и посчитаем статистическую значимость различий в конверсии и среднем чеке между группами по «сырым» данным — без удаления аномальных пользователей.\n",
    "\n"
   ]
  },
  {
   "cell_type": "code",
   "execution_count": 40,
   "metadata": {},
   "outputs": [
    {
     "name": "stdout",
     "output_type": "stream",
     "text": [
      "        date  ordersPerDateA  revenuePerDateA  ordersPerDateB  \\\n",
      "0 2019-08-01              23           142779              17   \n",
      "1 2019-08-02              19            91602              23   \n",
      "2 2019-08-03              24           112473              14   \n",
      "3 2019-08-04              11            41176              14   \n",
      "4 2019-08-05              22            86383              21   \n",
      "\n",
      "   revenuePerDateB  ordersCummulativeA  revenueCummulativeA  \\\n",
      "0            59758                  23               142779   \n",
      "1           162043                  42               234381   \n",
      "2            67049                  66               346854   \n",
      "3            96890                  77               388030   \n",
      "4            89908                  99               474413   \n",
      "\n",
      "   ordersCummulativeB  revenueCummulativeB  visitorsPerDateA  \\\n",
      "0                  17                59758               719   \n",
      "1                  40               221801               619   \n",
      "2                  54               288850               507   \n",
      "3                  68               385740               717   \n",
      "4                  89               475648               756   \n",
      "\n",
      "   visitorsPerDateB  visitorsCummulativeA  visitorsCummulativeB  \n",
      "0               713                   719                   713  \n",
      "1               581                  1338                  1294  \n",
      "2               509                  1845                  1803  \n",
      "3               770                  2562                  2573  \n",
      "4               707                  3318                  3280  \n"
     ]
    }
   ],
   "source": [
    "visitorsADaily = visitors[visitors['group'] == 'A'][['date', 'visitors']]\n",
    "visitorsADaily.columns = ['date', 'visitorsPerDateA']\n",
    "\n",
    "visitorsACummulative = visitorsADaily.apply(\n",
    "    lambda x: visitorsADaily[visitorsADaily['date'] <= x['date']].agg(\n",
    "        {'date': 'max', 'visitorsPerDateA': 'sum'}\n",
    "    ),\n",
    "    axis=1,\n",
    ")\n",
    "visitorsACummulative.columns = ['date', 'visitorsCummulativeA']\n",
    "\n",
    "visitorsBDaily = visitors[visitors['group'] == 'B'][['date', 'visitors']]\n",
    "visitorsBDaily.columns = ['date', 'visitorsPerDateB']\n",
    "\n",
    "visitorsBCummulative = visitorsBDaily.apply(\n",
    "    lambda x: visitorsBDaily[visitorsBDaily['date'] <= x['date']].agg(\n",
    "        {'date': 'max', 'visitorsPerDateB': 'sum'}\n",
    "    ),\n",
    "    axis=1,\n",
    ")\n",
    "visitorsBCummulative.columns = ['date', 'visitorsCummulativeB']\n",
    "\n",
    "ordersADaily = (\n",
    "    orders[orders['group'] == 'A'][['date', 'transactionid', 'visitorid', 'revenue']]\n",
    "    .groupby('date', as_index=False)\n",
    "    .agg({'transactionid': pd.Series.nunique, 'revenue': 'sum'})\n",
    ")\n",
    "ordersADaily.columns = ['date', 'ordersPerDateA', 'revenuePerDateA']\n",
    "\n",
    "ordersACummulative = ordersADaily.apply(\n",
    "    lambda x: ordersADaily[ordersADaily['date'] <= x['date']].agg(\n",
    "        {'date': 'max', 'ordersPerDateA': 'sum', 'revenuePerDateA': 'sum'}\n",
    "    ),\n",
    "    axis=1,\n",
    ").sort_values(by=['date'])\n",
    "ordersACummulative.columns = [\n",
    "    'date',\n",
    "    'ordersCummulativeA',\n",
    "    'revenueCummulativeA',\n",
    "]\n",
    "\n",
    "ordersBDaily = (\n",
    "    orders[orders['group'] == 'B'][['date', 'transactionid', 'visitorid', 'revenue']]\n",
    "    .groupby('date', as_index=False)\n",
    "    .agg({'transactionid': pd.Series.nunique, 'revenue': 'sum'})\n",
    ")\n",
    "ordersBDaily.columns = ['date', 'ordersPerDateB', 'revenuePerDateB']\n",
    "\n",
    "ordersBCummulative = ordersBDaily.apply(\n",
    "    lambda x: ordersBDaily[ordersBDaily['date'] <= x['date']].agg(\n",
    "        {'date': 'max', 'ordersPerDateB': 'sum', 'revenuePerDateB': 'sum'}\n",
    "    ),\n",
    "    axis=1,\n",
    ").sort_values(by=['date'])\n",
    "ordersBCummulative.columns = [\n",
    "    'date',\n",
    "    'ordersCummulativeB',\n",
    "    'revenueCummulativeB',\n",
    "]\n",
    "\n",
    "data = (\n",
    "    ordersADaily.merge(\n",
    "        ordersBDaily, left_on='date', right_on='date', how='left'\n",
    "    )\n",
    "    .merge(ordersACummulative, left_on='date', right_on='date', how='left')\n",
    "    .merge(ordersBCummulative, left_on='date', right_on='date', how='left')\n",
    "    .merge(visitorsADaily, left_on='date', right_on='date', how='left')\n",
    "    .merge(visitorsBDaily, left_on='date', right_on='date', how='left')\n",
    "    .merge(visitorsACummulative, left_on='date', right_on='date', how='left')\n",
    "    .merge(visitorsBCummulative, left_on='date', right_on='date', how='left')\n",
    ")\n",
    "\n",
    "print(data.head(5))"
   ]
  },
  {
   "cell_type": "code",
   "execution_count": 41,
   "metadata": {},
   "outputs": [
    {
     "data": {
      "text/html": [
       "<div>\n",
       "<style scoped>\n",
       "    .dataframe tbody tr th:only-of-type {\n",
       "        vertical-align: middle;\n",
       "    }\n",
       "\n",
       "    .dataframe tbody tr th {\n",
       "        vertical-align: top;\n",
       "    }\n",
       "\n",
       "    .dataframe thead th {\n",
       "        text-align: right;\n",
       "    }\n",
       "</style>\n",
       "<table border=\"1\" class=\"dataframe\">\n",
       "  <thead>\n",
       "    <tr style=\"text-align: right;\">\n",
       "      <th></th>\n",
       "      <th>userId</th>\n",
       "      <th>orders</th>\n",
       "    </tr>\n",
       "  </thead>\n",
       "  <tbody>\n",
       "    <tr>\n",
       "      <th>0</th>\n",
       "      <td>11685486</td>\n",
       "      <td>1</td>\n",
       "    </tr>\n",
       "    <tr>\n",
       "      <th>1</th>\n",
       "      <td>54447517</td>\n",
       "      <td>1</td>\n",
       "    </tr>\n",
       "    <tr>\n",
       "      <th>2</th>\n",
       "      <td>66685450</td>\n",
       "      <td>1</td>\n",
       "    </tr>\n",
       "    <tr>\n",
       "      <th>3</th>\n",
       "      <td>78758296</td>\n",
       "      <td>1</td>\n",
       "    </tr>\n",
       "    <tr>\n",
       "      <th>4</th>\n",
       "      <td>85103373</td>\n",
       "      <td>1</td>\n",
       "    </tr>\n",
       "  </tbody>\n",
       "</table>\n",
       "</div>"
      ],
      "text/plain": [
       "     userId  orders\n",
       "0  11685486       1\n",
       "1  54447517       1\n",
       "2  66685450       1\n",
       "3  78758296       1\n",
       "4  85103373       1"
      ]
     },
     "metadata": {},
     "output_type": "display_data"
    },
    {
     "data": {
      "text/html": [
       "<div>\n",
       "<style scoped>\n",
       "    .dataframe tbody tr th:only-of-type {\n",
       "        vertical-align: middle;\n",
       "    }\n",
       "\n",
       "    .dataframe tbody tr th {\n",
       "        vertical-align: top;\n",
       "    }\n",
       "\n",
       "    .dataframe thead th {\n",
       "        text-align: right;\n",
       "    }\n",
       "</style>\n",
       "<table border=\"1\" class=\"dataframe\">\n",
       "  <thead>\n",
       "    <tr style=\"text-align: right;\">\n",
       "      <th></th>\n",
       "      <th>userId</th>\n",
       "      <th>orders</th>\n",
       "    </tr>\n",
       "  </thead>\n",
       "  <tbody>\n",
       "    <tr>\n",
       "      <th>523</th>\n",
       "      <td>4251115836</td>\n",
       "      <td>1</td>\n",
       "    </tr>\n",
       "    <tr>\n",
       "      <th>524</th>\n",
       "      <td>4258103007</td>\n",
       "      <td>1</td>\n",
       "    </tr>\n",
       "    <tr>\n",
       "      <th>525</th>\n",
       "      <td>4279090005</td>\n",
       "      <td>1</td>\n",
       "    </tr>\n",
       "    <tr>\n",
       "      <th>526</th>\n",
       "      <td>4281247801</td>\n",
       "      <td>1</td>\n",
       "    </tr>\n",
       "    <tr>\n",
       "      <th>527</th>\n",
       "      <td>4283872382</td>\n",
       "      <td>1</td>\n",
       "    </tr>\n",
       "  </tbody>\n",
       "</table>\n",
       "</div>"
      ],
      "text/plain": [
       "         userId  orders\n",
       "523  4251115836       1\n",
       "524  4258103007       1\n",
       "525  4279090005       1\n",
       "526  4281247801       1\n",
       "527  4283872382       1"
      ]
     },
     "metadata": {},
     "output_type": "display_data"
    }
   ],
   "source": [
    "ordersByUsersA = (\n",
    "    orders[orders['group'] == 'A']\n",
    "    .groupby('visitorid', as_index=False)\n",
    "    .agg({'transactionid': pd.Series.nunique})\n",
    ")\n",
    "ordersByUsersA.columns = ['userId', 'orders']\n",
    "\n",
    "ordersByUsersB = (\n",
    "    orders[orders['group'] == 'B']\n",
    "    .groupby('visitorid', as_index=False)\n",
    "    .agg({'transactionid': pd.Series.nunique})\n",
    ")\n",
    "ordersByUsersB.columns = ['userId', 'orders']\n",
    "display(ordersByUsersA.head())\n",
    "display(ordersByUsersB.tail())"
   ]
  },
  {
   "cell_type": "markdown",
   "metadata": {},
   "source": [
    "Для A/B-тестирования применим метод `st.mannwhitneyu()` (от англ. «U-критерий Манна-Уитни»), с помощью которого проранжируем две выборки по порядку от меньшего к большему, чтобы сравнить ранги одних и тех же значений, попавших в обе выборки. Нетипичные сдвиги по рангу рассматриваем как изменения. Сумма рангов таких сдвигов выступает значением критерия. Чем он выше — тем больше вероятность, что для этих выборок интересующая нас величина различается.\n",
    "\n",
    "Сформулируем гипотезы:\n",
    "- H0: статистически значимых различий в конверсии между группами нет\n",
    "- H1: статистически значимые различия в конверсии между группами есть\n",
    "\n",
    "Критический уровень статистической значимости (alpha) будет равен  = 0.05 "
   ]
  },
  {
   "cell_type": "code",
   "execution_count": 42,
   "metadata": {},
   "outputs": [
    {
     "name": "stdout",
     "output_type": "stream",
     "text": [
      "0.011\n",
      "0.160\n"
     ]
    }
   ],
   "source": [
    "sampleA = pd.concat(\n",
    "    [\n",
    "        ordersByUsersA['orders'],\n",
    "        pd.Series(\n",
    "            0,\n",
    "            index=np.arange(\n",
    "                data['visitorsPerDateA'].sum() - len(ordersByUsersA['orders'])\n",
    "            ),\n",
    "            name='orders',\n",
    "        ),\n",
    "    ],\n",
    "    axis=0,\n",
    ")\n",
    "\n",
    "sampleB = pd.concat(\n",
    "    [\n",
    "        ordersByUsersB['orders'],\n",
    "        pd.Series(\n",
    "            0,\n",
    "            index=np.arange(\n",
    "                data['visitorsPerDateB'].sum() - len(ordersByUsersB['orders'])\n",
    "            ),\n",
    "            name='orders',\n",
    "        ),\n",
    "    ],\n",
    "    axis=0,\n",
    ")\n",
    "\n",
    "print(\"{0:.3f}\".format(stats.mannwhitneyu(sampleA, sampleB)[1]))\n",
    "\n",
    "print(\"{0:.3f}\".format(sampleB.mean() / sampleA.mean() - 1))"
   ]
  },
  {
   "cell_type": "markdown",
   "metadata": {},
   "source": [
    "С учетом полученного значения p-value нулевую гипотезу отвергаем. \n",
    "\n",
    "Анализ \"сырых\" данных показал, что:\n",
    "\n",
    "- в конверсии между группами есть статистически значимые различия;\n",
    "- относительный прирост конверсии группы B к конверсии группы A составил 16%. \n",
    "\n",
    "<font size=\"2\">([к содержанию](#Содержание))</font>"
   ]
  },
  {
   "cell_type": "markdown",
   "metadata": {},
   "source": [
    "### Статистическая значимость различий в среднем чеке заказа между группами по «сырым» данным, выводы и предположения.\n",
    "\n",
    "Сформулируем гипотезы:\n",
    "\n",
    "- H0: статистически значимых различий в среднем чеке заказа между группами нет\n",
    "- H1: статистически значимые различия в среднем чеке заказа между группами есть\n",
    "\n",
    "Критический уровень статистической значимости (alpha) будет равен = 0.05"
   ]
  },
  {
   "cell_type": "code",
   "execution_count": 43,
   "metadata": {},
   "outputs": [
    {
     "name": "stdout",
     "output_type": "stream",
     "text": [
      "0.829\n",
      "0.287\n"
     ]
    }
   ],
   "source": [
    "print('{0:.3f}'.format(stats.mannwhitneyu(orders[orders['group']=='A']['revenue'], orders[orders['group']=='B']['revenue'])[1]))\n",
    "print('{0:.3f}'.format(orders[orders['group']=='B']['revenue'].mean()/orders[orders['group']=='A']['revenue'].mean()-1)) "
   ]
  },
  {
   "cell_type": "markdown",
   "metadata": {},
   "source": [
    "С учетом полученного значения p-value нулевую гипотезу не отвергаем.\n",
    "\n",
    "Анализ \"сырых\" данных показал, что:\n",
    "\n",
    "- статистически значимых различий в среднем чеке заказа между группами нет;\n",
    "- относительное различие среднего чека между группами составляет 29%.\n",
    "\n",
    "<font size=\"2\">([к содержанию](#Содержание))</font>"
   ]
  },
  {
   "cell_type": "markdown",
   "metadata": {},
   "source": [
    "### Статистическая значимость различий в конверсии между группами по «очищенным» данным, выводы и предположения."
   ]
  },
  {
   "cell_type": "markdown",
   "metadata": {},
   "source": [
    "Исключим аномалии (очистим данные) и повторим исследование с учетом ранее определенных границ допустимых значений. "
   ]
  },
  {
   "cell_type": "code",
   "execution_count": 44,
   "metadata": {},
   "outputs": [
    {
     "name": "stdout",
     "output_type": "stream",
     "text": [
      "1099    148427295\n",
      "33      249864742\n",
      "58      611059232\n",
      "949     887908475\n",
      "744     888512513\n",
      "dtype: int64\n",
      "(16,)\n"
     ]
    }
   ],
   "source": [
    "abnormal_orders = 2\n",
    "abnormal_revenue = 53904\n",
    "\n",
    "ordersByUsersB.columns = ['userId', 'orders']\n",
    "usersWithManyOrders = pd.concat(\n",
    "    [\n",
    "        ordersByUsersA[ordersByUsersA['orders'] > abnormal_orders]['userId'],\n",
    "        ordersByUsersB[ordersByUsersB['orders'] > abnormal_orders]['userId'],\n",
    "    ],\n",
    "    axis=0,\n",
    ")\n",
    "usersWithExpensiveOrders = orders[orders['revenue'] > abnormal_revenue]['visitorid']\n",
    "abnormalUsers = (\n",
    "    pd.concat([usersWithManyOrders, usersWithExpensiveOrders], axis=0)\n",
    "    .drop_duplicates()\n",
    "    .sort_values()\n",
    ")\n",
    "print(abnormalUsers.head())\n",
    "print(abnormalUsers.shape)"
   ]
  },
  {
   "cell_type": "markdown",
   "metadata": {},
   "source": [
    "Получилось 16 аномальных пользователей. \n",
    "\n",
    "Проверим, какое влияние они оказали на результаты теста. Посчитаем статистическую значимость различий в конверсии между группами теста по очищенным данным.\n"
   ]
  },
  {
   "cell_type": "code",
   "execution_count": 45,
   "metadata": {},
   "outputs": [],
   "source": [
    "sampleAFiltered = pd.concat(\n",
    "    [\n",
    "        ordersByUsersA[\n",
    "            np.logical_not(ordersByUsersA['userId'].isin(abnormalUsers))\n",
    "        ]['orders'],\n",
    "        pd.Series(\n",
    "            0,\n",
    "            index=np.arange(\n",
    "                data['visitorsPerDateA'].sum() - len(ordersByUsersA['orders'])\n",
    "            ),\n",
    "            name='orders',\n",
    "        ),\n",
    "    ],\n",
    "    axis=0,\n",
    ")\n",
    "\n",
    "sampleBFiltered = pd.concat(\n",
    "    [\n",
    "        ordersByUsersB[\n",
    "            np.logical_not(ordersByUsersB['userId'].isin(abnormalUsers))\n",
    "        ]['orders'],\n",
    "        pd.Series(\n",
    "            0,\n",
    "            index=np.arange(\n",
    "                data['visitorsPerDateB'].sum() - len(ordersByUsersB['orders'])\n",
    "            ),\n",
    "            name='orders',\n",
    "        ),\n",
    "    ],\n",
    "    axis=0,\n",
    ")"
   ]
  },
  {
   "cell_type": "code",
   "execution_count": 46,
   "metadata": {},
   "outputs": [
    {
     "data": {
      "text/plain": [
       "0    1\n",
       "1    1\n",
       "2    1\n",
       "3    1\n",
       "4    1\n",
       "Name: orders, dtype: int64"
      ]
     },
     "metadata": {},
     "output_type": "display_data"
    }
   ],
   "source": [
    "display(sampleAFiltered.head())"
   ]
  },
  {
   "cell_type": "markdown",
   "metadata": {},
   "source": [
    "Применим «U-критерий Манна-Уитни» к полученным выборкам:"
   ]
  },
  {
   "cell_type": "code",
   "execution_count": 47,
   "metadata": {},
   "outputs": [
    {
     "name": "stdout",
     "output_type": "stream",
     "text": [
      "0.007\n",
      "0.189\n"
     ]
    }
   ],
   "source": [
    "print('{0:.3f}'.format(stats.mannwhitneyu(sampleAFiltered, sampleBFiltered)[1]))\n",
    "print('{0:.3f}'.format(sampleBFiltered.mean()/sampleAFiltered.mean()-1))"
   ]
  },
  {
   "cell_type": "markdown",
   "metadata": {},
   "source": [
    "Ранее анализ \"сырых\" данных\" показал значение p-value = 0.011, относительный прирост конверсии группы B к конверсии группы A = 16%. Результаты по конверсии существенно не изменились.  \n",
    "\n",
    "Проверим изменение результатами по среднему чеку. \n",
    "\n",
    "<font size=\"2\">([к содержанию](#Содержание))</font>\n"
   ]
  },
  {
   "cell_type": "markdown",
   "metadata": {},
   "source": [
    "### Статистическая значимость различий в среднем чеке заказа между группами по «очищенным» данным, выводы и предположения."
   ]
  },
  {
   "cell_type": "code",
   "execution_count": 48,
   "metadata": {},
   "outputs": [
    {
     "name": "stdout",
     "output_type": "stream",
     "text": [
      "0.788\n",
      "-0.032\n"
     ]
    }
   ],
   "source": [
    "print(\n",
    "    '{0:.3f}'.format(\n",
    "        stats.mannwhitneyu(\n",
    "            orders[\n",
    "                np.logical_and(\n",
    "                    orders['group'] == 'A',\n",
    "                    np.logical_not(orders['visitorid'].isin(abnormalUsers)),\n",
    "                )\n",
    "            ]['revenue'],\n",
    "            orders[\n",
    "                np.logical_and(\n",
    "                    orders['group'] == 'B',\n",
    "                    np.logical_not(orders['visitorid'].isin(abnormalUsers)),\n",
    "                )\n",
    "            ]['revenue'],\n",
    "        )[1]\n",
    "    )\n",
    ")\n",
    "\n",
    "print(\n",
    "    \"{0:.3f}\".format(\n",
    "        orders[\n",
    "            np.logical_and(\n",
    "                orders['group'] == 'B',\n",
    "                np.logical_not(orders['visitorid'].isin(abnormalUsers)),\n",
    "            )\n",
    "        ]['revenue'].mean()\n",
    "        / orders[\n",
    "            np.logical_and(\n",
    "                orders['group'] == 'A',\n",
    "                np.logical_not(orders['visitorid'].isin(abnormalUsers)),\n",
    "            )\n",
    "        ]['revenue'].mean()\n",
    "        - 1\n",
    "    )\n",
    ")"
   ]
  },
  {
   "cell_type": "markdown",
   "metadata": {},
   "source": [
    "Ранее анализ \"сырых\" данных\" показал значение p-value = 0.829, относительное различие среднего чека между группами составляет 29%. Результаты p-value практически не изменились, относительное различие среднего чека между группами сократилась до 3%.\n",
    "\n",
    "Таким образом, общие выводы по результатам теста не изменились, аномалия, в данном случае, не повлияла на результат. \n",
    "\n",
    "<font size=\"2\">([к содержанию](#Содержание))</font>\n"
   ]
  },
  {
   "cell_type": "markdown",
   "metadata": {},
   "source": [
    "## Принятие решений по результатам A/B-теста \n",
    "\n",
    "**Выводы:** \n",
    "\n",
    "- на этапе предобработки данных выявлено, что доля пользователей группы B больше на 15%, что могло исказить полученные результаты;\n",
    "- есть статистически значимые различия по конверсии между группами как по «сырым», так и по данным после фильтрации аномалий, относительный прирост конверсии группы B к конверсии группы A больше на 16%, что вероятно обусловлено различием в долях групп;\n",
    "- нет статистически значимого различия по среднему чеку между группами ни по «сырым», ни по данным после фильтрации аномалий, при этом после удаления аномалий, относительное различие среднего чека между группами сократилась с 28% до 3%.\n",
    "- график относительного различия конверсии между группами показывает, что результаты группы B выше группы A и имеет тенденцию к улучшению;\n",
    "- на графике относительного изменения среднего чека между группами по \"сырым\" данным наблюдаются всплески и провалы, в конце исследуемого периода имеется тенденция к стабилизации, результаты маркетинговой активности группы B на 30% в среднем выше;\n",
    "\n",
    "\n",
    "**Решение:** \n",
    "- привести доли пользователей в группах в соответствие друг другу и выполнить повторный анализ; \n",
    "- тест рекомендуется продлить для подтверждения сделанных предположений.  \n",
    "\n",
    "<font size=\"2\">([к содержанию](#Содержание))</font>"
   ]
  },
  {
   "cell_type": "markdown",
   "metadata": {},
   "source": [
    "## Чек-лист готовности проекта\n",
    "\n",
    "- [x] файлы открыты, данные загружены в переменные\n",
    "- [x] данные изучены, проверены на отсутствие дубликатов, аномалий\n",
    "- [x] изменены типы данных, названия столбцов приведины к нижнему регистру\n",
    "- [x] применен фреймворк ICE для приоритизации гипотез\n",
    "- [x] применен фреймворк RICE для приоритизации гипотез\n",
    "- [x] проанализировано изменение приоритизация гипотез при применении RICE вместо ICE\n",
    "- [x] построен график кумулятивной выручки по группам, сделаны выводы и предположения\n",
    "- [x] построен график кумулятивного среднего чека по группам, сделаны выводы и предположения\n",
    "- [x] построен график относительного изменения кумулятивного среднего чека группы B к группе A, сделаны выводы и предположения\n",
    "- [x] построен график кумулятивной конверсии по группам, сделаны выводы и предположения\n",
    "- [x] построен график относительного изменения кумулятивной конверсии группы B к группе A, сделаны выводы и предположения\n",
    "- [x] построен график количества заказов по пользователям, сделаны выводы и предположения\n",
    "- [x] посчитан 95-й и 99-й перцентили количества заказов на пользователя, выбрана граница аномальных пользователей\n",
    "- [x] построен график стоимостей заказов, сделаны выводы и предположения\n",
    "- [x] посчитан 95-й и 99-й перцентили стоимости заказов, выбрана граница аномальных заказов \n",
    "- [x] посчитана статистическая значимость различий в конверсии между группами по «сырым» данным, сделайте выводы и предположения\n",
    "- [x] посчитана статистическая значимость различий в среднем чеке заказа между группами по «сырым» данным, сделайте выводы и предположения\n",
    "- [x] посчитана статистическая значимость различий в конверсии между группами по «очищенным» данным, сделаны выводы и предположения\n",
    "- [x] посчитана статистическая значимость различий в среднем чеке заказа между группами по «очищенным» данным, сделаны выводы и предположения \n",
    "- [x] принято решение по результатам теста\n",
    "\n",
    "\n",
    "<font size=\"2\">([к содержанию](#Содержание))</font>"
   ]
  }
 ],
 "metadata": {
  "ExecuteTimeLog": [
   {
    "duration": 296,
    "start_time": "2022-03-22T12:41:35.442Z"
   },
   {
    "duration": 1364,
    "start_time": "2022-03-22T13:03:50.629Z"
   },
   {
    "duration": 68,
    "start_time": "2022-03-22T13:05:46.677Z"
   },
   {
    "duration": 12,
    "start_time": "2022-03-22T13:06:30.349Z"
   },
   {
    "duration": 4,
    "start_time": "2022-03-22T13:09:57.867Z"
   },
   {
    "duration": 77,
    "start_time": "2022-03-22T13:10:00.245Z"
   },
   {
    "duration": 9,
    "start_time": "2022-03-22T13:10:09.726Z"
   },
   {
    "duration": 8,
    "start_time": "2022-03-22T13:10:21.125Z"
   },
   {
    "duration": 12,
    "start_time": "2022-03-22T13:10:40.591Z"
   },
   {
    "duration": 8,
    "start_time": "2022-03-22T13:10:55.032Z"
   },
   {
    "duration": 20,
    "start_time": "2022-03-22T13:11:28.045Z"
   },
   {
    "duration": 9,
    "start_time": "2022-03-22T13:12:17.001Z"
   },
   {
    "duration": 18,
    "start_time": "2022-03-22T13:12:59.192Z"
   },
   {
    "duration": 19,
    "start_time": "2022-03-22T13:13:16.348Z"
   },
   {
    "duration": 11,
    "start_time": "2022-03-22T13:14:05.787Z"
   },
   {
    "duration": 97,
    "start_time": "2022-03-22T13:14:12.220Z"
   },
   {
    "duration": 15,
    "start_time": "2022-03-22T13:14:19.685Z"
   },
   {
    "duration": 10,
    "start_time": "2022-03-22T13:14:24.220Z"
   },
   {
    "duration": 8,
    "start_time": "2022-03-22T13:16:17.205Z"
   },
   {
    "duration": 10,
    "start_time": "2022-03-22T13:16:37.742Z"
   },
   {
    "duration": 6,
    "start_time": "2022-03-22T13:16:52.191Z"
   },
   {
    "duration": 10,
    "start_time": "2022-03-22T13:17:19.845Z"
   },
   {
    "duration": 6,
    "start_time": "2022-03-22T13:18:25.201Z"
   },
   {
    "duration": 3,
    "start_time": "2022-03-22T13:19:19.418Z"
   },
   {
    "duration": 10,
    "start_time": "2022-03-22T13:19:29.131Z"
   },
   {
    "duration": 4,
    "start_time": "2022-03-22T13:20:57.780Z"
   },
   {
    "duration": 14,
    "start_time": "2022-03-22T13:21:07.953Z"
   },
   {
    "duration": 6,
    "start_time": "2022-03-22T13:22:06.275Z"
   },
   {
    "duration": 5,
    "start_time": "2022-03-22T13:22:30.517Z"
   },
   {
    "duration": 4,
    "start_time": "2022-03-22T13:22:49.961Z"
   },
   {
    "duration": 11,
    "start_time": "2022-03-22T13:22:53.207Z"
   },
   {
    "duration": 12,
    "start_time": "2022-03-22T14:08:51.376Z"
   },
   {
    "duration": 5,
    "start_time": "2022-03-22T14:09:48.942Z"
   },
   {
    "duration": 8,
    "start_time": "2022-03-22T14:10:00.374Z"
   },
   {
    "duration": 19,
    "start_time": "2022-03-22T14:10:05.606Z"
   },
   {
    "duration": 13,
    "start_time": "2022-03-22T14:10:13.753Z"
   },
   {
    "duration": 3,
    "start_time": "2022-03-22T14:10:22.905Z"
   },
   {
    "duration": 3,
    "start_time": "2022-03-22T14:10:30.243Z"
   },
   {
    "duration": 8,
    "start_time": "2022-03-22T14:10:36.730Z"
   },
   {
    "duration": 3,
    "start_time": "2022-03-22T14:12:08.758Z"
   },
   {
    "duration": 8,
    "start_time": "2022-03-22T14:12:13.189Z"
   },
   {
    "duration": 121,
    "start_time": "2022-03-22T14:12:15.597Z"
   },
   {
    "duration": 7,
    "start_time": "2022-03-22T14:12:17.306Z"
   },
   {
    "duration": 3,
    "start_time": "2022-03-22T14:12:29.492Z"
   },
   {
    "duration": 7,
    "start_time": "2022-03-22T14:12:32.181Z"
   },
   {
    "duration": 3,
    "start_time": "2022-03-22T14:12:52.927Z"
   },
   {
    "duration": 92,
    "start_time": "2022-03-22T14:12:54.613Z"
   },
   {
    "duration": 8,
    "start_time": "2022-03-22T14:12:56.391Z"
   },
   {
    "duration": 9,
    "start_time": "2022-03-22T14:13:16.618Z"
   },
   {
    "duration": 3,
    "start_time": "2022-03-22T14:13:42.737Z"
   },
   {
    "duration": 8,
    "start_time": "2022-03-22T14:13:44.557Z"
   },
   {
    "duration": 4,
    "start_time": "2022-03-22T14:14:05.765Z"
   },
   {
    "duration": 8,
    "start_time": "2022-03-22T14:14:08.360Z"
   },
   {
    "duration": 3,
    "start_time": "2022-03-22T14:14:14.047Z"
   },
   {
    "duration": 3,
    "start_time": "2022-03-22T14:15:57.878Z"
   },
   {
    "duration": 7,
    "start_time": "2022-03-22T14:16:00.035Z"
   },
   {
    "duration": 0,
    "start_time": "2022-03-22T14:16:52.598Z"
   },
   {
    "duration": 3,
    "start_time": "2022-03-22T14:16:55.322Z"
   },
   {
    "duration": 88,
    "start_time": "2022-03-22T14:16:55.327Z"
   },
   {
    "duration": 8,
    "start_time": "2022-03-22T14:16:55.416Z"
   },
   {
    "duration": 5,
    "start_time": "2022-03-22T14:16:55.425Z"
   },
   {
    "duration": 11,
    "start_time": "2022-03-22T14:16:55.432Z"
   },
   {
    "duration": 22,
    "start_time": "2022-03-22T14:16:55.445Z"
   },
   {
    "duration": 10,
    "start_time": "2022-03-22T14:16:55.468Z"
   },
   {
    "duration": 9,
    "start_time": "2022-03-22T14:16:55.479Z"
   },
   {
    "duration": 6,
    "start_time": "2022-03-22T14:16:55.489Z"
   },
   {
    "duration": 11,
    "start_time": "2022-03-22T14:16:55.496Z"
   },
   {
    "duration": 16,
    "start_time": "2022-03-22T14:16:55.509Z"
   },
   {
    "duration": 9,
    "start_time": "2022-03-22T14:16:55.526Z"
   },
   {
    "duration": 7,
    "start_time": "2022-03-22T14:16:55.537Z"
   },
   {
    "duration": 6,
    "start_time": "2022-03-22T14:16:55.545Z"
   },
   {
    "duration": 35,
    "start_time": "2022-03-22T14:16:55.553Z"
   },
   {
    "duration": 10,
    "start_time": "2022-03-22T14:16:55.590Z"
   },
   {
    "duration": 9,
    "start_time": "2022-03-22T14:18:12.474Z"
   },
   {
    "duration": 10,
    "start_time": "2022-03-22T14:18:23.624Z"
   },
   {
    "duration": 14,
    "start_time": "2022-03-22T14:22:05.439Z"
   },
   {
    "duration": 13,
    "start_time": "2022-03-22T14:23:07.569Z"
   },
   {
    "duration": 17,
    "start_time": "2022-03-22T14:24:43.905Z"
   },
   {
    "duration": 15,
    "start_time": "2022-03-22T14:24:46.884Z"
   },
   {
    "duration": 14,
    "start_time": "2022-03-22T14:27:52.090Z"
   },
   {
    "duration": 4,
    "start_time": "2022-03-22T14:32:59.124Z"
   },
   {
    "duration": 9,
    "start_time": "2022-03-22T14:33:05.090Z"
   },
   {
    "duration": 9,
    "start_time": "2022-03-22T14:33:52.005Z"
   },
   {
    "duration": 9,
    "start_time": "2022-03-22T14:34:35.784Z"
   },
   {
    "duration": 15,
    "start_time": "2022-03-22T14:35:53.399Z"
   },
   {
    "duration": 0,
    "start_time": "2022-03-22T14:36:23.672Z"
   },
   {
    "duration": 11455,
    "start_time": "2022-03-22T14:36:36.571Z"
   },
   {
    "duration": 15,
    "start_time": "2022-03-22T14:37:16.525Z"
   },
   {
    "duration": 9,
    "start_time": "2022-03-22T14:38:02.875Z"
   },
   {
    "duration": 8,
    "start_time": "2022-03-22T14:38:05.120Z"
   },
   {
    "duration": 13,
    "start_time": "2022-03-22T14:38:44.008Z"
   },
   {
    "duration": 13,
    "start_time": "2022-03-22T14:38:47.395Z"
   },
   {
    "duration": 10,
    "start_time": "2022-03-22T14:39:01.149Z"
   },
   {
    "duration": 10,
    "start_time": "2022-03-22T14:39:57.375Z"
   },
   {
    "duration": 10,
    "start_time": "2022-03-22T14:40:09.902Z"
   },
   {
    "duration": 9,
    "start_time": "2022-03-22T14:40:17.173Z"
   },
   {
    "duration": 10,
    "start_time": "2022-03-22T14:41:45.389Z"
   },
   {
    "duration": 10,
    "start_time": "2022-03-22T14:42:26.513Z"
   },
   {
    "duration": 10,
    "start_time": "2022-03-22T14:42:30.911Z"
   },
   {
    "duration": 14,
    "start_time": "2022-03-22T14:43:09.326Z"
   },
   {
    "duration": 13,
    "start_time": "2022-03-22T14:43:21.188Z"
   },
   {
    "duration": 10,
    "start_time": "2022-03-22T14:43:45.276Z"
   },
   {
    "duration": 3,
    "start_time": "2022-03-22T14:44:20.196Z"
   },
   {
    "duration": 15,
    "start_time": "2022-03-22T14:44:22.619Z"
   },
   {
    "duration": 9,
    "start_time": "2022-03-22T14:45:02.116Z"
   },
   {
    "duration": 9,
    "start_time": "2022-03-22T14:45:04.189Z"
   },
   {
    "duration": 9,
    "start_time": "2022-03-22T14:45:11.973Z"
   },
   {
    "duration": 16,
    "start_time": "2022-03-22T14:45:18.612Z"
   },
   {
    "duration": 449,
    "start_time": "2022-03-22T14:45:29.301Z"
   },
   {
    "duration": 11,
    "start_time": "2022-03-22T14:45:34.344Z"
   },
   {
    "duration": 25,
    "start_time": "2022-03-22T14:46:19.419Z"
   },
   {
    "duration": 5,
    "start_time": "2022-03-22T14:47:11.553Z"
   },
   {
    "duration": 80,
    "start_time": "2022-03-22T14:47:11.560Z"
   },
   {
    "duration": 11,
    "start_time": "2022-03-22T14:47:11.643Z"
   },
   {
    "duration": 7,
    "start_time": "2022-03-22T14:47:11.655Z"
   },
   {
    "duration": 14,
    "start_time": "2022-03-22T14:47:11.664Z"
   },
   {
    "duration": 27,
    "start_time": "2022-03-22T14:47:11.680Z"
   },
   {
    "duration": 11,
    "start_time": "2022-03-22T14:47:11.708Z"
   },
   {
    "duration": 10,
    "start_time": "2022-03-22T14:47:11.721Z"
   },
   {
    "duration": 10,
    "start_time": "2022-03-22T14:47:11.733Z"
   },
   {
    "duration": 15,
    "start_time": "2022-03-22T14:47:11.744Z"
   },
   {
    "duration": 32,
    "start_time": "2022-03-22T14:47:11.762Z"
   },
   {
    "duration": 9,
    "start_time": "2022-03-22T14:47:11.796Z"
   },
   {
    "duration": 9,
    "start_time": "2022-03-22T14:47:11.807Z"
   },
   {
    "duration": 9,
    "start_time": "2022-03-22T14:47:11.817Z"
   },
   {
    "duration": 15,
    "start_time": "2022-03-22T14:47:11.828Z"
   },
   {
    "duration": 8,
    "start_time": "2022-03-22T14:47:11.845Z"
   },
   {
    "duration": 29,
    "start_time": "2022-03-22T14:47:11.854Z"
   },
   {
    "duration": 32,
    "start_time": "2022-03-22T14:47:11.886Z"
   },
   {
    "duration": 10,
    "start_time": "2022-03-22T14:49:11.031Z"
   },
   {
    "duration": 16,
    "start_time": "2022-03-22T14:49:12.764Z"
   },
   {
    "duration": 10,
    "start_time": "2022-03-22T14:49:59.349Z"
   },
   {
    "duration": 12,
    "start_time": "2022-03-22T14:50:34.590Z"
   },
   {
    "duration": 15,
    "start_time": "2022-03-22T14:50:38.236Z"
   },
   {
    "duration": 17,
    "start_time": "2022-03-22T14:51:26.188Z"
   },
   {
    "duration": 11,
    "start_time": "2022-03-22T14:51:40.268Z"
   },
   {
    "duration": 5,
    "start_time": "2022-03-22T14:56:12.189Z"
   },
   {
    "duration": 3,
    "start_time": "2022-03-22T14:56:30.120Z"
   },
   {
    "duration": 79,
    "start_time": "2022-03-22T14:56:30.124Z"
   },
   {
    "duration": 7,
    "start_time": "2022-03-22T14:56:30.205Z"
   },
   {
    "duration": 8,
    "start_time": "2022-03-22T14:56:30.213Z"
   },
   {
    "duration": 11,
    "start_time": "2022-03-22T14:56:30.222Z"
   },
   {
    "duration": 18,
    "start_time": "2022-03-22T14:56:30.235Z"
   },
   {
    "duration": 9,
    "start_time": "2022-03-22T14:56:30.254Z"
   },
   {
    "duration": 16,
    "start_time": "2022-03-22T14:56:30.264Z"
   },
   {
    "duration": 10,
    "start_time": "2022-03-22T14:56:30.282Z"
   },
   {
    "duration": 12,
    "start_time": "2022-03-22T14:56:30.293Z"
   },
   {
    "duration": 15,
    "start_time": "2022-03-22T14:56:30.308Z"
   },
   {
    "duration": 9,
    "start_time": "2022-03-22T14:56:30.325Z"
   },
   {
    "duration": 13,
    "start_time": "2022-03-22T14:56:30.335Z"
   },
   {
    "duration": 15,
    "start_time": "2022-03-22T14:56:30.350Z"
   },
   {
    "duration": 21,
    "start_time": "2022-03-22T14:56:30.366Z"
   },
   {
    "duration": 19,
    "start_time": "2022-03-22T14:56:30.388Z"
   },
   {
    "duration": 14,
    "start_time": "2022-03-22T14:56:30.409Z"
   },
   {
    "duration": 15,
    "start_time": "2022-03-22T14:56:30.425Z"
   },
   {
    "duration": 8,
    "start_time": "2022-03-22T17:40:14.170Z"
   },
   {
    "duration": 9,
    "start_time": "2022-03-22T17:40:24.994Z"
   },
   {
    "duration": 27,
    "start_time": "2022-03-22T17:41:16.326Z"
   },
   {
    "duration": 14,
    "start_time": "2022-03-22T17:42:51.499Z"
   },
   {
    "duration": 14,
    "start_time": "2022-03-22T17:43:01.130Z"
   },
   {
    "duration": 51,
    "start_time": "2022-03-22T17:43:41.558Z"
   },
   {
    "duration": 3,
    "start_time": "2022-03-22T17:47:10.934Z"
   },
   {
    "duration": 3,
    "start_time": "2022-03-22T17:47:46.772Z"
   },
   {
    "duration": 196,
    "start_time": "2022-03-22T17:47:46.777Z"
   },
   {
    "duration": 7,
    "start_time": "2022-03-22T17:47:46.975Z"
   },
   {
    "duration": 4,
    "start_time": "2022-03-22T17:47:46.984Z"
   },
   {
    "duration": 12,
    "start_time": "2022-03-22T17:47:46.991Z"
   },
   {
    "duration": 20,
    "start_time": "2022-03-22T17:47:47.005Z"
   },
   {
    "duration": 10,
    "start_time": "2022-03-22T17:47:47.027Z"
   },
   {
    "duration": 9,
    "start_time": "2022-03-22T17:47:47.038Z"
   },
   {
    "duration": 6,
    "start_time": "2022-03-22T17:47:47.049Z"
   },
   {
    "duration": 22,
    "start_time": "2022-03-22T17:47:47.082Z"
   },
   {
    "duration": 4,
    "start_time": "2022-03-22T17:47:47.108Z"
   },
   {
    "duration": 34,
    "start_time": "2022-03-22T17:47:47.115Z"
   },
   {
    "duration": 33,
    "start_time": "2022-03-22T17:47:47.151Z"
   },
   {
    "duration": 8,
    "start_time": "2022-03-22T17:47:47.186Z"
   },
   {
    "duration": 12,
    "start_time": "2022-03-22T17:47:47.196Z"
   },
   {
    "duration": 20,
    "start_time": "2022-03-22T17:47:47.211Z"
   },
   {
    "duration": 17,
    "start_time": "2022-03-22T17:47:47.236Z"
   },
   {
    "duration": 38,
    "start_time": "2022-03-22T17:47:47.256Z"
   },
   {
    "duration": 22,
    "start_time": "2022-03-22T17:47:53.540Z"
   },
   {
    "duration": 14,
    "start_time": "2022-03-22T17:47:57.554Z"
   },
   {
    "duration": 162,
    "start_time": "2022-03-22T17:48:39.840Z"
   },
   {
    "duration": 327,
    "start_time": "2022-03-22T17:49:32.861Z"
   },
   {
    "duration": 262,
    "start_time": "2022-03-22T17:50:01.042Z"
   },
   {
    "duration": 267,
    "start_time": "2022-03-22T17:50:13.795Z"
   },
   {
    "duration": 583,
    "start_time": "2022-03-22T17:51:07.385Z"
   },
   {
    "duration": 257,
    "start_time": "2022-03-22T17:51:42.862Z"
   },
   {
    "duration": 269,
    "start_time": "2022-03-22T17:52:05.325Z"
   },
   {
    "duration": 444,
    "start_time": "2022-03-22T17:53:20.063Z"
   },
   {
    "duration": 580,
    "start_time": "2022-03-22T17:54:38.278Z"
   },
   {
    "duration": 257,
    "start_time": "2022-03-22T17:55:52.734Z"
   },
   {
    "duration": 311,
    "start_time": "2022-03-22T17:56:22.998Z"
   },
   {
    "duration": 254,
    "start_time": "2022-03-22T17:57:05.306Z"
   },
   {
    "duration": 13,
    "start_time": "2022-03-22T17:58:03.609Z"
   },
   {
    "duration": 235,
    "start_time": "2022-03-22T17:58:16.932Z"
   },
   {
    "duration": 257,
    "start_time": "2022-03-22T17:59:00.135Z"
   },
   {
    "duration": 6,
    "start_time": "2022-03-22T18:00:27.010Z"
   },
   {
    "duration": 277,
    "start_time": "2022-03-22T18:00:29.575Z"
   },
   {
    "duration": 248,
    "start_time": "2022-03-22T18:01:19.562Z"
   },
   {
    "duration": 485,
    "start_time": "2022-03-22T18:02:10.344Z"
   },
   {
    "duration": 336,
    "start_time": "2022-03-22T18:02:43.526Z"
   },
   {
    "duration": 262,
    "start_time": "2022-03-22T18:04:30.678Z"
   },
   {
    "duration": 6,
    "start_time": "2022-03-22T18:04:39.570Z"
   },
   {
    "duration": 254,
    "start_time": "2022-03-22T18:04:41.397Z"
   },
   {
    "duration": 623,
    "start_time": "2022-03-22T18:05:06.943Z"
   },
   {
    "duration": 263,
    "start_time": "2022-03-22T18:05:49.799Z"
   },
   {
    "duration": 366,
    "start_time": "2022-03-22T18:06:37.070Z"
   },
   {
    "duration": 56,
    "start_time": "2022-03-22T18:06:50.713Z"
   },
   {
    "duration": 431,
    "start_time": "2022-03-22T18:07:08.081Z"
   },
   {
    "duration": 261,
    "start_time": "2022-03-22T18:07:13.323Z"
   },
   {
    "duration": 723,
    "start_time": "2022-03-22T18:08:21.314Z"
   },
   {
    "duration": 209,
    "start_time": "2022-03-22T18:13:01.153Z"
   },
   {
    "duration": 204,
    "start_time": "2022-03-22T18:15:11.283Z"
   },
   {
    "duration": 216,
    "start_time": "2022-03-22T18:15:35.578Z"
   },
   {
    "duration": 148,
    "start_time": "2022-03-22T18:16:18.343Z"
   },
   {
    "duration": 162,
    "start_time": "2022-03-22T18:16:38.451Z"
   },
   {
    "duration": 246,
    "start_time": "2022-03-22T18:17:07.914Z"
   },
   {
    "duration": 141,
    "start_time": "2022-03-22T18:17:29.000Z"
   },
   {
    "duration": 341,
    "start_time": "2022-03-22T18:18:41.035Z"
   },
   {
    "duration": 163,
    "start_time": "2022-03-22T18:18:58.287Z"
   },
   {
    "duration": 143,
    "start_time": "2022-03-22T18:19:12.375Z"
   },
   {
    "duration": 172,
    "start_time": "2022-03-22T18:19:20.890Z"
   },
   {
    "duration": 5,
    "start_time": "2022-03-22T18:20:22.631Z"
   },
   {
    "duration": 12,
    "start_time": "2022-03-22T18:20:53.677Z"
   },
   {
    "duration": 6,
    "start_time": "2022-03-22T18:21:31.279Z"
   },
   {
    "duration": 10,
    "start_time": "2022-03-22T18:23:55.657Z"
   },
   {
    "duration": 161,
    "start_time": "2022-03-22T18:24:26.361Z"
   },
   {
    "duration": 150,
    "start_time": "2022-03-22T18:28:30.916Z"
   },
   {
    "duration": 229,
    "start_time": "2022-03-22T18:29:08.374Z"
   },
   {
    "duration": 162,
    "start_time": "2022-03-22T18:29:46.993Z"
   },
   {
    "duration": 7,
    "start_time": "2022-03-22T18:30:48.629Z"
   },
   {
    "duration": 255,
    "start_time": "2022-03-23T06:32:32.385Z"
   },
   {
    "duration": 1290,
    "start_time": "2022-03-23T06:32:37.407Z"
   },
   {
    "duration": 112,
    "start_time": "2022-03-23T06:32:38.700Z"
   },
   {
    "duration": 13,
    "start_time": "2022-03-23T06:32:38.813Z"
   },
   {
    "duration": 3,
    "start_time": "2022-03-23T06:32:38.828Z"
   },
   {
    "duration": 11,
    "start_time": "2022-03-23T06:32:38.833Z"
   },
   {
    "duration": 19,
    "start_time": "2022-03-23T06:32:38.846Z"
   },
   {
    "duration": 35,
    "start_time": "2022-03-23T06:32:38.867Z"
   },
   {
    "duration": 8,
    "start_time": "2022-03-23T06:32:38.904Z"
   },
   {
    "duration": 7,
    "start_time": "2022-03-23T06:32:38.914Z"
   },
   {
    "duration": 12,
    "start_time": "2022-03-23T06:32:38.925Z"
   },
   {
    "duration": 5,
    "start_time": "2022-03-23T06:32:38.939Z"
   },
   {
    "duration": 20,
    "start_time": "2022-03-23T06:32:38.946Z"
   },
   {
    "duration": 11,
    "start_time": "2022-03-23T06:32:39.001Z"
   },
   {
    "duration": 7,
    "start_time": "2022-03-23T06:32:39.013Z"
   },
   {
    "duration": 5,
    "start_time": "2022-03-23T06:32:40.780Z"
   },
   {
    "duration": 233,
    "start_time": "2022-03-23T06:32:42.496Z"
   },
   {
    "duration": 13,
    "start_time": "2022-03-23T06:33:01.228Z"
   },
   {
    "duration": 13,
    "start_time": "2022-03-23T06:33:16.269Z"
   },
   {
    "duration": 10,
    "start_time": "2022-03-23T06:33:44.435Z"
   },
   {
    "duration": 104,
    "start_time": "2022-03-23T06:34:59.866Z"
   },
   {
    "duration": 10,
    "start_time": "2022-03-23T06:35:06.364Z"
   },
   {
    "duration": 4,
    "start_time": "2022-03-23T06:40:08.312Z"
   },
   {
    "duration": 9,
    "start_time": "2022-03-23T06:40:25.965Z"
   },
   {
    "duration": 9,
    "start_time": "2022-03-23T06:40:52.343Z"
   },
   {
    "duration": 9,
    "start_time": "2022-03-23T06:41:10.921Z"
   },
   {
    "duration": 16,
    "start_time": "2022-03-23T06:41:41.171Z"
   },
   {
    "duration": 4,
    "start_time": "2022-03-23T06:42:29.596Z"
   },
   {
    "duration": 5,
    "start_time": "2022-03-23T06:43:25.036Z"
   },
   {
    "duration": 4,
    "start_time": "2022-03-23T06:43:30.180Z"
   },
   {
    "duration": 8,
    "start_time": "2022-03-23T06:44:18.251Z"
   },
   {
    "duration": 4,
    "start_time": "2022-03-23T06:44:27.939Z"
   },
   {
    "duration": 9,
    "start_time": "2022-03-23T06:45:01.795Z"
   },
   {
    "duration": 9,
    "start_time": "2022-03-23T06:47:01.948Z"
   },
   {
    "duration": 7,
    "start_time": "2022-03-23T06:47:11.014Z"
   },
   {
    "duration": 4,
    "start_time": "2022-03-23T06:47:58.311Z"
   },
   {
    "duration": 5,
    "start_time": "2022-03-23T06:48:06.606Z"
   },
   {
    "duration": 9,
    "start_time": "2022-03-23T06:52:21.627Z"
   },
   {
    "duration": 3,
    "start_time": "2022-03-23T07:09:03.909Z"
   },
   {
    "duration": 96,
    "start_time": "2022-03-23T07:09:03.914Z"
   },
   {
    "duration": 9,
    "start_time": "2022-03-23T07:09:04.012Z"
   },
   {
    "duration": 4,
    "start_time": "2022-03-23T07:09:04.022Z"
   },
   {
    "duration": 13,
    "start_time": "2022-03-23T07:09:04.028Z"
   },
   {
    "duration": 23,
    "start_time": "2022-03-23T07:09:04.042Z"
   },
   {
    "duration": 10,
    "start_time": "2022-03-23T07:09:04.067Z"
   },
   {
    "duration": 27,
    "start_time": "2022-03-23T07:09:04.079Z"
   },
   {
    "duration": 7,
    "start_time": "2022-03-23T07:09:04.108Z"
   },
   {
    "duration": 11,
    "start_time": "2022-03-23T07:09:04.116Z"
   },
   {
    "duration": 13,
    "start_time": "2022-03-23T07:09:08.731Z"
   },
   {
    "duration": 4,
    "start_time": "2022-03-23T07:09:11.258Z"
   },
   {
    "duration": 11,
    "start_time": "2022-03-23T07:09:27.745Z"
   },
   {
    "duration": 67,
    "start_time": "2022-03-23T07:11:14.608Z"
   },
   {
    "duration": 68,
    "start_time": "2022-03-23T07:12:35.074Z"
   },
   {
    "duration": 69,
    "start_time": "2022-03-23T07:13:39.613Z"
   },
   {
    "duration": 68,
    "start_time": "2022-03-23T07:14:10.127Z"
   },
   {
    "duration": 83,
    "start_time": "2022-03-23T07:16:25.979Z"
   },
   {
    "duration": 68,
    "start_time": "2022-03-23T07:16:54.641Z"
   },
   {
    "duration": 72,
    "start_time": "2022-03-23T07:17:04.197Z"
   },
   {
    "duration": 69,
    "start_time": "2022-03-23T07:17:38.553Z"
   },
   {
    "duration": 4,
    "start_time": "2022-03-23T07:17:46.752Z"
   },
   {
    "duration": 86,
    "start_time": "2022-03-23T07:17:46.760Z"
   },
   {
    "duration": 9,
    "start_time": "2022-03-23T07:17:46.848Z"
   },
   {
    "duration": 12,
    "start_time": "2022-03-23T07:17:46.858Z"
   },
   {
    "duration": 18,
    "start_time": "2022-03-23T07:17:46.872Z"
   },
   {
    "duration": 24,
    "start_time": "2022-03-23T07:17:46.893Z"
   },
   {
    "duration": 9,
    "start_time": "2022-03-23T07:17:46.920Z"
   },
   {
    "duration": 12,
    "start_time": "2022-03-23T07:17:46.930Z"
   },
   {
    "duration": 7,
    "start_time": "2022-03-23T07:17:46.944Z"
   },
   {
    "duration": 12,
    "start_time": "2022-03-23T07:17:46.952Z"
   },
   {
    "duration": 11,
    "start_time": "2022-03-23T07:17:50.420Z"
   },
   {
    "duration": 75,
    "start_time": "2022-03-23T07:17:52.868Z"
   },
   {
    "duration": 77,
    "start_time": "2022-03-23T07:18:09.410Z"
   },
   {
    "duration": 17,
    "start_time": "2022-03-23T07:18:21.284Z"
   },
   {
    "duration": 67,
    "start_time": "2022-03-23T07:18:49.252Z"
   },
   {
    "duration": 4,
    "start_time": "2022-03-23T07:18:58.257Z"
   },
   {
    "duration": 89,
    "start_time": "2022-03-23T07:18:58.263Z"
   },
   {
    "duration": 8,
    "start_time": "2022-03-23T07:18:58.354Z"
   },
   {
    "duration": 15,
    "start_time": "2022-03-23T07:18:58.364Z"
   },
   {
    "duration": 40,
    "start_time": "2022-03-23T07:18:58.381Z"
   },
   {
    "duration": 37,
    "start_time": "2022-03-23T07:18:58.423Z"
   },
   {
    "duration": 23,
    "start_time": "2022-03-23T07:18:58.462Z"
   },
   {
    "duration": 27,
    "start_time": "2022-03-23T07:18:58.487Z"
   },
   {
    "duration": 12,
    "start_time": "2022-03-23T07:18:58.516Z"
   },
   {
    "duration": 53,
    "start_time": "2022-03-23T07:18:58.529Z"
   },
   {
    "duration": 19,
    "start_time": "2022-03-23T07:18:58.585Z"
   },
   {
    "duration": 68,
    "start_time": "2022-03-23T07:19:03.101Z"
   },
   {
    "duration": 4,
    "start_time": "2022-03-23T07:19:37.266Z"
   },
   {
    "duration": 69,
    "start_time": "2022-03-23T07:19:37.272Z"
   },
   {
    "duration": 10,
    "start_time": "2022-03-23T07:19:37.344Z"
   },
   {
    "duration": 5,
    "start_time": "2022-03-23T07:19:37.356Z"
   },
   {
    "duration": 10,
    "start_time": "2022-03-23T07:19:37.364Z"
   },
   {
    "duration": 21,
    "start_time": "2022-03-23T07:19:37.376Z"
   },
   {
    "duration": 10,
    "start_time": "2022-03-23T07:19:37.398Z"
   },
   {
    "duration": 12,
    "start_time": "2022-03-23T07:19:37.409Z"
   },
   {
    "duration": 9,
    "start_time": "2022-03-23T07:19:37.423Z"
   },
   {
    "duration": 13,
    "start_time": "2022-03-23T07:19:37.434Z"
   },
   {
    "duration": 16,
    "start_time": "2022-03-23T07:19:37.449Z"
   },
   {
    "duration": 73,
    "start_time": "2022-03-23T07:19:40.196Z"
   },
   {
    "duration": 869,
    "start_time": "2022-03-23T07:19:49.679Z"
   },
   {
    "duration": 4,
    "start_time": "2022-03-23T07:19:54.890Z"
   },
   {
    "duration": 71,
    "start_time": "2022-03-23T07:19:54.896Z"
   },
   {
    "duration": 7,
    "start_time": "2022-03-23T07:19:54.969Z"
   },
   {
    "duration": 5,
    "start_time": "2022-03-23T07:19:54.978Z"
   },
   {
    "duration": 12,
    "start_time": "2022-03-23T07:19:54.985Z"
   },
   {
    "duration": 25,
    "start_time": "2022-03-23T07:19:54.999Z"
   },
   {
    "duration": 9,
    "start_time": "2022-03-23T07:19:55.026Z"
   },
   {
    "duration": 13,
    "start_time": "2022-03-23T07:19:55.037Z"
   },
   {
    "duration": 10,
    "start_time": "2022-03-23T07:19:55.053Z"
   },
   {
    "duration": 13,
    "start_time": "2022-03-23T07:19:55.065Z"
   },
   {
    "duration": 29,
    "start_time": "2022-03-23T07:19:55.080Z"
   },
   {
    "duration": 76,
    "start_time": "2022-03-23T07:20:00.127Z"
   },
   {
    "duration": 18,
    "start_time": "2022-03-23T07:20:29.286Z"
   },
   {
    "duration": 8,
    "start_time": "2022-03-23T07:20:35.810Z"
   },
   {
    "duration": 11,
    "start_time": "2022-03-23T07:20:42.399Z"
   },
   {
    "duration": 66,
    "start_time": "2022-03-23T07:23:15.896Z"
   },
   {
    "duration": 4,
    "start_time": "2022-03-23T07:23:22.269Z"
   },
   {
    "duration": 99,
    "start_time": "2022-03-23T07:23:22.275Z"
   },
   {
    "duration": 8,
    "start_time": "2022-03-23T07:23:22.376Z"
   },
   {
    "duration": 4,
    "start_time": "2022-03-23T07:23:22.386Z"
   },
   {
    "duration": 11,
    "start_time": "2022-03-23T07:23:22.391Z"
   },
   {
    "duration": 20,
    "start_time": "2022-03-23T07:23:22.404Z"
   },
   {
    "duration": 10,
    "start_time": "2022-03-23T07:23:22.426Z"
   },
   {
    "duration": 7,
    "start_time": "2022-03-23T07:23:22.438Z"
   },
   {
    "duration": 6,
    "start_time": "2022-03-23T07:23:22.448Z"
   },
   {
    "duration": 46,
    "start_time": "2022-03-23T07:23:22.455Z"
   },
   {
    "duration": 12,
    "start_time": "2022-03-23T07:23:24.524Z"
   },
   {
    "duration": 77,
    "start_time": "2022-03-23T07:23:26.668Z"
   },
   {
    "duration": 4,
    "start_time": "2022-03-23T07:23:52.822Z"
   },
   {
    "duration": 85,
    "start_time": "2022-03-23T07:23:52.830Z"
   },
   {
    "duration": 8,
    "start_time": "2022-03-23T07:23:52.917Z"
   },
   {
    "duration": 7,
    "start_time": "2022-03-23T07:23:52.927Z"
   },
   {
    "duration": 12,
    "start_time": "2022-03-23T07:23:52.936Z"
   },
   {
    "duration": 21,
    "start_time": "2022-03-23T07:23:52.950Z"
   },
   {
    "duration": 10,
    "start_time": "2022-03-23T07:23:52.972Z"
   },
   {
    "duration": 24,
    "start_time": "2022-03-23T07:23:52.984Z"
   },
   {
    "duration": 7,
    "start_time": "2022-03-23T07:23:53.009Z"
   },
   {
    "duration": 17,
    "start_time": "2022-03-23T07:23:53.017Z"
   },
   {
    "duration": 10,
    "start_time": "2022-03-23T07:23:55.035Z"
   },
   {
    "duration": 73,
    "start_time": "2022-03-23T07:24:01.902Z"
   },
   {
    "duration": 65,
    "start_time": "2022-03-23T07:25:03.646Z"
   },
   {
    "duration": 3,
    "start_time": "2022-03-23T07:25:08.782Z"
   },
   {
    "duration": 70,
    "start_time": "2022-03-23T07:25:08.787Z"
   },
   {
    "duration": 9,
    "start_time": "2022-03-23T07:25:08.859Z"
   },
   {
    "duration": 5,
    "start_time": "2022-03-23T07:25:08.869Z"
   },
   {
    "duration": 15,
    "start_time": "2022-03-23T07:25:08.876Z"
   },
   {
    "duration": 32,
    "start_time": "2022-03-23T07:25:08.893Z"
   },
   {
    "duration": 12,
    "start_time": "2022-03-23T07:25:08.927Z"
   },
   {
    "duration": 17,
    "start_time": "2022-03-23T07:25:08.941Z"
   },
   {
    "duration": 11,
    "start_time": "2022-03-23T07:25:08.960Z"
   },
   {
    "duration": 29,
    "start_time": "2022-03-23T07:25:08.973Z"
   },
   {
    "duration": 12,
    "start_time": "2022-03-23T07:25:10.921Z"
   },
   {
    "duration": 69,
    "start_time": "2022-03-23T07:25:13.138Z"
   },
   {
    "duration": 4,
    "start_time": "2022-03-23T07:25:25.078Z"
   },
   {
    "duration": 69,
    "start_time": "2022-03-23T07:25:25.083Z"
   },
   {
    "duration": 7,
    "start_time": "2022-03-23T07:25:25.154Z"
   },
   {
    "duration": 4,
    "start_time": "2022-03-23T07:25:25.163Z"
   },
   {
    "duration": 11,
    "start_time": "2022-03-23T07:25:25.169Z"
   },
   {
    "duration": 19,
    "start_time": "2022-03-23T07:25:25.181Z"
   },
   {
    "duration": 10,
    "start_time": "2022-03-23T07:25:25.201Z"
   },
   {
    "duration": 10,
    "start_time": "2022-03-23T07:25:25.212Z"
   },
   {
    "duration": 7,
    "start_time": "2022-03-23T07:25:25.224Z"
   },
   {
    "duration": 12,
    "start_time": "2022-03-23T07:25:25.233Z"
   },
   {
    "duration": 12,
    "start_time": "2022-03-23T07:25:27.055Z"
   },
   {
    "duration": 11,
    "start_time": "2022-03-23T07:25:30.435Z"
   },
   {
    "duration": 71,
    "start_time": "2022-03-23T07:25:32.239Z"
   },
   {
    "duration": 9,
    "start_time": "2022-03-23T07:25:47.322Z"
   },
   {
    "duration": 11,
    "start_time": "2022-03-23T07:26:32.006Z"
   },
   {
    "duration": 10,
    "start_time": "2022-03-23T07:26:51.646Z"
   },
   {
    "duration": 4,
    "start_time": "2022-03-23T07:31:07.917Z"
   },
   {
    "duration": 76,
    "start_time": "2022-03-23T07:31:07.923Z"
   },
   {
    "duration": 8,
    "start_time": "2022-03-23T07:31:08.001Z"
   },
   {
    "duration": 4,
    "start_time": "2022-03-23T07:31:08.010Z"
   },
   {
    "duration": 11,
    "start_time": "2022-03-23T07:31:08.017Z"
   },
   {
    "duration": 19,
    "start_time": "2022-03-23T07:31:08.030Z"
   },
   {
    "duration": 10,
    "start_time": "2022-03-23T07:31:08.051Z"
   },
   {
    "duration": 7,
    "start_time": "2022-03-23T07:31:08.101Z"
   },
   {
    "duration": 8,
    "start_time": "2022-03-23T07:31:08.110Z"
   },
   {
    "duration": 12,
    "start_time": "2022-03-23T07:31:08.120Z"
   },
   {
    "duration": 15,
    "start_time": "2022-03-23T07:31:08.134Z"
   },
   {
    "duration": 106,
    "start_time": "2022-03-23T07:31:08.150Z"
   },
   {
    "duration": 10,
    "start_time": "2022-03-23T07:31:08.258Z"
   },
   {
    "duration": 33,
    "start_time": "2022-03-23T07:31:08.270Z"
   },
   {
    "duration": 12,
    "start_time": "2022-03-23T07:31:08.305Z"
   },
   {
    "duration": 13,
    "start_time": "2022-03-23T07:31:08.319Z"
   },
   {
    "duration": 14,
    "start_time": "2022-03-23T07:31:08.334Z"
   },
   {
    "duration": 8,
    "start_time": "2022-03-23T07:31:08.350Z"
   },
   {
    "duration": 20,
    "start_time": "2022-03-23T07:31:08.360Z"
   },
   {
    "duration": 10,
    "start_time": "2022-03-23T07:31:08.401Z"
   },
   {
    "duration": 14,
    "start_time": "2022-03-23T07:31:08.412Z"
   },
   {
    "duration": 12,
    "start_time": "2022-03-23T07:31:08.427Z"
   },
   {
    "duration": 13,
    "start_time": "2022-03-23T07:31:08.440Z"
   },
   {
    "duration": 16,
    "start_time": "2022-03-23T07:31:08.454Z"
   },
   {
    "duration": 299,
    "start_time": "2022-03-23T07:31:08.472Z"
   },
   {
    "duration": 6,
    "start_time": "2022-03-23T07:31:08.772Z"
   },
   {
    "duration": 259,
    "start_time": "2022-03-23T07:31:08.780Z"
   },
   {
    "duration": 288,
    "start_time": "2022-03-23T07:31:09.041Z"
   },
   {
    "duration": 336,
    "start_time": "2022-03-23T07:31:09.333Z"
   },
   {
    "duration": 7,
    "start_time": "2022-03-23T07:31:09.671Z"
   },
   {
    "duration": 188,
    "start_time": "2022-03-23T07:31:09.679Z"
   },
   {
    "duration": 338,
    "start_time": "2022-03-23T07:31:09.869Z"
   },
   {
    "duration": 144,
    "start_time": "2022-03-23T07:31:10.208Z"
   },
   {
    "duration": 207,
    "start_time": "2022-03-23T07:31:10.354Z"
   },
   {
    "duration": 140,
    "start_time": "2022-03-23T07:31:10.563Z"
   },
   {
    "duration": 7,
    "start_time": "2022-03-23T07:31:10.705Z"
   },
   {
    "duration": 137,
    "start_time": "2022-03-23T07:31:10.714Z"
   },
   {
    "duration": 130,
    "start_time": "2022-03-23T07:31:10.853Z"
   },
   {
    "duration": 16,
    "start_time": "2022-03-23T07:31:10.985Z"
   },
   {
    "duration": 11,
    "start_time": "2022-03-23T07:35:01.404Z"
   },
   {
    "duration": 160,
    "start_time": "2022-03-23T07:37:07.377Z"
   },
   {
    "duration": 178,
    "start_time": "2022-03-23T07:37:13.853Z"
   },
   {
    "duration": 267,
    "start_time": "2022-03-23T07:37:19.364Z"
   },
   {
    "duration": 141,
    "start_time": "2022-03-23T07:39:14.065Z"
   },
   {
    "duration": 160,
    "start_time": "2022-03-23T07:39:42.234Z"
   },
   {
    "duration": 158,
    "start_time": "2022-03-23T07:39:54.025Z"
   },
   {
    "duration": 160,
    "start_time": "2022-03-23T07:40:07.933Z"
   },
   {
    "duration": 210,
    "start_time": "2022-03-23T07:41:39.755Z"
   },
   {
    "duration": 165,
    "start_time": "2022-03-23T07:42:01.803Z"
   },
   {
    "duration": 191,
    "start_time": "2022-03-23T07:42:14.257Z"
   },
   {
    "duration": 265,
    "start_time": "2022-03-23T07:42:22.126Z"
   },
   {
    "duration": 3,
    "start_time": "2022-03-23T07:42:31.218Z"
   },
   {
    "duration": 71,
    "start_time": "2022-03-23T07:42:31.223Z"
   },
   {
    "duration": 7,
    "start_time": "2022-03-23T07:42:31.296Z"
   },
   {
    "duration": 4,
    "start_time": "2022-03-23T07:42:31.305Z"
   },
   {
    "duration": 16,
    "start_time": "2022-03-23T07:42:31.311Z"
   },
   {
    "duration": 22,
    "start_time": "2022-03-23T07:42:31.328Z"
   },
   {
    "duration": 9,
    "start_time": "2022-03-23T07:42:31.351Z"
   },
   {
    "duration": 9,
    "start_time": "2022-03-23T07:42:31.361Z"
   },
   {
    "duration": 7,
    "start_time": "2022-03-23T07:42:31.371Z"
   },
   {
    "duration": 30,
    "start_time": "2022-03-23T07:42:31.379Z"
   },
   {
    "duration": 9,
    "start_time": "2022-03-23T07:42:31.412Z"
   },
   {
    "duration": 86,
    "start_time": "2022-03-23T07:42:31.422Z"
   },
   {
    "duration": 10,
    "start_time": "2022-03-23T07:42:31.509Z"
   },
   {
    "duration": 18,
    "start_time": "2022-03-23T07:42:31.520Z"
   },
   {
    "duration": 9,
    "start_time": "2022-03-23T07:42:31.539Z"
   },
   {
    "duration": 10,
    "start_time": "2022-03-23T07:42:31.550Z"
   },
   {
    "duration": 8,
    "start_time": "2022-03-23T07:42:31.561Z"
   },
   {
    "duration": 31,
    "start_time": "2022-03-23T07:42:31.571Z"
   },
   {
    "duration": 11,
    "start_time": "2022-03-23T07:42:31.604Z"
   },
   {
    "duration": 9,
    "start_time": "2022-03-23T07:42:31.617Z"
   },
   {
    "duration": 15,
    "start_time": "2022-03-23T07:42:31.628Z"
   },
   {
    "duration": 13,
    "start_time": "2022-03-23T07:42:31.645Z"
   },
   {
    "duration": 279,
    "start_time": "2022-03-23T07:42:31.659Z"
   },
   {
    "duration": 6,
    "start_time": "2022-03-23T07:42:31.940Z"
   },
   {
    "duration": 174,
    "start_time": "2022-03-23T07:42:31.948Z"
   },
   {
    "duration": 184,
    "start_time": "2022-03-23T07:42:32.123Z"
   },
   {
    "duration": 281,
    "start_time": "2022-03-23T07:42:32.308Z"
   },
   {
    "duration": 14,
    "start_time": "2022-03-23T07:42:32.591Z"
   },
   {
    "duration": 169,
    "start_time": "2022-03-23T07:42:32.608Z"
   },
   {
    "duration": 339,
    "start_time": "2022-03-23T07:42:32.778Z"
   },
   {
    "duration": 119,
    "start_time": "2022-03-23T07:42:33.119Z"
   },
   {
    "duration": 121,
    "start_time": "2022-03-23T07:42:33.240Z"
   },
   {
    "duration": 122,
    "start_time": "2022-03-23T07:42:33.363Z"
   },
   {
    "duration": 16,
    "start_time": "2022-03-23T07:42:33.486Z"
   },
   {
    "duration": 210,
    "start_time": "2022-03-23T07:42:33.503Z"
   },
   {
    "duration": 115,
    "start_time": "2022-03-23T07:42:33.715Z"
   },
   {
    "duration": 5,
    "start_time": "2022-03-23T07:42:33.831Z"
   },
   {
    "duration": 9,
    "start_time": "2022-03-23T08:52:03.967Z"
   },
   {
    "duration": 10,
    "start_time": "2022-03-23T08:52:50.354Z"
   },
   {
    "duration": 204,
    "start_time": "2022-03-23T08:58:57.784Z"
   },
   {
    "duration": 223,
    "start_time": "2022-03-23T08:59:16.649Z"
   },
   {
    "duration": 229,
    "start_time": "2022-03-23T08:59:31.753Z"
   },
   {
    "duration": 215,
    "start_time": "2022-03-23T08:59:40.174Z"
   },
   {
    "duration": 141,
    "start_time": "2022-03-23T09:02:35.092Z"
   },
   {
    "duration": 27,
    "start_time": "2022-03-23T09:06:59.583Z"
   },
   {
    "duration": 11,
    "start_time": "2022-03-23T09:10:06.175Z"
   },
   {
    "duration": 148,
    "start_time": "2022-03-23T09:21:09.031Z"
   },
   {
    "duration": 133,
    "start_time": "2022-03-23T09:21:18.201Z"
   },
   {
    "duration": 127,
    "start_time": "2022-03-23T09:21:33.463Z"
   },
   {
    "duration": 122,
    "start_time": "2022-03-23T09:21:38.421Z"
   },
   {
    "duration": 149,
    "start_time": "2022-03-23T09:21:59.001Z"
   },
   {
    "duration": 134,
    "start_time": "2022-03-23T09:22:07.225Z"
   },
   {
    "duration": 119,
    "start_time": "2022-03-23T09:22:36.867Z"
   },
   {
    "duration": 123,
    "start_time": "2022-03-23T09:22:54.155Z"
   },
   {
    "duration": 6,
    "start_time": "2022-03-23T10:54:31.421Z"
   },
   {
    "duration": 5,
    "start_time": "2022-03-23T10:54:37.592Z"
   },
   {
    "duration": 6,
    "start_time": "2022-03-23T10:54:44.209Z"
   },
   {
    "duration": 3163,
    "start_time": "2022-03-23T11:06:38.082Z"
   },
   {
    "duration": 3185,
    "start_time": "2022-03-23T11:07:27.874Z"
   },
   {
    "duration": 3,
    "start_time": "2022-03-23T11:09:13.999Z"
   },
   {
    "duration": 113,
    "start_time": "2022-03-23T11:09:14.006Z"
   },
   {
    "duration": 9,
    "start_time": "2022-03-23T11:09:14.121Z"
   },
   {
    "duration": 6,
    "start_time": "2022-03-23T11:09:14.131Z"
   },
   {
    "duration": 14,
    "start_time": "2022-03-23T11:09:14.139Z"
   },
   {
    "duration": 19,
    "start_time": "2022-03-23T11:09:14.154Z"
   },
   {
    "duration": 29,
    "start_time": "2022-03-23T11:09:14.175Z"
   },
   {
    "duration": 7,
    "start_time": "2022-03-23T11:09:14.206Z"
   },
   {
    "duration": 5,
    "start_time": "2022-03-23T11:09:14.215Z"
   },
   {
    "duration": 12,
    "start_time": "2022-03-23T11:09:14.222Z"
   },
   {
    "duration": 10,
    "start_time": "2022-03-23T11:09:14.238Z"
   },
   {
    "duration": 104,
    "start_time": "2022-03-23T11:09:14.250Z"
   },
   {
    "duration": 11,
    "start_time": "2022-03-23T11:09:14.356Z"
   },
   {
    "duration": 36,
    "start_time": "2022-03-23T11:09:14.369Z"
   },
   {
    "duration": 11,
    "start_time": "2022-03-23T11:09:14.407Z"
   },
   {
    "duration": 10,
    "start_time": "2022-03-23T11:09:14.419Z"
   },
   {
    "duration": 7,
    "start_time": "2022-03-23T11:09:14.431Z"
   },
   {
    "duration": 8,
    "start_time": "2022-03-23T11:09:14.440Z"
   },
   {
    "duration": 12,
    "start_time": "2022-03-23T11:09:14.449Z"
   },
   {
    "duration": 43,
    "start_time": "2022-03-23T11:09:14.462Z"
   },
   {
    "duration": 12,
    "start_time": "2022-03-23T11:09:14.508Z"
   },
   {
    "duration": 11,
    "start_time": "2022-03-23T11:09:14.521Z"
   },
   {
    "duration": 291,
    "start_time": "2022-03-23T11:09:14.534Z"
   },
   {
    "duration": 7,
    "start_time": "2022-03-23T11:09:14.826Z"
   },
   {
    "duration": 225,
    "start_time": "2022-03-23T11:09:14.834Z"
   },
   {
    "duration": 192,
    "start_time": "2022-03-23T11:09:15.061Z"
   },
   {
    "duration": 289,
    "start_time": "2022-03-23T11:09:15.256Z"
   },
   {
    "duration": 6,
    "start_time": "2022-03-23T11:09:15.547Z"
   },
   {
    "duration": 189,
    "start_time": "2022-03-23T11:09:15.556Z"
   },
   {
    "duration": 298,
    "start_time": "2022-03-23T11:09:15.747Z"
   },
   {
    "duration": 149,
    "start_time": "2022-03-23T11:09:16.047Z"
   },
   {
    "duration": 130,
    "start_time": "2022-03-23T11:09:16.201Z"
   },
   {
    "duration": 145,
    "start_time": "2022-03-23T11:09:16.333Z"
   },
   {
    "duration": 7,
    "start_time": "2022-03-23T11:09:16.481Z"
   },
   {
    "duration": 140,
    "start_time": "2022-03-23T11:09:16.489Z"
   },
   {
    "duration": 131,
    "start_time": "2022-03-23T11:09:16.630Z"
   },
   {
    "duration": 6,
    "start_time": "2022-03-23T11:09:16.763Z"
   },
   {
    "duration": 330,
    "start_time": "2022-03-23T11:09:16.772Z"
   },
   {
    "duration": 147,
    "start_time": "2022-03-23T11:09:17.104Z"
   },
   {
    "duration": 28,
    "start_time": "2022-03-23T11:09:17.252Z"
   },
   {
    "duration": 10,
    "start_time": "2022-03-23T11:09:17.302Z"
   },
   {
    "duration": 5,
    "start_time": "2022-03-23T11:09:17.314Z"
   },
   {
    "duration": 7,
    "start_time": "2022-03-23T11:09:19.667Z"
   },
   {
    "duration": 6,
    "start_time": "2022-03-23T11:09:21.507Z"
   },
   {
    "duration": 3266,
    "start_time": "2022-03-23T11:10:57.817Z"
   },
   {
    "duration": 13,
    "start_time": "2022-03-23T11:13:11.281Z"
   },
   {
    "duration": 13,
    "start_time": "2022-03-23T11:18:46.871Z"
   },
   {
    "duration": 17,
    "start_time": "2022-03-23T11:18:58.160Z"
   },
   {
    "duration": 14,
    "start_time": "2022-03-23T11:19:24.685Z"
   },
   {
    "duration": 10,
    "start_time": "2022-03-23T11:19:31.560Z"
   },
   {
    "duration": 25,
    "start_time": "2022-03-23T11:20:13.562Z"
   },
   {
    "duration": 3181,
    "start_time": "2022-03-23T11:21:39.276Z"
   },
   {
    "duration": 12,
    "start_time": "2022-03-23T11:22:31.275Z"
   },
   {
    "duration": 4,
    "start_time": "2022-03-23T11:26:39.127Z"
   },
   {
    "duration": 96,
    "start_time": "2022-03-23T11:26:39.133Z"
   },
   {
    "duration": 8,
    "start_time": "2022-03-23T11:26:39.231Z"
   },
   {
    "duration": 35,
    "start_time": "2022-03-23T11:26:39.241Z"
   },
   {
    "duration": 21,
    "start_time": "2022-03-23T11:26:39.279Z"
   },
   {
    "duration": 46,
    "start_time": "2022-03-23T11:26:39.301Z"
   },
   {
    "duration": 16,
    "start_time": "2022-03-23T11:26:39.348Z"
   },
   {
    "duration": 18,
    "start_time": "2022-03-23T11:26:39.366Z"
   },
   {
    "duration": 27,
    "start_time": "2022-03-23T11:26:39.386Z"
   },
   {
    "duration": 27,
    "start_time": "2022-03-23T11:26:39.415Z"
   },
   {
    "duration": 25,
    "start_time": "2022-03-23T11:26:39.445Z"
   },
   {
    "duration": 92,
    "start_time": "2022-03-23T11:26:39.471Z"
   },
   {
    "duration": 10,
    "start_time": "2022-03-23T11:26:39.565Z"
   },
   {
    "duration": 35,
    "start_time": "2022-03-23T11:26:39.577Z"
   },
   {
    "duration": 10,
    "start_time": "2022-03-23T11:26:39.614Z"
   },
   {
    "duration": 13,
    "start_time": "2022-03-23T11:26:39.626Z"
   },
   {
    "duration": 19,
    "start_time": "2022-03-23T11:26:39.641Z"
   },
   {
    "duration": 13,
    "start_time": "2022-03-23T11:26:39.661Z"
   },
   {
    "duration": 25,
    "start_time": "2022-03-23T11:26:39.676Z"
   },
   {
    "duration": 21,
    "start_time": "2022-03-23T11:26:39.703Z"
   },
   {
    "duration": 20,
    "start_time": "2022-03-23T11:26:39.726Z"
   },
   {
    "duration": 28,
    "start_time": "2022-03-23T11:26:39.748Z"
   },
   {
    "duration": 285,
    "start_time": "2022-03-23T11:26:39.778Z"
   },
   {
    "duration": 7,
    "start_time": "2022-03-23T11:26:40.064Z"
   },
   {
    "duration": 195,
    "start_time": "2022-03-23T11:26:40.072Z"
   },
   {
    "duration": 182,
    "start_time": "2022-03-23T11:26:40.269Z"
   },
   {
    "duration": 274,
    "start_time": "2022-03-23T11:26:40.453Z"
   },
   {
    "duration": 6,
    "start_time": "2022-03-23T11:26:40.728Z"
   },
   {
    "duration": 289,
    "start_time": "2022-03-23T11:26:40.737Z"
   },
   {
    "duration": 283,
    "start_time": "2022-03-23T11:26:41.028Z"
   },
   {
    "duration": 127,
    "start_time": "2022-03-23T11:26:41.312Z"
   },
   {
    "duration": 134,
    "start_time": "2022-03-23T11:26:41.441Z"
   },
   {
    "duration": 135,
    "start_time": "2022-03-23T11:26:41.577Z"
   },
   {
    "duration": 6,
    "start_time": "2022-03-23T11:26:41.713Z"
   },
   {
    "duration": 129,
    "start_time": "2022-03-23T11:26:41.720Z"
   },
   {
    "duration": 132,
    "start_time": "2022-03-23T11:26:41.851Z"
   },
   {
    "duration": 5,
    "start_time": "2022-03-23T11:26:41.985Z"
   },
   {
    "duration": 247,
    "start_time": "2022-03-23T11:26:41.992Z"
   },
   {
    "duration": 143,
    "start_time": "2022-03-23T11:26:42.241Z"
   },
   {
    "duration": 28,
    "start_time": "2022-03-23T11:26:42.401Z"
   },
   {
    "duration": 10,
    "start_time": "2022-03-23T11:26:42.431Z"
   },
   {
    "duration": 12,
    "start_time": "2022-03-23T11:26:42.443Z"
   },
   {
    "duration": 8,
    "start_time": "2022-03-23T11:26:42.457Z"
   },
   {
    "duration": 49,
    "start_time": "2022-03-23T11:26:42.466Z"
   },
   {
    "duration": 12,
    "start_time": "2022-03-23T11:26:42.516Z"
   },
   {
    "duration": 292,
    "start_time": "2022-03-23T11:34:12.998Z"
   },
   {
    "duration": 287,
    "start_time": "2022-03-23T11:35:17.364Z"
   },
   {
    "duration": 3,
    "start_time": "2022-03-23T11:36:19.965Z"
   },
   {
    "duration": 94,
    "start_time": "2022-03-23T11:36:19.970Z"
   },
   {
    "duration": 9,
    "start_time": "2022-03-23T11:36:20.066Z"
   },
   {
    "duration": 3,
    "start_time": "2022-03-23T11:36:20.078Z"
   },
   {
    "duration": 11,
    "start_time": "2022-03-23T11:36:20.084Z"
   },
   {
    "duration": 21,
    "start_time": "2022-03-23T11:36:20.097Z"
   },
   {
    "duration": 11,
    "start_time": "2022-03-23T11:36:20.119Z"
   },
   {
    "duration": 8,
    "start_time": "2022-03-23T11:36:20.132Z"
   },
   {
    "duration": 6,
    "start_time": "2022-03-23T11:36:20.142Z"
   },
   {
    "duration": 53,
    "start_time": "2022-03-23T11:36:20.150Z"
   },
   {
    "duration": 10,
    "start_time": "2022-03-23T11:36:20.207Z"
   },
   {
    "duration": 86,
    "start_time": "2022-03-23T11:36:20.219Z"
   },
   {
    "duration": 10,
    "start_time": "2022-03-23T11:36:20.306Z"
   },
   {
    "duration": 18,
    "start_time": "2022-03-23T11:36:20.318Z"
   },
   {
    "duration": 10,
    "start_time": "2022-03-23T11:36:20.337Z"
   },
   {
    "duration": 10,
    "start_time": "2022-03-23T11:36:20.349Z"
   },
   {
    "duration": 8,
    "start_time": "2022-03-23T11:36:20.361Z"
   },
   {
    "duration": 5,
    "start_time": "2022-03-23T11:36:20.401Z"
   },
   {
    "duration": 14,
    "start_time": "2022-03-23T11:36:20.408Z"
   },
   {
    "duration": 12,
    "start_time": "2022-03-23T11:36:20.423Z"
   },
   {
    "duration": 10,
    "start_time": "2022-03-23T11:36:20.438Z"
   },
   {
    "duration": 18,
    "start_time": "2022-03-23T11:36:20.450Z"
   },
   {
    "duration": 303,
    "start_time": "2022-03-23T11:36:20.469Z"
   },
   {
    "duration": 7,
    "start_time": "2022-03-23T11:36:20.774Z"
   },
   {
    "duration": 187,
    "start_time": "2022-03-23T11:36:20.783Z"
   },
   {
    "duration": 286,
    "start_time": "2022-03-23T11:36:20.972Z"
   },
   {
    "duration": 278,
    "start_time": "2022-03-23T11:36:21.260Z"
   },
   {
    "duration": 6,
    "start_time": "2022-03-23T11:36:21.539Z"
   },
   {
    "duration": 197,
    "start_time": "2022-03-23T11:36:21.549Z"
   },
   {
    "duration": 278,
    "start_time": "2022-03-23T11:36:21.748Z"
   },
   {
    "duration": 138,
    "start_time": "2022-03-23T11:36:22.028Z"
   },
   {
    "duration": 135,
    "start_time": "2022-03-23T11:36:22.168Z"
   },
   {
    "duration": 135,
    "start_time": "2022-03-23T11:36:22.304Z"
   },
   {
    "duration": 6,
    "start_time": "2022-03-23T11:36:22.441Z"
   },
   {
    "duration": 131,
    "start_time": "2022-03-23T11:36:22.448Z"
   },
   {
    "duration": 130,
    "start_time": "2022-03-23T11:36:22.581Z"
   },
   {
    "duration": 5,
    "start_time": "2022-03-23T11:36:22.714Z"
   },
   {
    "duration": 245,
    "start_time": "2022-03-23T11:36:22.721Z"
   },
   {
    "duration": 128,
    "start_time": "2022-03-23T11:36:22.968Z"
   },
   {
    "duration": 26,
    "start_time": "2022-03-23T11:36:23.101Z"
   },
   {
    "duration": 9,
    "start_time": "2022-03-23T11:36:23.128Z"
   },
   {
    "duration": 8,
    "start_time": "2022-03-23T11:36:23.139Z"
   },
   {
    "duration": 10,
    "start_time": "2022-03-23T11:36:23.149Z"
   },
   {
    "duration": 53,
    "start_time": "2022-03-23T11:36:23.160Z"
   },
   {
    "duration": 12,
    "start_time": "2022-03-23T11:36:23.215Z"
   },
   {
    "duration": 299,
    "start_time": "2022-03-23T11:36:23.229Z"
   },
   {
    "duration": 274,
    "start_time": "2022-03-23T11:36:23.530Z"
   },
   {
    "duration": 113,
    "start_time": "2022-03-24T08:51:25.319Z"
   },
   {
    "duration": 44,
    "start_time": "2022-03-24T10:06:38.649Z"
   },
   {
    "duration": 1530,
    "start_time": "2022-03-24T10:06:43.551Z"
   },
   {
    "duration": 44,
    "start_time": "2022-03-24T10:06:45.084Z"
   },
   {
    "duration": 18,
    "start_time": "2022-03-24T10:06:45.130Z"
   },
   {
    "duration": 8,
    "start_time": "2022-03-24T10:06:45.153Z"
   },
   {
    "duration": 17,
    "start_time": "2022-03-24T10:06:45.163Z"
   },
   {
    "duration": 32,
    "start_time": "2022-03-24T10:06:45.182Z"
   },
   {
    "duration": 19,
    "start_time": "2022-03-24T10:06:45.215Z"
   },
   {
    "duration": 19,
    "start_time": "2022-03-24T10:06:45.236Z"
   },
   {
    "duration": 10,
    "start_time": "2022-03-24T10:06:45.257Z"
   },
   {
    "duration": 12,
    "start_time": "2022-03-24T10:06:45.269Z"
   },
   {
    "duration": 29,
    "start_time": "2022-03-24T10:06:45.283Z"
   },
   {
    "duration": 79,
    "start_time": "2022-03-24T10:06:47.723Z"
   },
   {
    "duration": 6,
    "start_time": "2022-03-24T10:07:13.674Z"
   },
   {
    "duration": 11,
    "start_time": "2022-03-24T10:07:16.314Z"
   },
   {
    "duration": 114,
    "start_time": "2022-03-24T10:12:54.199Z"
   },
   {
    "duration": 64,
    "start_time": "2022-03-24T10:13:07.146Z"
   },
   {
    "duration": 10,
    "start_time": "2022-03-24T10:19:17.066Z"
   },
   {
    "duration": 3,
    "start_time": "2022-03-24T10:21:12.410Z"
   },
   {
    "duration": 50,
    "start_time": "2022-03-24T10:21:12.415Z"
   },
   {
    "duration": 7,
    "start_time": "2022-03-24T10:21:12.467Z"
   },
   {
    "duration": 15,
    "start_time": "2022-03-24T10:21:12.475Z"
   },
   {
    "duration": 15,
    "start_time": "2022-03-24T10:21:12.492Z"
   },
   {
    "duration": 25,
    "start_time": "2022-03-24T10:21:12.509Z"
   },
   {
    "duration": 13,
    "start_time": "2022-03-24T10:21:12.536Z"
   },
   {
    "duration": 20,
    "start_time": "2022-03-24T10:21:12.551Z"
   },
   {
    "duration": 17,
    "start_time": "2022-03-24T10:21:12.573Z"
   },
   {
    "duration": 18,
    "start_time": "2022-03-24T10:21:12.592Z"
   },
   {
    "duration": 12,
    "start_time": "2022-03-24T10:21:15.111Z"
   },
   {
    "duration": 12,
    "start_time": "2022-03-24T10:21:40.122Z"
   },
   {
    "duration": 144,
    "start_time": "2022-03-24T10:23:51.327Z"
   },
   {
    "duration": 16,
    "start_time": "2022-03-24T10:23:57.105Z"
   },
   {
    "duration": 18,
    "start_time": "2022-03-24T10:24:11.273Z"
   },
   {
    "duration": 9,
    "start_time": "2022-03-24T10:24:25.898Z"
   },
   {
    "duration": 188,
    "start_time": "2022-03-24T10:25:40.247Z"
   },
   {
    "duration": 11,
    "start_time": "2022-03-24T10:27:53.838Z"
   },
   {
    "duration": 8,
    "start_time": "2022-03-24T10:28:00.313Z"
   },
   {
    "duration": 10,
    "start_time": "2022-03-24T10:28:07.512Z"
   },
   {
    "duration": 81,
    "start_time": "2022-03-24T10:28:12.885Z"
   },
   {
    "duration": 6,
    "start_time": "2022-03-24T10:28:15.655Z"
   },
   {
    "duration": 15,
    "start_time": "2022-03-24T10:28:16.740Z"
   },
   {
    "duration": 11,
    "start_time": "2022-03-24T10:28:19.727Z"
   },
   {
    "duration": 12,
    "start_time": "2022-03-24T10:30:20.525Z"
   },
   {
    "duration": 4,
    "start_time": "2022-03-24T10:37:26.711Z"
   },
   {
    "duration": 51,
    "start_time": "2022-03-24T10:37:26.717Z"
   },
   {
    "duration": 10,
    "start_time": "2022-03-24T10:37:26.770Z"
   },
   {
    "duration": 13,
    "start_time": "2022-03-24T10:37:26.782Z"
   },
   {
    "duration": 18,
    "start_time": "2022-03-24T10:37:26.798Z"
   },
   {
    "duration": 32,
    "start_time": "2022-03-24T10:37:26.818Z"
   },
   {
    "duration": 20,
    "start_time": "2022-03-24T10:37:26.852Z"
   },
   {
    "duration": 11,
    "start_time": "2022-03-24T10:37:26.874Z"
   },
   {
    "duration": 18,
    "start_time": "2022-03-24T10:37:26.886Z"
   },
   {
    "duration": 30,
    "start_time": "2022-03-24T10:37:26.906Z"
   },
   {
    "duration": 28,
    "start_time": "2022-03-24T10:37:26.938Z"
   },
   {
    "duration": 12,
    "start_time": "2022-03-24T10:37:29.400Z"
   },
   {
    "duration": 140,
    "start_time": "2022-03-24T12:27:54.174Z"
   },
   {
    "duration": 9,
    "start_time": "2022-03-24T13:03:34.270Z"
   },
   {
    "duration": 3,
    "start_time": "2022-03-24T13:03:41.970Z"
   },
   {
    "duration": 106,
    "start_time": "2022-03-24T13:03:41.975Z"
   },
   {
    "duration": 8,
    "start_time": "2022-03-24T13:03:42.082Z"
   },
   {
    "duration": 7,
    "start_time": "2022-03-24T13:03:42.092Z"
   },
   {
    "duration": 15,
    "start_time": "2022-03-24T13:03:42.101Z"
   },
   {
    "duration": 25,
    "start_time": "2022-03-24T13:03:42.118Z"
   },
   {
    "duration": 18,
    "start_time": "2022-03-24T13:03:42.146Z"
   },
   {
    "duration": 8,
    "start_time": "2022-03-24T13:03:42.165Z"
   },
   {
    "duration": 9,
    "start_time": "2022-03-24T13:03:42.175Z"
   },
   {
    "duration": 16,
    "start_time": "2022-03-24T13:03:42.186Z"
   },
   {
    "duration": 32,
    "start_time": "2022-03-24T13:03:42.205Z"
   },
   {
    "duration": 23,
    "start_time": "2022-03-24T13:03:42.239Z"
   },
   {
    "duration": 76,
    "start_time": "2022-03-24T13:03:42.264Z"
   },
   {
    "duration": 5,
    "start_time": "2022-03-24T13:03:42.342Z"
   },
   {
    "duration": 13,
    "start_time": "2022-03-24T13:03:42.351Z"
   },
   {
    "duration": 12,
    "start_time": "2022-03-24T13:03:42.366Z"
   },
   {
    "duration": 24,
    "start_time": "2022-03-24T13:03:42.379Z"
   },
   {
    "duration": 9,
    "start_time": "2022-03-24T13:03:42.405Z"
   },
   {
    "duration": 15,
    "start_time": "2022-03-24T13:03:42.434Z"
   },
   {
    "duration": 13,
    "start_time": "2022-03-24T13:03:42.450Z"
   },
   {
    "duration": 13,
    "start_time": "2022-03-24T13:03:42.464Z"
   },
   {
    "duration": 21,
    "start_time": "2022-03-24T13:03:42.479Z"
   },
   {
    "duration": 22,
    "start_time": "2022-03-24T13:03:42.502Z"
   },
   {
    "duration": 17,
    "start_time": "2022-03-24T13:03:42.526Z"
   },
   {
    "duration": 392,
    "start_time": "2022-03-24T13:03:42.545Z"
   },
   {
    "duration": 7,
    "start_time": "2022-03-24T13:03:42.939Z"
   },
   {
    "duration": 256,
    "start_time": "2022-03-24T13:03:42.950Z"
   },
   {
    "duration": 188,
    "start_time": "2022-03-24T13:03:43.208Z"
   },
   {
    "duration": 343,
    "start_time": "2022-03-24T13:03:43.398Z"
   },
   {
    "duration": 11,
    "start_time": "2022-03-24T13:03:43.743Z"
   },
   {
    "duration": 189,
    "start_time": "2022-03-24T13:03:43.756Z"
   },
   {
    "duration": 363,
    "start_time": "2022-03-24T13:03:43.946Z"
   },
   {
    "duration": 181,
    "start_time": "2022-03-24T13:03:44.311Z"
   },
   {
    "duration": 142,
    "start_time": "2022-03-24T13:03:44.494Z"
   },
   {
    "duration": 141,
    "start_time": "2022-03-24T13:03:44.638Z"
   },
   {
    "duration": 7,
    "start_time": "2022-03-24T13:03:44.781Z"
   },
   {
    "duration": 228,
    "start_time": "2022-03-24T13:03:44.790Z"
   },
   {
    "duration": 141,
    "start_time": "2022-03-24T13:03:45.021Z"
   },
   {
    "duration": 7,
    "start_time": "2022-03-24T13:03:45.164Z"
   },
   {
    "duration": 314,
    "start_time": "2022-03-24T13:03:45.172Z"
   },
   {
    "duration": 202,
    "start_time": "2022-03-24T13:03:45.488Z"
   },
   {
    "duration": 43,
    "start_time": "2022-03-24T13:03:45.692Z"
   },
   {
    "duration": 12,
    "start_time": "2022-03-24T13:03:45.737Z"
   },
   {
    "duration": 14,
    "start_time": "2022-03-24T13:03:45.754Z"
   },
   {
    "duration": 8,
    "start_time": "2022-03-24T13:03:45.769Z"
   },
   {
    "duration": 30,
    "start_time": "2022-03-24T13:03:45.779Z"
   },
   {
    "duration": 38,
    "start_time": "2022-03-24T13:03:45.810Z"
   },
   {
    "duration": 312,
    "start_time": "2022-03-24T13:03:45.850Z"
   },
   {
    "duration": 259,
    "start_time": "2022-03-24T13:03:46.163Z"
   },
   {
    "duration": 136,
    "start_time": "2022-03-24T14:30:55.213Z"
   },
   {
    "duration": 176,
    "start_time": "2022-03-24T14:30:59.483Z"
   },
   {
    "duration": 153,
    "start_time": "2022-03-24T14:31:08.985Z"
   },
   {
    "duration": 126,
    "start_time": "2022-03-24T14:31:14.520Z"
   },
   {
    "duration": 154,
    "start_time": "2022-03-24T14:31:20.905Z"
   },
   {
    "duration": 135,
    "start_time": "2022-03-24T14:31:27.154Z"
   },
   {
    "duration": 5,
    "start_time": "2022-03-24T19:05:14.723Z"
   },
   {
    "duration": 4,
    "start_time": "2022-03-24T19:05:26.723Z"
   },
   {
    "duration": 4,
    "start_time": "2022-03-24T19:07:14.149Z"
   },
   {
    "duration": 4,
    "start_time": "2022-03-24T19:07:34.578Z"
   },
   {
    "duration": 4,
    "start_time": "2022-03-24T19:07:45.916Z"
   },
   {
    "duration": 119,
    "start_time": "2022-03-24T19:33:47.612Z"
   },
   {
    "duration": 9,
    "start_time": "2022-03-24T19:57:59.242Z"
   },
   {
    "duration": 9,
    "start_time": "2022-03-24T19:59:15.616Z"
   },
   {
    "duration": 9,
    "start_time": "2022-03-24T19:59:48.819Z"
   },
   {
    "duration": 10,
    "start_time": "2022-03-24T19:59:54.625Z"
   },
   {
    "duration": 9,
    "start_time": "2022-03-24T20:00:01.818Z"
   },
   {
    "duration": 9,
    "start_time": "2022-03-24T20:00:07.473Z"
   },
   {
    "duration": 9,
    "start_time": "2022-03-24T20:01:25.811Z"
   },
   {
    "duration": 4,
    "start_time": "2022-03-24T20:02:07.220Z"
   },
   {
    "duration": 47,
    "start_time": "2022-03-24T20:02:07.226Z"
   },
   {
    "duration": 9,
    "start_time": "2022-03-24T20:02:07.275Z"
   },
   {
    "duration": 5,
    "start_time": "2022-03-24T20:02:07.286Z"
   },
   {
    "duration": 11,
    "start_time": "2022-03-24T20:02:07.294Z"
   },
   {
    "duration": 21,
    "start_time": "2022-03-24T20:02:07.307Z"
   },
   {
    "duration": 11,
    "start_time": "2022-03-24T20:02:07.333Z"
   },
   {
    "duration": 12,
    "start_time": "2022-03-24T20:02:07.345Z"
   },
   {
    "duration": 7,
    "start_time": "2022-03-24T20:02:07.359Z"
   },
   {
    "duration": 14,
    "start_time": "2022-03-24T20:02:07.368Z"
   },
   {
    "duration": 12,
    "start_time": "2022-03-24T20:02:07.384Z"
   },
   {
    "duration": 37,
    "start_time": "2022-03-24T20:02:07.397Z"
   },
   {
    "duration": 63,
    "start_time": "2022-03-24T20:02:07.436Z"
   },
   {
    "duration": 4,
    "start_time": "2022-03-24T20:02:07.501Z"
   },
   {
    "duration": 30,
    "start_time": "2022-03-24T20:02:07.507Z"
   },
   {
    "duration": 13,
    "start_time": "2022-03-24T20:02:07.539Z"
   },
   {
    "duration": 23,
    "start_time": "2022-03-24T20:02:07.554Z"
   },
   {
    "duration": 9,
    "start_time": "2022-03-24T20:02:07.579Z"
   },
   {
    "duration": 9,
    "start_time": "2022-03-24T20:02:07.590Z"
   },
   {
    "duration": 34,
    "start_time": "2022-03-24T20:02:07.601Z"
   },
   {
    "duration": 15,
    "start_time": "2022-03-24T20:02:07.637Z"
   },
   {
    "duration": 14,
    "start_time": "2022-03-24T20:02:07.654Z"
   },
   {
    "duration": 13,
    "start_time": "2022-03-24T20:02:07.669Z"
   },
   {
    "duration": 14,
    "start_time": "2022-03-24T20:02:07.684Z"
   },
   {
    "duration": 295,
    "start_time": "2022-03-24T20:02:07.699Z"
   },
   {
    "duration": 7,
    "start_time": "2022-03-24T20:02:07.996Z"
   },
   {
    "duration": 190,
    "start_time": "2022-03-24T20:02:08.008Z"
   },
   {
    "duration": 179,
    "start_time": "2022-03-24T20:02:08.200Z"
   },
   {
    "duration": 261,
    "start_time": "2022-03-24T20:02:08.382Z"
   },
   {
    "duration": 6,
    "start_time": "2022-03-24T20:02:08.645Z"
   },
   {
    "duration": 190,
    "start_time": "2022-03-24T20:02:08.653Z"
   },
   {
    "duration": 290,
    "start_time": "2022-03-24T20:02:08.845Z"
   },
   {
    "duration": 129,
    "start_time": "2022-03-24T20:02:09.137Z"
   },
   {
    "duration": 132,
    "start_time": "2022-03-24T20:02:09.268Z"
   },
   {
    "duration": 133,
    "start_time": "2022-03-24T20:02:09.402Z"
   },
   {
    "duration": 5,
    "start_time": "2022-03-24T20:02:09.537Z"
   },
   {
    "duration": 207,
    "start_time": "2022-03-24T20:02:09.543Z"
   },
   {
    "duration": 126,
    "start_time": "2022-03-24T20:02:09.752Z"
   },
   {
    "duration": 5,
    "start_time": "2022-03-24T20:02:09.879Z"
   },
   {
    "duration": 238,
    "start_time": "2022-03-24T20:02:09.886Z"
   },
   {
    "duration": 143,
    "start_time": "2022-03-24T20:02:10.125Z"
   },
   {
    "duration": 25,
    "start_time": "2022-03-24T20:02:10.270Z"
   },
   {
    "duration": 10,
    "start_time": "2022-03-24T20:02:10.296Z"
   },
   {
    "duration": 30,
    "start_time": "2022-03-24T20:02:10.307Z"
   },
   {
    "duration": 12,
    "start_time": "2022-03-24T20:02:10.339Z"
   },
   {
    "duration": 25,
    "start_time": "2022-03-24T20:02:10.353Z"
   },
   {
    "duration": 13,
    "start_time": "2022-03-24T20:02:10.380Z"
   },
   {
    "duration": 325,
    "start_time": "2022-03-24T20:02:10.395Z"
   },
   {
    "duration": 275,
    "start_time": "2022-03-24T20:02:10.721Z"
   },
   {
    "duration": 2362,
    "start_time": "2022-03-25T06:01:00.508Z"
   },
   {
    "duration": 58,
    "start_time": "2022-03-25T06:01:02.872Z"
   },
   {
    "duration": 18,
    "start_time": "2022-03-25T06:01:02.932Z"
   },
   {
    "duration": 5,
    "start_time": "2022-03-25T06:01:02.954Z"
   },
   {
    "duration": 19,
    "start_time": "2022-03-25T06:01:02.961Z"
   },
   {
    "duration": 42,
    "start_time": "2022-03-25T06:01:02.983Z"
   },
   {
    "duration": 16,
    "start_time": "2022-03-25T06:01:03.027Z"
   },
   {
    "duration": 18,
    "start_time": "2022-03-25T06:01:03.045Z"
   },
   {
    "duration": 7,
    "start_time": "2022-03-25T06:01:03.083Z"
   },
   {
    "duration": 21,
    "start_time": "2022-03-25T06:01:03.094Z"
   },
   {
    "duration": 22,
    "start_time": "2022-03-25T06:01:03.117Z"
   },
   {
    "duration": 48,
    "start_time": "2022-03-25T06:01:03.141Z"
   },
   {
    "duration": 152,
    "start_time": "2022-03-25T06:01:03.191Z"
   },
   {
    "duration": 7,
    "start_time": "2022-03-25T06:01:03.345Z"
   },
   {
    "duration": 32,
    "start_time": "2022-03-25T06:01:03.355Z"
   },
   {
    "duration": 23,
    "start_time": "2022-03-25T06:01:03.389Z"
   },
   {
    "duration": 28,
    "start_time": "2022-03-25T06:01:03.415Z"
   },
   {
    "duration": 50,
    "start_time": "2022-03-25T06:01:03.445Z"
   },
   {
    "duration": 37,
    "start_time": "2022-03-25T06:01:03.498Z"
   },
   {
    "duration": 18,
    "start_time": "2022-03-25T06:01:03.538Z"
   },
   {
    "duration": 37,
    "start_time": "2022-03-25T06:01:03.559Z"
   },
   {
    "duration": 40,
    "start_time": "2022-03-25T06:01:03.599Z"
   },
   {
    "duration": 21,
    "start_time": "2022-03-25T06:01:03.643Z"
   },
   {
    "duration": 28,
    "start_time": "2022-03-25T06:01:03.666Z"
   },
   {
    "duration": 490,
    "start_time": "2022-03-25T06:01:03.696Z"
   },
   {
    "duration": 10,
    "start_time": "2022-03-25T06:01:04.188Z"
   },
   {
    "duration": 443,
    "start_time": "2022-03-25T06:01:04.200Z"
   },
   {
    "duration": 313,
    "start_time": "2022-03-25T06:01:04.648Z"
   },
   {
    "duration": 439,
    "start_time": "2022-03-25T06:01:04.963Z"
   },
   {
    "duration": 9,
    "start_time": "2022-03-25T06:01:05.404Z"
   },
   {
    "duration": 321,
    "start_time": "2022-03-25T06:01:05.415Z"
   },
   {
    "duration": 480,
    "start_time": "2022-03-25T06:01:05.738Z"
   },
   {
    "duration": 244,
    "start_time": "2022-03-25T06:01:06.220Z"
   },
   {
    "duration": 228,
    "start_time": "2022-03-25T06:01:06.467Z"
   },
   {
    "duration": 233,
    "start_time": "2022-03-25T06:01:06.698Z"
   },
   {
    "duration": 8,
    "start_time": "2022-03-25T06:01:06.933Z"
   },
   {
    "duration": 311,
    "start_time": "2022-03-25T06:01:06.943Z"
   },
   {
    "duration": 214,
    "start_time": "2022-03-25T06:01:07.256Z"
   },
   {
    "duration": 15,
    "start_time": "2022-03-25T06:01:07.472Z"
   },
   {
    "duration": 378,
    "start_time": "2022-03-25T06:01:07.490Z"
   },
   {
    "duration": 273,
    "start_time": "2022-03-25T06:01:07.871Z"
   },
   {
    "duration": 52,
    "start_time": "2022-03-25T06:01:08.146Z"
   },
   {
    "duration": 15,
    "start_time": "2022-03-25T06:01:08.200Z"
   },
   {
    "duration": 14,
    "start_time": "2022-03-25T06:01:08.217Z"
   },
   {
    "duration": 11,
    "start_time": "2022-03-25T06:01:08.234Z"
   },
   {
    "duration": 66,
    "start_time": "2022-03-25T06:01:08.247Z"
   },
   {
    "duration": 20,
    "start_time": "2022-03-25T06:01:08.315Z"
   },
   {
    "duration": 487,
    "start_time": "2022-03-25T06:01:08.337Z"
   },
   {
    "duration": 383,
    "start_time": "2022-03-25T06:01:08.826Z"
   },
   {
    "duration": 7,
    "start_time": "2022-03-25T06:05:01.752Z"
   },
   {
    "duration": 1383,
    "start_time": "2022-03-25T09:12:40.833Z"
   },
   {
    "duration": 42,
    "start_time": "2022-03-25T09:12:42.219Z"
   },
   {
    "duration": 15,
    "start_time": "2022-03-25T09:12:42.263Z"
   },
   {
    "duration": 7,
    "start_time": "2022-03-25T09:12:42.280Z"
   },
   {
    "duration": 15,
    "start_time": "2022-03-25T09:12:42.289Z"
   },
   {
    "duration": 29,
    "start_time": "2022-03-25T09:12:42.306Z"
   },
   {
    "duration": 11,
    "start_time": "2022-03-25T09:12:42.337Z"
   },
   {
    "duration": 24,
    "start_time": "2022-03-25T09:12:42.350Z"
   },
   {
    "duration": 15,
    "start_time": "2022-03-25T09:12:42.376Z"
   },
   {
    "duration": 17,
    "start_time": "2022-03-25T09:12:42.400Z"
   },
   {
    "duration": 26,
    "start_time": "2022-03-25T09:12:42.419Z"
   },
   {
    "duration": 21,
    "start_time": "2022-03-25T09:12:42.448Z"
   },
   {
    "duration": 85,
    "start_time": "2022-03-25T09:12:42.471Z"
   },
   {
    "duration": 5,
    "start_time": "2022-03-25T09:12:42.558Z"
   },
   {
    "duration": 15,
    "start_time": "2022-03-25T09:12:42.565Z"
   },
   {
    "duration": 30,
    "start_time": "2022-03-25T09:12:42.582Z"
   },
   {
    "duration": 22,
    "start_time": "2022-03-25T09:12:42.614Z"
   },
   {
    "duration": 10,
    "start_time": "2022-03-25T09:12:42.638Z"
   },
   {
    "duration": 14,
    "start_time": "2022-03-25T09:12:42.649Z"
   },
   {
    "duration": 12,
    "start_time": "2022-03-25T09:12:42.665Z"
   },
   {
    "duration": 12,
    "start_time": "2022-03-25T09:12:42.701Z"
   },
   {
    "duration": 23,
    "start_time": "2022-03-25T09:12:42.715Z"
   },
   {
    "duration": 13,
    "start_time": "2022-03-25T09:12:42.740Z"
   },
   {
    "duration": 17,
    "start_time": "2022-03-25T09:12:42.755Z"
   },
   {
    "duration": 309,
    "start_time": "2022-03-25T09:12:42.774Z"
   },
   {
    "duration": 7,
    "start_time": "2022-03-25T09:12:43.084Z"
   },
   {
    "duration": 280,
    "start_time": "2022-03-25T09:12:43.093Z"
   },
   {
    "duration": 202,
    "start_time": "2022-03-25T09:12:43.377Z"
   },
   {
    "duration": 359,
    "start_time": "2022-03-25T09:12:43.581Z"
   },
   {
    "duration": 7,
    "start_time": "2022-03-25T09:12:43.942Z"
   },
   {
    "duration": 203,
    "start_time": "2022-03-25T09:12:43.951Z"
   },
   {
    "duration": 326,
    "start_time": "2022-03-25T09:12:44.156Z"
   },
   {
    "duration": 148,
    "start_time": "2022-03-25T09:12:44.484Z"
   },
   {
    "duration": 146,
    "start_time": "2022-03-25T09:12:44.634Z"
   },
   {
    "duration": 150,
    "start_time": "2022-03-25T09:12:44.783Z"
   },
   {
    "duration": 6,
    "start_time": "2022-03-25T09:12:44.935Z"
   },
   {
    "duration": 222,
    "start_time": "2022-03-25T09:12:44.942Z"
   },
   {
    "duration": 139,
    "start_time": "2022-03-25T09:12:45.166Z"
   },
   {
    "duration": 6,
    "start_time": "2022-03-25T09:12:45.307Z"
   },
   {
    "duration": 244,
    "start_time": "2022-03-25T09:12:45.315Z"
   },
   {
    "duration": 156,
    "start_time": "2022-03-25T09:12:45.561Z"
   },
   {
    "duration": 31,
    "start_time": "2022-03-25T09:12:45.718Z"
   },
   {
    "duration": 11,
    "start_time": "2022-03-25T09:12:45.751Z"
   },
   {
    "duration": 36,
    "start_time": "2022-03-25T09:12:45.765Z"
   },
   {
    "duration": 10,
    "start_time": "2022-03-25T09:12:45.803Z"
   },
   {
    "duration": 10,
    "start_time": "2022-03-25T09:12:45.815Z"
   },
   {
    "duration": 27,
    "start_time": "2022-03-25T09:12:45.826Z"
   },
   {
    "duration": 15,
    "start_time": "2022-03-25T09:12:45.855Z"
   },
   {
    "duration": 1452,
    "start_time": "2022-03-26T12:41:29.923Z"
   },
   {
    "duration": 77,
    "start_time": "2022-03-26T12:41:31.377Z"
   },
   {
    "duration": 13,
    "start_time": "2022-03-26T12:41:31.455Z"
   },
   {
    "duration": 9,
    "start_time": "2022-03-26T12:41:31.470Z"
   },
   {
    "duration": 20,
    "start_time": "2022-03-26T12:41:31.481Z"
   },
   {
    "duration": 26,
    "start_time": "2022-03-26T12:41:31.502Z"
   },
   {
    "duration": 11,
    "start_time": "2022-03-26T12:41:31.530Z"
   },
   {
    "duration": 11,
    "start_time": "2022-03-26T12:41:31.542Z"
   },
   {
    "duration": 13,
    "start_time": "2022-03-26T12:41:31.555Z"
   },
   {
    "duration": 14,
    "start_time": "2022-03-26T12:41:31.571Z"
   },
   {
    "duration": 17,
    "start_time": "2022-03-26T12:41:31.587Z"
   },
   {
    "duration": 32,
    "start_time": "2022-03-26T12:41:31.606Z"
   },
   {
    "duration": 74,
    "start_time": "2022-03-26T12:41:31.639Z"
   },
   {
    "duration": 17,
    "start_time": "2022-03-26T12:41:31.715Z"
   },
   {
    "duration": 22,
    "start_time": "2022-03-26T12:41:31.733Z"
   },
   {
    "duration": 21,
    "start_time": "2022-03-26T12:41:31.756Z"
   },
   {
    "duration": 24,
    "start_time": "2022-03-26T12:41:31.779Z"
   },
   {
    "duration": 12,
    "start_time": "2022-03-26T12:41:31.805Z"
   },
   {
    "duration": 17,
    "start_time": "2022-03-26T12:41:31.819Z"
   },
   {
    "duration": 20,
    "start_time": "2022-03-26T12:41:31.838Z"
   },
   {
    "duration": 21,
    "start_time": "2022-03-26T12:41:31.859Z"
   },
   {
    "duration": 21,
    "start_time": "2022-03-26T12:41:31.882Z"
   },
   {
    "duration": 16,
    "start_time": "2022-03-26T12:41:31.905Z"
   },
   {
    "duration": 15,
    "start_time": "2022-03-26T12:41:31.922Z"
   },
   {
    "duration": 301,
    "start_time": "2022-03-26T12:41:31.939Z"
   },
   {
    "duration": 7,
    "start_time": "2022-03-26T12:41:32.242Z"
   },
   {
    "duration": 366,
    "start_time": "2022-03-26T12:41:32.250Z"
   },
   {
    "duration": 0,
    "start_time": "2022-03-26T12:41:32.619Z"
   },
   {
    "duration": 0,
    "start_time": "2022-03-26T12:41:32.620Z"
   },
   {
    "duration": 0,
    "start_time": "2022-03-26T12:41:32.621Z"
   },
   {
    "duration": 0,
    "start_time": "2022-03-26T12:41:32.622Z"
   },
   {
    "duration": 0,
    "start_time": "2022-03-26T12:41:32.623Z"
   },
   {
    "duration": 0,
    "start_time": "2022-03-26T12:41:32.632Z"
   },
   {
    "duration": 0,
    "start_time": "2022-03-26T12:41:32.633Z"
   },
   {
    "duration": 0,
    "start_time": "2022-03-26T12:41:32.634Z"
   },
   {
    "duration": 0,
    "start_time": "2022-03-26T12:41:32.636Z"
   },
   {
    "duration": 0,
    "start_time": "2022-03-26T12:41:32.638Z"
   },
   {
    "duration": 0,
    "start_time": "2022-03-26T12:41:32.639Z"
   },
   {
    "duration": 0,
    "start_time": "2022-03-26T12:41:32.640Z"
   },
   {
    "duration": 0,
    "start_time": "2022-03-26T12:41:32.641Z"
   },
   {
    "duration": 0,
    "start_time": "2022-03-26T12:41:32.642Z"
   },
   {
    "duration": 0,
    "start_time": "2022-03-26T12:41:32.643Z"
   },
   {
    "duration": 0,
    "start_time": "2022-03-26T12:41:32.644Z"
   },
   {
    "duration": 0,
    "start_time": "2022-03-26T12:41:32.646Z"
   },
   {
    "duration": 0,
    "start_time": "2022-03-26T12:41:32.647Z"
   },
   {
    "duration": 0,
    "start_time": "2022-03-26T12:41:32.648Z"
   },
   {
    "duration": 0,
    "start_time": "2022-03-26T12:41:32.649Z"
   },
   {
    "duration": 0,
    "start_time": "2022-03-26T12:41:32.650Z"
   },
   {
    "duration": 200,
    "start_time": "2022-03-26T12:43:13.604Z"
   },
   {
    "duration": 207,
    "start_time": "2022-03-26T12:43:45.763Z"
   },
   {
    "duration": 4,
    "start_time": "2022-03-26T12:44:21.408Z"
   },
   {
    "duration": 65,
    "start_time": "2022-03-26T12:44:21.417Z"
   },
   {
    "duration": 8,
    "start_time": "2022-03-26T12:44:21.484Z"
   },
   {
    "duration": 7,
    "start_time": "2022-03-26T12:44:21.493Z"
   },
   {
    "duration": 17,
    "start_time": "2022-03-26T12:44:21.503Z"
   },
   {
    "duration": 23,
    "start_time": "2022-03-26T12:44:21.521Z"
   },
   {
    "duration": 11,
    "start_time": "2022-03-26T12:44:21.546Z"
   },
   {
    "duration": 8,
    "start_time": "2022-03-26T12:44:21.559Z"
   },
   {
    "duration": 7,
    "start_time": "2022-03-26T12:44:21.569Z"
   },
   {
    "duration": 21,
    "start_time": "2022-03-26T12:44:21.578Z"
   },
   {
    "duration": 35,
    "start_time": "2022-03-26T12:44:21.602Z"
   },
   {
    "duration": 16,
    "start_time": "2022-03-26T12:44:21.639Z"
   },
   {
    "duration": 96,
    "start_time": "2022-03-26T12:44:21.657Z"
   },
   {
    "duration": 5,
    "start_time": "2022-03-26T12:44:21.755Z"
   },
   {
    "duration": 17,
    "start_time": "2022-03-26T12:44:21.762Z"
   },
   {
    "duration": 17,
    "start_time": "2022-03-26T12:44:21.781Z"
   },
   {
    "duration": 37,
    "start_time": "2022-03-26T12:44:21.800Z"
   },
   {
    "duration": 11,
    "start_time": "2022-03-26T12:44:21.838Z"
   },
   {
    "duration": 12,
    "start_time": "2022-03-26T12:44:21.850Z"
   },
   {
    "duration": 14,
    "start_time": "2022-03-26T12:44:21.864Z"
   },
   {
    "duration": 12,
    "start_time": "2022-03-26T12:44:21.880Z"
   },
   {
    "duration": 13,
    "start_time": "2022-03-26T12:44:21.894Z"
   },
   {
    "duration": 33,
    "start_time": "2022-03-26T12:44:21.908Z"
   },
   {
    "duration": 20,
    "start_time": "2022-03-26T12:44:21.943Z"
   },
   {
    "duration": 290,
    "start_time": "2022-03-26T12:44:21.965Z"
   },
   {
    "duration": 7,
    "start_time": "2022-03-26T12:44:22.257Z"
   },
   {
    "duration": 224,
    "start_time": "2022-03-26T12:44:22.266Z"
   },
   {
    "duration": 215,
    "start_time": "2022-03-26T12:44:22.492Z"
   },
   {
    "duration": 363,
    "start_time": "2022-03-26T12:44:22.710Z"
   },
   {
    "duration": 6,
    "start_time": "2022-03-26T12:44:23.075Z"
   },
   {
    "duration": 282,
    "start_time": "2022-03-26T12:44:23.083Z"
   },
   {
    "duration": 305,
    "start_time": "2022-03-26T12:44:23.367Z"
   },
   {
    "duration": 141,
    "start_time": "2022-03-26T12:44:23.674Z"
   },
   {
    "duration": 145,
    "start_time": "2022-03-26T12:44:23.817Z"
   },
   {
    "duration": 152,
    "start_time": "2022-03-26T12:44:23.964Z"
   },
   {
    "duration": 14,
    "start_time": "2022-03-26T12:44:24.118Z"
   },
   {
    "duration": 141,
    "start_time": "2022-03-26T12:44:24.133Z"
   },
   {
    "duration": 140,
    "start_time": "2022-03-26T12:44:24.276Z"
   },
   {
    "duration": 13,
    "start_time": "2022-03-26T12:44:24.418Z"
   },
   {
    "duration": 239,
    "start_time": "2022-03-26T12:44:24.433Z"
   },
   {
    "duration": 138,
    "start_time": "2022-03-26T12:44:24.674Z"
   },
   {
    "duration": 42,
    "start_time": "2022-03-26T12:44:24.814Z"
   },
   {
    "duration": 11,
    "start_time": "2022-03-26T12:44:24.857Z"
   },
   {
    "duration": 9,
    "start_time": "2022-03-26T12:44:24.870Z"
   },
   {
    "duration": 10,
    "start_time": "2022-03-26T12:44:24.881Z"
   },
   {
    "duration": 10,
    "start_time": "2022-03-26T12:44:24.893Z"
   },
   {
    "duration": 48,
    "start_time": "2022-03-26T12:44:24.905Z"
   },
   {
    "duration": 14,
    "start_time": "2022-03-26T12:44:24.954Z"
   },
   {
    "duration": 297,
    "start_time": "2022-03-26T12:47:44.756Z"
   },
   {
    "duration": 213,
    "start_time": "2022-03-26T12:47:53.057Z"
   },
   {
    "duration": 341,
    "start_time": "2022-03-26T12:48:01.735Z"
   },
   {
    "duration": 134,
    "start_time": "2022-03-26T12:48:29.088Z"
   },
   {
    "duration": 148,
    "start_time": "2022-03-26T12:48:35.944Z"
   },
   {
    "duration": 215,
    "start_time": "2022-03-26T12:48:44.374Z"
   },
   {
    "duration": 159,
    "start_time": "2022-03-26T12:48:51.357Z"
   },
   {
    "duration": 10,
    "start_time": "2022-03-26T12:55:04.377Z"
   },
   {
    "duration": 4,
    "start_time": "2022-03-26T13:00:53.402Z"
   },
   {
    "duration": 99,
    "start_time": "2022-03-26T13:00:53.408Z"
   },
   {
    "duration": 14,
    "start_time": "2022-03-26T13:00:53.509Z"
   },
   {
    "duration": 27,
    "start_time": "2022-03-26T13:00:53.524Z"
   },
   {
    "duration": 33,
    "start_time": "2022-03-26T13:00:53.554Z"
   },
   {
    "duration": 62,
    "start_time": "2022-03-26T13:00:53.589Z"
   },
   {
    "duration": 20,
    "start_time": "2022-03-26T13:00:53.653Z"
   },
   {
    "duration": 28,
    "start_time": "2022-03-26T13:00:53.675Z"
   },
   {
    "duration": 37,
    "start_time": "2022-03-26T13:00:53.705Z"
   },
   {
    "duration": 33,
    "start_time": "2022-03-26T13:00:53.744Z"
   },
   {
    "duration": 33,
    "start_time": "2022-03-26T13:00:53.780Z"
   },
   {
    "duration": 33,
    "start_time": "2022-03-26T13:00:53.815Z"
   },
   {
    "duration": 101,
    "start_time": "2022-03-26T13:00:53.850Z"
   },
   {
    "duration": 6,
    "start_time": "2022-03-26T13:00:53.953Z"
   },
   {
    "duration": 34,
    "start_time": "2022-03-26T13:00:53.961Z"
   },
   {
    "duration": 32,
    "start_time": "2022-03-26T13:00:53.997Z"
   },
   {
    "duration": 62,
    "start_time": "2022-03-26T13:00:54.031Z"
   },
   {
    "duration": 46,
    "start_time": "2022-03-26T13:00:54.095Z"
   },
   {
    "duration": 39,
    "start_time": "2022-03-26T13:00:54.143Z"
   },
   {
    "duration": 41,
    "start_time": "2022-03-26T13:00:54.184Z"
   },
   {
    "duration": 62,
    "start_time": "2022-03-26T13:00:54.227Z"
   },
   {
    "duration": 54,
    "start_time": "2022-03-26T13:00:54.290Z"
   },
   {
    "duration": 41,
    "start_time": "2022-03-26T13:00:54.346Z"
   },
   {
    "duration": 45,
    "start_time": "2022-03-26T13:00:54.389Z"
   },
   {
    "duration": 342,
    "start_time": "2022-03-26T13:00:54.436Z"
   },
   {
    "duration": 7,
    "start_time": "2022-03-26T13:00:54.780Z"
   },
   {
    "duration": 248,
    "start_time": "2022-03-26T13:00:54.789Z"
   },
   {
    "duration": 240,
    "start_time": "2022-03-26T13:00:55.039Z"
   },
   {
    "duration": 302,
    "start_time": "2022-03-26T13:00:55.284Z"
   },
   {
    "duration": 7,
    "start_time": "2022-03-26T13:00:55.588Z"
   },
   {
    "duration": 246,
    "start_time": "2022-03-26T13:00:55.597Z"
   },
   {
    "duration": 333,
    "start_time": "2022-03-26T13:00:55.845Z"
   },
   {
    "duration": 131,
    "start_time": "2022-03-26T13:00:56.180Z"
   },
   {
    "duration": 159,
    "start_time": "2022-03-26T13:00:56.313Z"
   },
   {
    "duration": 174,
    "start_time": "2022-03-26T13:00:56.474Z"
   },
   {
    "duration": 7,
    "start_time": "2022-03-26T13:00:56.649Z"
   },
   {
    "duration": 162,
    "start_time": "2022-03-26T13:00:56.658Z"
   },
   {
    "duration": 159,
    "start_time": "2022-03-26T13:00:56.821Z"
   },
   {
    "duration": 6,
    "start_time": "2022-03-26T13:00:56.982Z"
   },
   {
    "duration": 334,
    "start_time": "2022-03-26T13:00:56.989Z"
   },
   {
    "duration": 153,
    "start_time": "2022-03-26T13:00:57.326Z"
   },
   {
    "duration": 29,
    "start_time": "2022-03-26T13:00:57.480Z"
   },
   {
    "duration": 29,
    "start_time": "2022-03-26T13:00:57.510Z"
   },
   {
    "duration": 9,
    "start_time": "2022-03-26T13:00:57.541Z"
   },
   {
    "duration": 11,
    "start_time": "2022-03-26T13:00:57.552Z"
   },
   {
    "duration": 12,
    "start_time": "2022-03-26T13:00:57.564Z"
   },
   {
    "duration": 26,
    "start_time": "2022-03-26T13:00:57.578Z"
   },
   {
    "duration": 43,
    "start_time": "2022-03-26T13:00:57.606Z"
   },
   {
    "duration": 1317,
    "start_time": "2022-06-27T15:44:06.812Z"
   },
   {
    "duration": 108,
    "start_time": "2022-06-27T15:44:08.131Z"
   },
   {
    "duration": 11,
    "start_time": "2022-06-27T15:44:08.240Z"
   },
   {
    "duration": 9,
    "start_time": "2022-06-27T15:44:08.253Z"
   },
   {
    "duration": 42,
    "start_time": "2022-06-27T15:44:08.263Z"
   },
   {
    "duration": 30,
    "start_time": "2022-06-27T15:44:08.306Z"
   },
   {
    "duration": 23,
    "start_time": "2022-06-27T15:44:08.337Z"
   },
   {
    "duration": 16,
    "start_time": "2022-06-27T15:44:08.362Z"
   },
   {
    "duration": 21,
    "start_time": "2022-06-27T15:44:08.380Z"
   },
   {
    "duration": 26,
    "start_time": "2022-06-27T15:44:08.404Z"
   },
   {
    "duration": 32,
    "start_time": "2022-06-27T15:44:08.432Z"
   },
   {
    "duration": 34,
    "start_time": "2022-06-27T15:44:08.466Z"
   },
   {
    "duration": 87,
    "start_time": "2022-06-27T15:44:08.502Z"
   },
   {
    "duration": 5,
    "start_time": "2022-06-27T15:44:08.590Z"
   },
   {
    "duration": 16,
    "start_time": "2022-06-27T15:44:08.596Z"
   },
   {
    "duration": 24,
    "start_time": "2022-06-27T15:44:08.613Z"
   },
   {
    "duration": 24,
    "start_time": "2022-06-27T15:44:08.638Z"
   },
   {
    "duration": 9,
    "start_time": "2022-06-27T15:44:08.663Z"
   },
   {
    "duration": 8,
    "start_time": "2022-06-27T15:44:08.674Z"
   },
   {
    "duration": 11,
    "start_time": "2022-06-27T15:44:08.684Z"
   },
   {
    "duration": 32,
    "start_time": "2022-06-27T15:44:08.696Z"
   },
   {
    "duration": 21,
    "start_time": "2022-06-27T15:44:08.729Z"
   },
   {
    "duration": 11,
    "start_time": "2022-06-27T15:44:08.752Z"
   },
   {
    "duration": 13,
    "start_time": "2022-06-27T15:44:08.764Z"
   },
   {
    "duration": 271,
    "start_time": "2022-06-27T15:44:08.778Z"
   },
   {
    "duration": 5,
    "start_time": "2022-06-27T15:44:09.051Z"
   },
   {
    "duration": 298,
    "start_time": "2022-06-27T15:44:09.057Z"
   },
   {
    "duration": 196,
    "start_time": "2022-06-27T15:44:09.358Z"
   },
   {
    "duration": 317,
    "start_time": "2022-06-27T15:44:09.556Z"
   },
   {
    "duration": 6,
    "start_time": "2022-06-27T15:44:09.874Z"
   },
   {
    "duration": 202,
    "start_time": "2022-06-27T15:44:09.882Z"
   },
   {
    "duration": 309,
    "start_time": "2022-06-27T15:44:10.086Z"
   },
   {
    "duration": 153,
    "start_time": "2022-06-27T15:44:10.397Z"
   },
   {
    "duration": 129,
    "start_time": "2022-06-27T15:44:10.551Z"
   },
   {
    "duration": 151,
    "start_time": "2022-06-27T15:44:10.682Z"
   },
   {
    "duration": 5,
    "start_time": "2022-06-27T15:44:10.835Z"
   },
   {
    "duration": 206,
    "start_time": "2022-06-27T15:44:10.842Z"
   },
   {
    "duration": 131,
    "start_time": "2022-06-27T15:44:11.050Z"
   },
   {
    "duration": 5,
    "start_time": "2022-06-27T15:44:11.183Z"
   },
   {
    "duration": 223,
    "start_time": "2022-06-27T15:44:11.190Z"
   },
   {
    "duration": 159,
    "start_time": "2022-06-27T15:44:11.415Z"
   },
   {
    "duration": 26,
    "start_time": "2022-06-27T15:44:11.575Z"
   },
   {
    "duration": 28,
    "start_time": "2022-06-27T15:44:11.602Z"
   },
   {
    "duration": 10,
    "start_time": "2022-06-27T15:44:11.631Z"
   },
   {
    "duration": 8,
    "start_time": "2022-06-27T15:44:11.642Z"
   },
   {
    "duration": 11,
    "start_time": "2022-06-27T15:44:11.651Z"
   },
   {
    "duration": 25,
    "start_time": "2022-06-27T15:44:11.663Z"
   },
   {
    "duration": 12,
    "start_time": "2022-06-27T15:44:11.690Z"
   }
  ],
  "kernelspec": {
   "display_name": "Python 3 (ipykernel)",
   "language": "python",
   "name": "python3"
  },
  "language_info": {
   "codemirror_mode": {
    "name": "ipython",
    "version": 3
   },
   "file_extension": ".py",
   "mimetype": "text/x-python",
   "name": "python",
   "nbconvert_exporter": "python",
   "pygments_lexer": "ipython3",
   "version": "3.9.5"
  },
  "toc": {
   "base_numbering": 1,
   "nav_menu": {},
   "number_sections": true,
   "sideBar": true,
   "skip_h1_title": true,
   "title_cell": "Содержание",
   "title_sidebar": "Содержание",
   "toc_cell": true,
   "toc_position": {
    "height": "calc(100% - 180px)",
    "left": "10px",
    "top": "150px",
    "width": "285.594px"
   },
   "toc_section_display": true,
   "toc_window_display": false
  }
 },
 "nbformat": 4,
 "nbformat_minor": 2
}
